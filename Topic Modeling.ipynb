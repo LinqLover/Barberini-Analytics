{
 "cells": [
  {
   "cell_type": "code",
   "execution_count": 1,
   "metadata": {},
   "outputs": [],
   "source": [
    "# Useful libs\n",
    "from sklearn.datasets import fetch_20newsgroups\n",
    "import pickle\n",
    "import pandas as pd\n",
    "import numpy as np\n",
    "import spacy\n",
    "\n",
    "# STTM lib from Github\n",
    "from gsdmm import MovieGroupProcess\n",
    "\n",
    "# Load the 20NewsGroups dataset from sklearn\n",
    "cats = ['talk.politics.mideast', 'comp.windows.x', 'sci.space']\n",
    "newsgroups_train = fetch_20newsgroups(subset='train', categories=cats)"
   ]
  },
  {
   "cell_type": "code",
   "execution_count": 15,
   "metadata": {},
   "outputs": [],
   "source": [
    "from spacy.lang.en import English\n",
    "\n",
    "# Load English tokenizer, tagger, parser, NER and word vectors\n",
    "nlp = English()\n",
    "docs = [nlp(text) for text in newsgroups_train['data']]"
   ]
  },
  {
   "cell_type": "code",
   "execution_count": null,
   "metadata": {},
   "outputs": [],
   "source": []
  },
  {
   "cell_type": "code",
   "execution_count": 16,
   "metadata": {},
   "outputs": [
    {
     "name": "stdout",
     "output_type": "stream",
     "text": [
      "In stage 0: transferred 1560 clusters with 7 clusters populated\n",
      "In stage 1: transferred 63 clusters with 10 clusters populated\n",
      "In stage 2: transferred 24 clusters with 10 clusters populated\n",
      "In stage 3: transferred 11 clusters with 10 clusters populated\n",
      "In stage 4: transferred 17 clusters with 10 clusters populated\n",
      "In stage 5: transferred 18 clusters with 10 clusters populated\n"
     ]
    },
    {
     "ename": "KeyboardInterrupt",
     "evalue": "",
     "output_type": "error",
     "traceback": [
      "\u001b[0;31m---------------------------------------------------------------------------\u001b[0m",
      "\u001b[0;31mKeyboardInterrupt\u001b[0m                         Traceback (most recent call last)",
      "\u001b[0;32m<ipython-input-16-a4d9236a72b1>\u001b[0m in \u001b[0;36m<module>\u001b[0;34m\u001b[0m\n\u001b[1;32m      1\u001b[0m \u001b[0mmgp\u001b[0m \u001b[0;34m=\u001b[0m \u001b[0mMovieGroupProcess\u001b[0m\u001b[0;34m(\u001b[0m\u001b[0mK\u001b[0m\u001b[0;34m=\u001b[0m\u001b[0;36m10\u001b[0m\u001b[0;34m,\u001b[0m \u001b[0malpha\u001b[0m\u001b[0;34m=\u001b[0m\u001b[0;36m0.1\u001b[0m\u001b[0;34m,\u001b[0m \u001b[0mbeta\u001b[0m\u001b[0;34m=\u001b[0m\u001b[0;36m0.1\u001b[0m\u001b[0;34m,\u001b[0m \u001b[0mn_iters\u001b[0m\u001b[0;34m=\u001b[0m\u001b[0;36m30\u001b[0m\u001b[0;34m)\u001b[0m\u001b[0;34m\u001b[0m\u001b[0;34m\u001b[0m\u001b[0m\n\u001b[0;32m----> 2\u001b[0;31m \u001b[0my\u001b[0m \u001b[0;34m=\u001b[0m \u001b[0mmgp\u001b[0m\u001b[0;34m.\u001b[0m\u001b[0mfit\u001b[0m\u001b[0;34m(\u001b[0m\u001b[0mdocs\u001b[0m\u001b[0;34m,\u001b[0m \u001b[0mvocab_size\u001b[0m\u001b[0;34m=\u001b[0m\u001b[0mlen\u001b[0m\u001b[0;34m(\u001b[0m\u001b[0mspacy_nlp\u001b[0m\u001b[0;34m.\u001b[0m\u001b[0mvocab\u001b[0m\u001b[0;34m.\u001b[0m\u001b[0mstrings\u001b[0m\u001b[0;34m)\u001b[0m\u001b[0;34m)\u001b[0m\u001b[0;34m\u001b[0m\u001b[0;34m\u001b[0m\u001b[0m\n\u001b[0m",
      "\u001b[0;32m~/.local/lib/python3.6/site-packages/gsdmm/mgp.py\u001b[0m in \u001b[0;36mfit\u001b[0;34m(self, docs, vocab_size)\u001b[0m\n\u001b[1;32m    129\u001b[0m \u001b[0;34m\u001b[0m\u001b[0m\n\u001b[1;32m    130\u001b[0m                 \u001b[0;31m# draw sample from distribution to find new cluster\u001b[0m\u001b[0;34m\u001b[0m\u001b[0;34m\u001b[0m\u001b[0;34m\u001b[0m\u001b[0m\n\u001b[0;32m--> 131\u001b[0;31m                 \u001b[0mp\u001b[0m \u001b[0;34m=\u001b[0m \u001b[0mself\u001b[0m\u001b[0;34m.\u001b[0m\u001b[0mscore\u001b[0m\u001b[0;34m(\u001b[0m\u001b[0mdoc\u001b[0m\u001b[0;34m)\u001b[0m\u001b[0;34m\u001b[0m\u001b[0;34m\u001b[0m\u001b[0m\n\u001b[0m\u001b[1;32m    132\u001b[0m                 \u001b[0mz_new\u001b[0m \u001b[0;34m=\u001b[0m \u001b[0mself\u001b[0m\u001b[0;34m.\u001b[0m\u001b[0m_sample\u001b[0m\u001b[0;34m(\u001b[0m\u001b[0mp\u001b[0m\u001b[0;34m)\u001b[0m\u001b[0;34m\u001b[0m\u001b[0;34m\u001b[0m\u001b[0m\n\u001b[1;32m    133\u001b[0m \u001b[0;34m\u001b[0m\u001b[0m\n",
      "\u001b[0;32m~/.local/lib/python3.6/site-packages/gsdmm/mgp.py\u001b[0m in \u001b[0;36mscore\u001b[0;34m(self, doc)\u001b[0m\n\u001b[1;32m    185\u001b[0m             \u001b[0mlD2\u001b[0m \u001b[0;34m=\u001b[0m \u001b[0;36m0\u001b[0m\u001b[0;34m\u001b[0m\u001b[0;34m\u001b[0m\u001b[0m\n\u001b[1;32m    186\u001b[0m             \u001b[0;32mfor\u001b[0m \u001b[0mword\u001b[0m \u001b[0;32min\u001b[0m \u001b[0mdoc\u001b[0m\u001b[0;34m:\u001b[0m\u001b[0;34m\u001b[0m\u001b[0;34m\u001b[0m\u001b[0m\n\u001b[0;32m--> 187\u001b[0;31m                 \u001b[0mlN2\u001b[0m \u001b[0;34m+=\u001b[0m \u001b[0mlog\u001b[0m\u001b[0;34m(\u001b[0m\u001b[0mn_z_w\u001b[0m\u001b[0;34m[\u001b[0m\u001b[0mlabel\u001b[0m\u001b[0;34m]\u001b[0m\u001b[0;34m.\u001b[0m\u001b[0mget\u001b[0m\u001b[0;34m(\u001b[0m\u001b[0mword\u001b[0m\u001b[0;34m,\u001b[0m \u001b[0;36m0\u001b[0m\u001b[0;34m)\u001b[0m \u001b[0;34m+\u001b[0m \u001b[0mbeta\u001b[0m\u001b[0;34m)\u001b[0m\u001b[0;34m\u001b[0m\u001b[0;34m\u001b[0m\u001b[0m\n\u001b[0m\u001b[1;32m    188\u001b[0m             \u001b[0;32mfor\u001b[0m \u001b[0mj\u001b[0m \u001b[0;32min\u001b[0m \u001b[0mrange\u001b[0m\u001b[0;34m(\u001b[0m\u001b[0;36m1\u001b[0m\u001b[0;34m,\u001b[0m \u001b[0mdoc_size\u001b[0m \u001b[0;34m+\u001b[0m\u001b[0;36m1\u001b[0m\u001b[0;34m)\u001b[0m\u001b[0;34m:\u001b[0m\u001b[0;34m\u001b[0m\u001b[0;34m\u001b[0m\u001b[0m\n\u001b[1;32m    189\u001b[0m                 \u001b[0mlD2\u001b[0m \u001b[0;34m+=\u001b[0m \u001b[0mlog\u001b[0m\u001b[0;34m(\u001b[0m\u001b[0mn_z\u001b[0m\u001b[0;34m[\u001b[0m\u001b[0mlabel\u001b[0m\u001b[0;34m]\u001b[0m \u001b[0;34m+\u001b[0m \u001b[0mV\u001b[0m \u001b[0;34m*\u001b[0m \u001b[0mbeta\u001b[0m \u001b[0;34m+\u001b[0m \u001b[0mj\u001b[0m \u001b[0;34m-\u001b[0m \u001b[0;36m1\u001b[0m\u001b[0;34m)\u001b[0m\u001b[0;34m\u001b[0m\u001b[0;34m\u001b[0m\u001b[0m\n",
      "\u001b[0;31mKeyboardInterrupt\u001b[0m: "
     ]
    }
   ],
   "source": [
    "mgp = MovieGroupProcess(K=10, alpha=0.1, beta=0.1, n_iters=30)\n",
    "y = mgp.fit(docs, vocab_size=len(spacy_nlp.vocab.strings))"
   ]
  },
  {
   "cell_type": "markdown",
   "metadata": {},
   "source": [
    "# Ab hier relevant"
   ]
  },
  {
   "cell_type": "code",
   "execution_count": 61,
   "metadata": {},
   "outputs": [],
   "source": [
    "app = pd.read_csv('text_data/appstore_review.csv')['text'].dropna().to_list()\n",
    "fb_post = pd.read_csv('text_data/fb_post.csv')['text'].dropna().to_list()\n",
    "gmaps = pd.read_csv('text_data/google_maps_review.csv')['text'].dropna().to_list()\n",
    "tweet = pd.read_csv('text_data/tweet.csv')['text'].dropna().to_list()\n",
    "social_media_data_old = [*app, *fb_post, *gmaps, *tweet]"
   ]
  },
  {
   "cell_type": "code",
   "execution_count": 69,
   "metadata": {},
   "outputs": [],
   "source": [
    "import pickle\n",
    "with open(\"text_data.pkl\", \"rb\") as fp:\n",
    "    social_media_data = pickle.load(fp)\n",
    "    \n",
    "social_media_data = [val for val in social_media_data if val is not None]"
   ]
  },
  {
   "cell_type": "code",
   "execution_count": 70,
   "metadata": {},
   "outputs": [],
   "source": [
    "import pyLDAvis\n",
    "import pyLDAvis.sklearn\n",
    "pyLDAvis.enable_notebook()"
   ]
  },
  {
   "cell_type": "code",
   "execution_count": 71,
   "metadata": {},
   "outputs": [],
   "source": [
    "from sklearn.datasets import fetch_20newsgroups\n",
    "from sklearn.feature_extraction.text import CountVectorizer, TfidfVectorizer\n",
    "from sklearn.decomposition import LatentDirichletAllocation"
   ]
  },
  {
   "cell_type": "code",
   "execution_count": 72,
   "metadata": {},
   "outputs": [
    {
     "name": "stdout",
     "output_type": "stream",
     "text": [
      "11314\n"
     ]
    }
   ],
   "source": [
    "newsgroups = fetch_20newsgroups(remove=('headers', 'footers', 'quotes'))\n",
    "docs_raw = newsgroups.data\n",
    "print(len(docs_raw))"
   ]
  },
  {
   "cell_type": "code",
   "execution_count": 82,
   "metadata": {},
   "outputs": [],
   "source": [
    "from stop_words import get_stop_words\n",
    "stop_words = [\n",
    "    *get_stop_words(\"german\"),\n",
    "    *get_stop_words(\"english\"),\n",
    "    *[\"http\", \"https\", \"www\", \"com\", \"de\", \"google\", \"translated\", \"twitter\", \"fur\", \"uber\", \"html\", \"barberini\", \"museumbarberini\", \"museum\"]\n",
    "]"
   ]
  },
  {
   "cell_type": "code",
   "execution_count": 83,
   "metadata": {},
   "outputs": [
    {
     "name": "stderr",
     "output_type": "stream",
     "text": [
      "/home/tom/.local/lib/python3.6/site-packages/sklearn/feature_extraction/text.py:300: UserWarning: Your stop_words may be inconsistent with your preprocessing. Tokenizing the stop words generated tokens ['aren', 'can', 'couldn', 'didn', 'doesn', 'don', 'hadn', 'hasn', 'haven', 'isn', 'konnen', 'konnte', 'let', 'mustn', 'shan', 'shouldn', 'wahrend', 'wasn', 'weren', 'won', 'wouldn', 'wurde', 'wurden'] not in stop_words.\n",
      "  'stop_words.' % sorted(inconsistent))\n"
     ]
    },
    {
     "name": "stdout",
     "output_type": "stream",
     "text": [
      "(8044, 1817)\n"
     ]
    }
   ],
   "source": [
    "tf_vectorizer = CountVectorizer(strip_accents = 'unicode',\n",
    "                                stop_words = stop_words,\n",
    "                                lowercase = True,\n",
    "                                token_pattern = r'\\b[a-zA-Z]{3,}\\b',\n",
    "                                max_df = 0.5, \n",
    "                                min_df = 10)\n",
    "dtm_tf = tf_vectorizer.fit_transform(social_media_data)\n",
    "print(dtm_tf.shape)"
   ]
  },
  {
   "cell_type": "code",
   "execution_count": 84,
   "metadata": {},
   "outputs": [
    {
     "name": "stderr",
     "output_type": "stream",
     "text": [
      "/home/tom/.local/lib/python3.6/site-packages/sklearn/feature_extraction/text.py:1616: UserWarning: Only (<class 'numpy.float64'>, <class 'numpy.float32'>, <class 'numpy.float16'>) 'dtype' should be used. <class 'numpy.int64'> 'dtype' will be converted to np.float64.\n",
      "  UserWarning)\n",
      "/home/tom/.local/lib/python3.6/site-packages/sklearn/feature_extraction/text.py:300: UserWarning: Your stop_words may be inconsistent with your preprocessing. Tokenizing the stop words generated tokens ['aren', 'can', 'couldn', 'didn', 'doesn', 'don', 'hadn', 'hasn', 'haven', 'isn', 'konnen', 'konnte', 'let', 'mustn', 'shan', 'shouldn', 'wahrend', 'wasn', 'weren', 'won', 'wouldn', 'wurde', 'wurden'] not in stop_words.\n",
      "  'stop_words.' % sorted(inconsistent))\n"
     ]
    },
    {
     "name": "stdout",
     "output_type": "stream",
     "text": [
      "(8044, 1817)\n"
     ]
    }
   ],
   "source": [
    "tfidf_vectorizer = TfidfVectorizer(**tf_vectorizer.get_params())\n",
    "dtm_tfidf = tfidf_vectorizer.fit_transform(social_media_data)\n",
    "print(dtm_tfidf.shape)"
   ]
  },
  {
   "cell_type": "code",
   "execution_count": 85,
   "metadata": {},
   "outputs": [
    {
     "data": {
      "text/plain": [
       "LatentDirichletAllocation(batch_size=128, doc_topic_prior=None,\n",
       "                          evaluate_every=-1, learning_decay=0.7,\n",
       "                          learning_method='batch', learning_offset=10.0,\n",
       "                          max_doc_update_iter=100, max_iter=10,\n",
       "                          mean_change_tol=0.001, n_components=10, n_jobs=None,\n",
       "                          perp_tol=0.1, random_state=0, topic_word_prior=None,\n",
       "                          total_samples=1000000.0, verbose=0)"
      ]
     },
     "execution_count": 85,
     "metadata": {},
     "output_type": "execute_result"
    }
   ],
   "source": [
    "# for TF DTM\n",
    "lda_tf = LatentDirichletAllocation(random_state=0)\n",
    "lda_tf.fit(dtm_tf)\n",
    "# for TFIDF DTM\n",
    "lda_tfidf = LatentDirichletAllocation(random_state=0)\n",
    "lda_tfidf.fit(dtm_tfidf)"
   ]
  },
  {
   "cell_type": "markdown",
   "metadata": {},
   "source": [
    "## LDA based on TF"
   ]
  },
  {
   "cell_type": "code",
   "execution_count": 86,
   "metadata": {
    "scrolled": true
   },
   "outputs": [
    {
     "name": "stderr",
     "output_type": "stream",
     "text": [
      "/home/tom/.local/lib/python3.6/site-packages/pyLDAvis/_prepare.py:257: FutureWarning: Sorting because non-concatenation axis is not aligned. A future version\n",
      "of pandas will change to not sort by default.\n",
      "\n",
      "To accept the future behavior, pass 'sort=False'.\n",
      "\n",
      "To retain the current behavior and silence the warning, pass 'sort=True'.\n",
      "\n",
      "  return pd.concat([default_term_info] + list(topic_dfs))\n"
     ]
    },
    {
     "data": {
      "text/html": [
       "\n",
       "<link rel=\"stylesheet\" type=\"text/css\" href=\"https://cdn.rawgit.com/bmabey/pyLDAvis/files/ldavis.v1.0.0.css\">\n",
       "\n",
       "\n",
       "<div id=\"ldavis_el104791399702849056006382888513\"></div>\n",
       "<script type=\"text/javascript\">\n",
       "\n",
       "var ldavis_el104791399702849056006382888513_data = {\"mdsDat\": {\"x\": [0.10369045369442517, 0.05625100864680919, 0.07800832772267761, 0.05697840287921999, 0.2411124899132436, 0.1616638212790794, -0.102589572221259, -0.2876519095629273, -0.25264408187426757, -0.05481894047700117], \"y\": [-0.01430339238554131, -0.2587146178640605, -0.21532648676958666, -0.006031446340152989, 0.22821639876454636, 0.09591794220753447, 0.08836093283462333, 0.06368013375728768, 0.045367964372980595, -0.027167428577631807], \"topics\": [1, 2, 3, 4, 5, 6, 7, 8, 9, 10], \"cluster\": [1, 1, 1, 1, 1, 1, 1, 1, 1, 1], \"Freq\": [11.982569497782476, 10.731633105200332, 10.576008168562163, 10.509032901282495, 10.439125215296153, 9.64211309630461, 9.528292842824726, 9.192023216718615, 9.06718014211725, 8.332021813911176]}, \"tinfo\": {\"Category\": [\"Default\", \"Default\", \"Default\", \"Default\", \"Default\", \"Default\", \"Default\", \"Default\", \"Default\", \"Default\", \"Default\", \"Default\", \"Default\", \"Default\", \"Default\", \"Default\", \"Default\", \"Default\", \"Default\", \"Default\", \"Default\", \"Default\", \"Default\", \"Default\", \"Default\", \"Default\", \"Default\", \"Default\", \"Default\", \"Default\", \"Topic1\", \"Topic1\", \"Topic1\", \"Topic1\", \"Topic1\", \"Topic1\", \"Topic1\", \"Topic1\", \"Topic1\", \"Topic1\", \"Topic1\", \"Topic1\", \"Topic1\", \"Topic1\", \"Topic1\", \"Topic1\", \"Topic1\", \"Topic1\", \"Topic1\", \"Topic1\", \"Topic1\", \"Topic1\", \"Topic1\", \"Topic1\", \"Topic1\", \"Topic1\", \"Topic1\", \"Topic1\", \"Topic1\", \"Topic1\", \"Topic1\", \"Topic1\", \"Topic1\", \"Topic1\", \"Topic1\", \"Topic1\", \"Topic1\", \"Topic1\", \"Topic1\", \"Topic1\", \"Topic1\", \"Topic1\", \"Topic1\", \"Topic1\", \"Topic1\", \"Topic1\", \"Topic1\", \"Topic1\", \"Topic1\", \"Topic1\", \"Topic1\", \"Topic1\", \"Topic1\", \"Topic1\", \"Topic1\", \"Topic1\", \"Topic1\", \"Topic2\", \"Topic2\", \"Topic2\", \"Topic2\", \"Topic2\", \"Topic2\", \"Topic2\", \"Topic2\", \"Topic2\", \"Topic2\", \"Topic2\", \"Topic2\", \"Topic2\", \"Topic2\", \"Topic2\", \"Topic2\", \"Topic2\", \"Topic2\", \"Topic2\", \"Topic2\", \"Topic2\", \"Topic2\", \"Topic2\", \"Topic2\", \"Topic2\", \"Topic2\", \"Topic2\", \"Topic2\", \"Topic2\", \"Topic2\", \"Topic2\", \"Topic2\", \"Topic2\", \"Topic2\", \"Topic2\", \"Topic2\", \"Topic2\", \"Topic2\", \"Topic2\", \"Topic2\", \"Topic2\", \"Topic2\", \"Topic2\", \"Topic2\", \"Topic2\", \"Topic2\", \"Topic2\", \"Topic2\", \"Topic3\", \"Topic3\", \"Topic3\", \"Topic3\", \"Topic3\", \"Topic3\", \"Topic3\", \"Topic3\", \"Topic3\", \"Topic3\", \"Topic3\", \"Topic3\", \"Topic3\", \"Topic3\", \"Topic3\", \"Topic3\", \"Topic3\", \"Topic3\", \"Topic3\", \"Topic3\", \"Topic3\", \"Topic3\", \"Topic3\", \"Topic3\", \"Topic3\", \"Topic3\", \"Topic3\", \"Topic3\", \"Topic3\", \"Topic3\", \"Topic3\", \"Topic3\", \"Topic3\", \"Topic3\", \"Topic3\", \"Topic3\", \"Topic3\", \"Topic3\", \"Topic3\", \"Topic3\", \"Topic3\", \"Topic3\", \"Topic3\", \"Topic3\", \"Topic3\", \"Topic4\", \"Topic4\", \"Topic4\", \"Topic4\", \"Topic4\", \"Topic4\", \"Topic4\", \"Topic4\", \"Topic4\", \"Topic4\", \"Topic4\", \"Topic4\", \"Topic4\", \"Topic4\", \"Topic4\", \"Topic4\", \"Topic4\", \"Topic4\", \"Topic4\", \"Topic4\", \"Topic4\", \"Topic4\", \"Topic4\", \"Topic4\", \"Topic4\", \"Topic4\", \"Topic4\", \"Topic4\", \"Topic4\", \"Topic4\", \"Topic4\", \"Topic4\", \"Topic4\", \"Topic4\", \"Topic4\", \"Topic4\", \"Topic4\", \"Topic4\", \"Topic4\", \"Topic4\", \"Topic4\", \"Topic4\", \"Topic4\", \"Topic4\", \"Topic4\", \"Topic4\", \"Topic4\", \"Topic4\", \"Topic4\", \"Topic4\", \"Topic4\", \"Topic4\", \"Topic4\", \"Topic4\", \"Topic4\", \"Topic4\", \"Topic4\", \"Topic4\", \"Topic4\", \"Topic5\", \"Topic5\", \"Topic5\", \"Topic5\", \"Topic5\", \"Topic5\", \"Topic5\", \"Topic5\", \"Topic5\", \"Topic5\", \"Topic5\", \"Topic5\", \"Topic5\", \"Topic5\", \"Topic5\", \"Topic5\", \"Topic5\", \"Topic5\", \"Topic5\", \"Topic5\", \"Topic5\", \"Topic5\", \"Topic5\", \"Topic5\", \"Topic5\", \"Topic5\", \"Topic5\", \"Topic5\", \"Topic5\", \"Topic5\", \"Topic5\", \"Topic5\", \"Topic5\", \"Topic5\", \"Topic5\", \"Topic5\", \"Topic5\", \"Topic5\", \"Topic5\", \"Topic5\", \"Topic5\", \"Topic5\", \"Topic5\", \"Topic5\", \"Topic5\", \"Topic5\", \"Topic5\", \"Topic5\", \"Topic5\", \"Topic5\", \"Topic5\", \"Topic5\", \"Topic5\", \"Topic5\", \"Topic6\", \"Topic6\", \"Topic6\", \"Topic6\", \"Topic6\", \"Topic6\", \"Topic6\", \"Topic6\", \"Topic6\", \"Topic6\", \"Topic6\", \"Topic6\", \"Topic6\", \"Topic6\", \"Topic6\", \"Topic6\", \"Topic6\", \"Topic6\", \"Topic6\", \"Topic6\", \"Topic6\", \"Topic6\", \"Topic6\", \"Topic6\", \"Topic6\", \"Topic6\", \"Topic6\", \"Topic6\", \"Topic6\", \"Topic6\", \"Topic6\", \"Topic6\", \"Topic6\", \"Topic6\", \"Topic6\", \"Topic6\", \"Topic6\", \"Topic6\", \"Topic6\", \"Topic6\", \"Topic6\", \"Topic6\", \"Topic6\", \"Topic6\", \"Topic6\", \"Topic6\", \"Topic6\", \"Topic6\", \"Topic6\", \"Topic6\", \"Topic6\", \"Topic6\", \"Topic6\", \"Topic6\", \"Topic6\", \"Topic6\", \"Topic6\", \"Topic6\", \"Topic6\", \"Topic6\", \"Topic7\", \"Topic7\", \"Topic7\", \"Topic7\", \"Topic7\", \"Topic7\", \"Topic7\", \"Topic7\", \"Topic7\", \"Topic7\", \"Topic7\", \"Topic7\", \"Topic7\", \"Topic7\", \"Topic7\", \"Topic7\", \"Topic7\", \"Topic7\", \"Topic7\", \"Topic7\", \"Topic7\", \"Topic7\", \"Topic7\", \"Topic7\", \"Topic7\", \"Topic7\", \"Topic7\", \"Topic7\", \"Topic7\", \"Topic7\", \"Topic7\", \"Topic7\", \"Topic7\", \"Topic7\", \"Topic7\", \"Topic7\", \"Topic7\", \"Topic7\", \"Topic7\", \"Topic7\", \"Topic7\", \"Topic7\", \"Topic7\", \"Topic7\", \"Topic7\", \"Topic7\", \"Topic7\", \"Topic7\", \"Topic7\", \"Topic7\", \"Topic7\", \"Topic7\", \"Topic7\", \"Topic7\", \"Topic7\", \"Topic7\", \"Topic7\", \"Topic7\", \"Topic7\", \"Topic7\", \"Topic7\", \"Topic7\", \"Topic7\", \"Topic7\", \"Topic8\", \"Topic8\", \"Topic8\", \"Topic8\", \"Topic8\", \"Topic8\", \"Topic8\", \"Topic8\", \"Topic8\", \"Topic8\", \"Topic8\", \"Topic8\", \"Topic8\", \"Topic8\", \"Topic8\", \"Topic8\", \"Topic8\", \"Topic8\", \"Topic8\", \"Topic8\", \"Topic8\", \"Topic8\", \"Topic8\", \"Topic8\", \"Topic8\", \"Topic8\", \"Topic8\", \"Topic8\", \"Topic8\", \"Topic8\", \"Topic8\", \"Topic8\", \"Topic8\", \"Topic8\", \"Topic8\", \"Topic8\", \"Topic8\", \"Topic8\", \"Topic8\", \"Topic8\", \"Topic8\", \"Topic8\", \"Topic8\", \"Topic8\", \"Topic8\", \"Topic8\", \"Topic8\", \"Topic8\", \"Topic8\", \"Topic8\", \"Topic8\", \"Topic8\", \"Topic8\", \"Topic8\", \"Topic8\", \"Topic8\", \"Topic8\", \"Topic8\", \"Topic8\", \"Topic9\", \"Topic9\", \"Topic9\", \"Topic9\", \"Topic9\", \"Topic9\", \"Topic9\", \"Topic9\", \"Topic9\", \"Topic9\", \"Topic9\", \"Topic9\", \"Topic9\", \"Topic9\", \"Topic9\", \"Topic9\", \"Topic9\", \"Topic9\", \"Topic9\", \"Topic9\", \"Topic9\", \"Topic9\", \"Topic9\", \"Topic9\", \"Topic9\", \"Topic9\", \"Topic9\", \"Topic9\", \"Topic9\", \"Topic9\", \"Topic9\", \"Topic9\", \"Topic9\", \"Topic9\", \"Topic9\", \"Topic9\", \"Topic9\", \"Topic9\", \"Topic9\", \"Topic9\", \"Topic9\", \"Topic9\", \"Topic9\", \"Topic9\", \"Topic9\", \"Topic9\", \"Topic9\", \"Topic9\", \"Topic9\", \"Topic9\", \"Topic9\", \"Topic9\", \"Topic9\", \"Topic9\", \"Topic9\", \"Topic9\", \"Topic9\", \"Topic9\", \"Topic9\", \"Topic9\", \"Topic9\", \"Topic9\", \"Topic10\", \"Topic10\", \"Topic10\", \"Topic10\", \"Topic10\", \"Topic10\", \"Topic10\", \"Topic10\", \"Topic10\", \"Topic10\", \"Topic10\", \"Topic10\", \"Topic10\", \"Topic10\", \"Topic10\", \"Topic10\", \"Topic10\", \"Topic10\", \"Topic10\", \"Topic10\", \"Topic10\", \"Topic10\", \"Topic10\", \"Topic10\", \"Topic10\", \"Topic10\", \"Topic10\", \"Topic10\", \"Topic10\", \"Topic10\", \"Topic10\", \"Topic10\", \"Topic10\", \"Topic10\", \"Topic10\", \"Topic10\", \"Topic10\", \"Topic10\", \"Topic10\", \"Topic10\", \"Topic10\", \"Topic10\", \"Topic10\", \"Topic10\", \"Topic10\", \"Topic10\", \"Topic10\", \"Topic10\", \"Topic10\", \"Topic10\", \"Topic10\", \"Topic10\", \"Topic10\", \"Topic10\", \"Topic10\", \"Topic10\", \"Topic10\", \"Topic10\", \"Topic10\"], \"Freq\": [884.0, 830.0, 745.0, 556.0, 642.0, 2024.0, 357.0, 476.0, 336.0, 298.0, 346.0, 388.0, 415.0, 1112.0, 238.0, 355.0, 232.0, 214.0, 213.0, 211.0, 321.0, 289.0, 434.0, 172.0, 182.0, 213.0, 617.0, 202.0, 182.0, 192.0, 231.71400969582265, 335.0655905427403, 129.64600243693863, 102.74149634631127, 70.76060804434763, 65.8534936436559, 56.03908883957142, 42.281687482980836, 39.35497779911846, 31.503679001075312, 29.540830953936833, 28.559369436562687, 27.57797466486718, 26.596559418623993, 23.65227907269858, 23.652275068714214, 22.67087258199544, 63.20190303856513, 20.707943863478153, 20.707916153716376, 19.726457840287235, 18.7451827072194, 17.763741285205082, 17.76366264637314, 16.782325891893468, 15.800737710161044, 37.095484683257496, 14.819489335520503, 14.819489040330087, 14.819462954783027, 29.54083293037361, 42.21996809895622, 68.9719650293059, 241.0799360834293, 41.34553089807983, 67.62289544594489, 24.60984223830365, 63.70455264769999, 34.703748974264904, 189.50847011308198, 131.667157437276, 184.88043464067482, 534.3129778425454, 224.28908674641514, 66.24759568648837, 109.00849552912922, 295.4299091160887, 75.61385130170267, 50.20827001691513, 74.67919159309409, 62.940831080366884, 79.96659605998533, 61.00998985092349, 102.60018210247975, 55.44888821219189, 57.17186257422266, 48.77526727414395, 883.1580948327439, 744.5798555732413, 356.15617643421274, 132.61025533609515, 101.25312862575575, 79.91751490017363, 62.81534220444863, 58.769262140319576, 140.07430898283957, 37.52738192057471, 36.51585369606916, 34.49280071092792, 32.46976223016229, 29.435195836226917, 28.423711363179716, 28.423695187512916, 27.41217681215903, 24.377629216093766, 22.354542318811543, 20.331534612262107, 20.331524008823294, 20.33075829504604, 19.320013576891593, 18.308501202831852, 17.296984180096697, 17.29697980847868, 17.29696733984444, 16.28547002221772, 16.2854696193256, 16.28546432789993, 35.11619365032162, 41.17553899202059, 32.302272101497024, 32.41385785463559, 111.2376043215475, 49.42078589153909, 36.35626270873985, 37.00696650016685, 28.214789570779107, 46.905741684679946, 26.602909054195482, 53.148737283741745, 137.36727760977726, 39.15677680283413, 36.485051395142946, 34.367278077501446, 34.954588419249774, 29.47378957311535, 829.6478045198385, 297.371643040795, 213.0109037385676, 211.00230678899783, 171.83481109247487, 118.6071623804914, 122.54885455783607, 98.52128769934727, 94.50412329327295, 74.41822776752402, 66.38386627813291, 54.332325992795596, 54.33232458081963, 53.32803904627178, 44.28677691051064, 43.28509415849443, 39.26790841680317, 36.25501001243425, 34.246410978550045, 29.224971522031883, 29.224941224396357, 29.22494148866265, 59.34588199787067, 79.20791633388498, 21.19061700673439, 20.17524232004409, 19.18202669263769, 19.181865549772525, 18.177730775446935, 16.169129036861836, 55.25923967889736, 89.15617310387499, 26.916936479306, 39.157901497899026, 53.97343097549743, 33.417811505728295, 60.014301567563066, 46.02525641491918, 142.20698913185305, 43.64001341288292, 59.76722532926814, 49.050326008321576, 65.83603892888462, 50.9525806237328, 48.0717730095955, 213.58795404709144, 155.2658711608899, 97.83460431497298, 46.44873666666881, 36.37291452450502, 33.350391987420466, 28.312519700102985, 26.297447448570246, 25.280557560803587, 48.45767443390285, 23.27473572132378, 23.27471735968144, 33.81833268714322, 21.194087017586703, 19.244210847675035, 19.2431990261997, 17.22936256500379, 17.229343116789682, 17.229278991580685, 16.221800654970558, 14.206614503574794, 13.199109551641552, 13.197193247084279, 13.149878190898574, 12.191526856008702, 12.191449401677328, 169.3325032770826, 11.183946319463722, 11.183922859507906, 11.18392223990792, 32.0917740930441, 22.126457569682007, 55.45277003242177, 224.35647892414082, 85.3080951432981, 25.98708647782801, 30.984045071106515, 70.07646610973859, 38.955884787933165, 206.94692232079169, 236.41101344977264, 60.595933791573486, 57.340558198085525, 88.39593597092266, 48.99061191641732, 58.67025072045551, 209.12942473810705, 85.82797271708075, 53.391742394586515, 196.18789320389422, 92.56286023507946, 86.12961086189833, 61.9183149564894, 43.5350489864158, 119.53766957887635, 45.362076117688765, 60.17191840692427, 43.15633233353191, 46.54701182881799, 88.34999427399683, 62.09347159450734, 62.09347037696575, 61.15407757179931, 61.15328397425381, 57.39652646008437, 122.99396785080303, 49.88142013318063, 48.942054716257736, 46.12387762853398, 44.24437451435999, 42.36632663299704, 51.58035318229307, 37.669377749494835, 35.790637767116635, 35.79060950021309, 35.789025756228675, 34.85124173265714, 32.03308636206862, 32.03308472766258, 30.154312811807216, 29.21491685457779, 33.74086515473834, 230.76998232475233, 27.33615450694183, 27.336146856661166, 27.336135744636955, 27.321694871565583, 26.396722033894576, 26.391788062233207, 60.42131269428091, 38.728022550207484, 36.960863044522156, 35.16474178935784, 52.236436932939554, 56.99414584732899, 296.6499019960698, 80.44335125680637, 58.7316131495705, 98.12394959883135, 46.549768515201094, 235.79857918162182, 181.12041555148573, 83.01146437325771, 56.62514330229174, 48.87470051839552, 57.90152724229239, 57.38688801639773, 46.10469670510109, 310.3035252432736, 205.9216991865877, 75.59041770878284, 98.9557579871619, 58.76064748539085, 142.30889687265815, 60.905563910190054, 124.41455300498727, 42.27102274076234, 30.500825587990057, 26.57875062779976, 26.578463166593902, 24.61720438120385, 24.617168550806127, 23.63601416051314, 23.63601415299106, 22.65563200361118, 22.655582058908674, 52.73797549034423, 20.6941437784845, 17.75185484330936, 17.751837586799645, 17.751828245776164, 16.771112095847034, 14.809558573040018, 14.80954781856372, 14.809539242918392, 13.828785138065168, 13.828785138065168, 13.828781167293599, 13.828594140322643, 13.828492063072131, 23.02412661936146, 24.83621582174094, 11.867250983559355, 16.411051428745722, 168.42155870667196, 38.41155098843058, 149.7120363641745, 170.97720207464428, 60.57899330397308, 64.57659198134438, 81.28454216047302, 21.57853977690647, 64.18386223188077, 40.290156861765176, 50.03826158431375, 74.65404965213354, 52.56102852146353, 511.59457856182235, 317.2382891631333, 98.27064133140526, 119.89865377390325, 96.79907538744337, 56.25889136463537, 41.168432173386485, 38.40042726804586, 80.5129770006171, 72.34450814388117, 35.05574552423636, 37.65282900089914, 64.88209977073824, 51.073333067777845, 40.65333700390372, 42.3620930667458, 67.72359168886558, 49.06526681148674, 23.63799036714354, 51.762789711253724, 21.754437066953688, 19.870981653458742, 17.987464073953287, 17.98746269151338, 17.98746269151338, 17.987398055341735, 16.103935614985346, 21.44986222597982, 15.162166067962838, 27.600217871246308, 13.278696504804678, 13.24614613699781, 11.395031757393918, 23.581898054953086, 10.453430795178068, 10.453410704235008, 10.453391476119881, 10.453379780341205, 10.45323774047758, 9.511667207939809, 9.51163562901002, 9.511571227846794, 9.509906974437653, 22.890081267624158, 10.19015400775828, 10.148396506714771, 16.843387781106884, 73.77503622799506, 16.832059649110025, 39.55968985602782, 144.83069463966328, 264.24420698846865, 82.12637898536808, 86.4513073773117, 68.55175832982971, 58.94897240058353, 34.61291129164605, 149.17408051469783, 52.51409638229069, 135.6637496712717, 143.47061626170776, 24.649049152157666, 49.673286270567466, 190.05772100361855, 38.17904456845654, 53.17810838278993, 327.4734970118588, 27.808259926594392, 107.33776711433772, 36.97721890727357, 47.27828136167908, 176.4043577430985, 61.40905420479892, 136.43684087486918, 42.37459876162551, 49.89869969950919, 55.18348128521905, 50.48443320919141, 54.67631944358796, 42.0207446935305, 95.6049401304104, 42.64866303435429, 37.92045827792046, 31.30088441208062, 27.518268035556574, 24.68138575720434, 23.735719160227184, 23.735599381127088, 69.34043356677591, 22.790033114374747, 21.844446467642506, 21.844318941992267, 20.89880307284322, 20.89877597867234, 35.37339313895238, 19.953131851994783, 19.007514273319142, 19.007505484089773, 18.06184414252435, 18.061842210853936, 17.108038891494424, 607.518373133727, 15.224924368082146, 15.224924368082146, 15.224905668782617, 15.224868750474169, 15.22480706568565, 14.27925882974585, 14.279235121128966, 14.27918964011855, 90.9444408773103, 56.58086458956752, 28.464043448370187, 33.69402013518924, 85.19385426840333, 162.83176485498308, 290.71211868615677, 92.23347842246918, 55.73646448614542, 40.32256174640357, 134.4748630618901, 36.835183414029494, 65.75089374405985, 92.7657550060962, 73.3277811152373, 55.8070531730732, 32.161594016561686, 52.74423155461742, 26.625333476791457, 35.62324709405838, 54.33653957136076, 57.86752526511679, 59.230377943215295, 80.57128398254964, 39.94018449097169, 41.39175671404957, 44.59606021623844, 37.61425444999207, 37.33052204275925, 145.17257363519047, 61.64967191419706, 63.497939787153186, 40.48556022073557, 27.025822300839067, 27.025821260736922, 25.102258581379523, 27.88519872585404, 79.81664666712203, 22.199798717010534, 24.04132260330891, 21.255160554289983, 17.408081016573036, 17.4080588798747, 17.407902650352412, 16.44629518181887, 16.40904675688889, 15.484541462256258, 14.522689909123777, 13.560983520625054, 13.560873937876002, 12.599209676733347, 12.599129714506821, 11.637429984704601, 11.637355491892711, 10.675651459245119, 10.675618923726057, 15.104431637267039, 108.36456791807917, 15.054329261264844, 116.19978577533608, 21.746494178982555, 19.151057711519787, 19.915346155770692, 165.86502677494815, 38.127170743133924, 46.53866522398025, 45.094796566140694, 28.760615488318404, 125.36398019382543, 46.976815436471796, 85.81563517641598, 197.69192513267882, 33.02707236437065, 52.62645581166683, 63.98106351818228, 25.7954234068967, 43.24406243180564, 68.50541669975438, 269.7566162523711, 32.076205210410016, 90.22910518555594, 67.17433665931135, 37.35324454277297, 50.599459302641165, 55.55933105496037, 55.494611217591796, 34.477785195338335, 51.176651078477605, 51.00244598798499, 40.00867580090752, 38.95201058015002, 555.347962095013, 84.33533288451464, 68.6632346846587, 61.80671349026871, 58.86818232175838, 45.14980065713518, 69.98424136902125, 36.33895984061891, 22.62653078908071, 18.708504268185134, 17.72900428361532, 16.74949820363982, 16.749454343867708, 15.770000482740183, 15.770000482740183, 13.811007461591574, 13.81097594263565, 12.831328689361602, 28.398827971830865, 13.714875982021487, 11.851928499304456, 18.165130025876337, 10.872477783320422, 10.872428702621805, 10.87224291604535, 29.833057862707104, 9.892870143484764, 22.80758510322739, 10.253584480262292, 13.158810884480493, 96.6182331586269, 42.08072200524731, 72.2709083988828, 31.199060221539355, 20.45500130555742, 86.1595815338162, 36.53316829358334, 30.9695418636559, 67.10859281478949, 66.58622039768181, 27.208040982581267, 31.040683306839295, 227.06213463643797, 37.51310378713611, 43.578479546158924, 149.37603695106034, 26.869504908407304, 47.151880620283485, 22.513306143019733, 47.569207386294956, 44.885123392258166, 35.28371636293549, 56.5278737675148, 42.675495719455576, 37.83513545528963, 34.79475686468914, 35.13448824541764, 33.69773618537334, 31.700758951873766], \"Term\": [\"van\", \"monet\", \"gogh\", \"picasso\", \"app\", \"potsdam\", \"stillleben\", \"richter\", \"barock\", \"cross\", \"gut\", \"gerhard\", \"art\", \"pic\", \"exhibition\", \"status\", \"wege\", \"beckmann\", \"henri\", \"edmond\", \"uhr\", \"ddr\", \"ausstellungen\", \"claude\", \"super\", \"tolle\", \"kunst\", \"plattner\", \"max\", \"westheider\", \"wege\", \"barock\", \"rom\", \"maske\", \"gallerie\", \"nazionali\", \"italien\", \"italienischen\", \"meisterwerke\", \"caravaggios\", \"narziss\", \"gentileschi\", \"schlosser\", \"nationalgalerien\", \"romischen\", \"barberinicorsin\", \"antica\", \"barockbarberini\", \"archive\", \"museumsfernsehen\", \"kunsthalle\", \"artemisia\", \"kunstlebenberlin\", \"material\", \"reviving\", \"george\", \"stiftung\", \"roma\", \"storia\", \"museumpic\", \"juli\", \"palast\", \"corsini\", \"ddr\", \"hinterdermaske\", \"tagesspiegel\", \"friedrich\", \"caravaggio\", \"palazzo\", \"berlin\", \"kunstler\", \"kultur\", \"potsdam\", \"kunst\", \"nachrichten\", \"pnn\", \"ausstellung\", \"neue\", \"arte\", \"zeigt\", \"brandenburg\", \"schau\", \"potsdamer\", \"pic\", \"gemalde\", \"bit\", \"oktober\", \"van\", \"gogh\", \"stillleben\", \"vincent\", \"goghs\", \"vangoghbarberini\", \"gotter\", \"olymp\", \"vangogh\", \"otterlo\", \"briefe\", \"amsterdam\", \"bruder\", \"blumen\", \"vase\", \"vangoghbarberinipic\", \"kroller\", \"blumenstillleben\", \"stilleben\", \"skulpturensammlung\", \"antike\", \"frankfurter\", \"dresdner\", \"koldehoff\", \"sjraar\", \"krollermuller\", \"schrieb\", \"nuenen\", \"arles\", \"heugten\", \"net\", \"stefan\", \"faz\", \"muller\", \"februar\", \"michael\", \"philipp\", \"entwicklung\", \"anhand\", \"prolog\", \"experten\", \"paris\", \"ausstellung\", \"farbe\", \"gemalde\", \"oktober\", \"schau\", \"zeit\", \"monet\", \"cross\", \"henri\", \"edmond\", \"claude\", \"orte\", \"monetbarberini\", \"monets\", \"museumfromhome\", \"zamani\", \"closedbutopen\", \"claudemonet\", \"denver\", \"giverny\", \"barberinidigital\", \"flattenthecurve\", \"argenteuil\", \"social\", \"places\", \"vetheuil\", \"denverartmuseum\", \"neoimpressionist\", \"kulturbb\", \"daniel\", \"tourdigital\", \"augenblicks\", \"irrgang\", \"neo\", \"barberiniartworks\", \"truth\", \"retrospektive\", \"licht\", \"media\", \"christoph\", \"kurator\", \"london\", \"paris\", \"prolog\", \"ausstellung\", \"farbe\", \"schau\", \"gemalde\", \"pic\", \"art\", \"bit\", \"beckmann\", \"welttheater\", \"maxbeckmann\", \"radioeins\", \"yoga\", \"sendungen\", \"workshops\", \"kreativ\", \"beckmanns\", \"richters\", \"kids\", \"fuhren\", \"ausstellungsbesuch\", \"postdam\", \"informel\", \"bremen\", \"que\", \"schema\", \"maitagungpic\", \"kinderkunstaktion\", \"fuehrungen\", \"meditation\", \"monopolmagazin\", \"floskelwolke\", \"kunstpadagogen\", \"zeichnen\", \"max\", \"anmeldung\", \"kaiser\", \"morning\", \"nachste\", \"workshop\", \"statt\", \"uhr\", \"sonntag\", \"offentliche\", \"atelier\", \"kinder\", \"prasentation\", \"gerhard\", \"richter\", \"programm\", \"veranstaltungen\", \"abstraktion\", \"samstag\", \"jahren\", \"pic\", \"sehen\", \"konnen\", \"ausstellung\", \"bit\", \"schau\", \"werke\", \"fuhrungen\", \"potsdam\", \"fuhrung\", \"kunst\", \"gerhardrichter\", \"heute\", \"great\", \"exhibitions\", \"see\", \"congo\", \"show\", \"tales\", \"instagram\", \"baroque\", \"visit\", \"time\", \"well\", \"igshid\", \"can\", \"nice\", \"beautiful\", \"world\", \"today\", \"now\", \"abstraction\", \"like\", \"good\", \"mbomo\", \"place\", \"exhibition\", \"culture\", \"opens\", \"look\", \"just\", \"pathways\", \"lokales\", \"one\", \"facebook\", \"october\", \"german\", \"first\", \"germany\", \"art\", \"opening\", \"gallery\", \"new\", \"paintings\", \"richter\", \"gerhard\", \"gerhardrichter\", \"collection\", \"modern\", \"works\", \"potsdampic\", \"work\", \"potsdam\", \"pic\", \"abstraktion\", \"bit\", \"berlin\", \"hasso\", \"event\", \"rbb\", \"product\", \"lifes\", \"sap\", \"sagt\", \"filmmuseumpotsd\", \"amerikanische\", \"documentid\", \"bcastid\", \"looking\", \"travel\", \"date\", \"billionaire\", \"software\", \"site\", \"opened\", \"stephanreimertz\", \"rbbfernsehen\", \"files\", \"ardmediathek\", \"ruthe\", \"ingeborg\", \"assets\", \"oct\", \"career\", \"museumsdirektorin\", \"wolfgang\", \"dagmar\", \"jahrhundertschritt\", \"westheider\", \"fernsehen\", \"ortrud\", \"plattner\", \"markt\", \"shop\", \"direktorin\", \"doku\", \"alten\", \"gesprach\", \"interview\", \"eroffnung\", \"berliner\", \"potsdam\", \"pic\", \"pnn\", \"heute\", \"online\", \"impressionismus\", \"januar\", \"zeitung\", \"kultur\", \"uhr\", \"video\", \"eroffnet\", \"kunst\", \"bit\", \"tickets\", \"berlin\", \"lohnt\", \"interessant\", \"amerikas\", \"wert\", \"freundlich\", \"swarmapp\", \"wann\", \"illies\", \"florian\", \"spannende\", \"klassiker\", \"artefaktberlin\", \"amerikanischen\", \"wwecker\", \"nachbrandenburg\", \"freunde\", \"unglaublich\", \"endlich\", \"fussmann\", \"lieben\", \"verstandlich\", \"wichtig\", \"radio\", \"chefredakteur\", \"eben\", \"anhoren\", \"nachbrandenburghttps\", \"lesen\", \"silke\", \"setzt\", \"goo\", \"maitagung\", \"wunschen\", \"liebe\", \"mal\", \"status\", \"moderne\", \"hopper\", \"rothko\", \"klaus\", \"warum\", \"besuch\", \"gesehen\", \"immer\", \"schon\", \"guten\", \"menschen\", \"kunst\", \"neues\", \"museen\", \"potsdam\", \"freue\", \"ausstellungen\", \"begeistert\", \"beim\", \"ausstellung\", \"gibt\", \"pic\", \"morgen\", \"brandenburg\", \"bilder\", \"neue\", \"heute\", \"viele\", \"informativ\", \"jauch\", \"ubersichtlich\", \"hervorragend\", \"behind\", \"prima\", \"mask\", \"thank\", \"guide\", \"given\", \"bedienen\", \"best\", \"directors\", \"might\", \"kopfhorer\", \"genial\", \"popularity\", \"tempted\", \"zuhause\", \"econ\", \"gestaltet\", \"app\", \"dust\", \"hidden\", \"funktion\", \"politik\", \"potsdamhttps\", \"ton\", \"braucht\", \"excellent\", \"audio\", \"audioguide\", \"hilfreich\", \"gefallen\", \"toll\", \"super\", \"gut\", \"gemacht\", \"funktioniert\", \"hause\", \"gute\", \"perfekt\", \"tour\", \"einfach\", \"macht\", \"informationen\", \"museumsbesuch\", \"wirklich\", \"richtig\", \"personal\", \"leider\", \"bilder\", \"schon\", \"ausstellung\", \"museums\", \"danke\", \"ausstellungen\", \"tolle\", \"mehr\", \"dank\", \"klasse\", \"geschlossen\", \"karten\", \"herzlichen\", \"ambiente\", \"herr\", \"kaufen\", \"haus\", \"direkt\", \"kasse\", \"bleiben\", \"hervorragende\", \"begleitung\", \"steinmeier\", \"eintrittskarten\", \"wunderschones\", \"garderobe\", \"ohr\", \"angebot\", \"offen\", \"modernes\", \"barberinisymposium\", \"willkommen\", \"eroeffnung\", \"bundesprasident\", \"kunstgenuss\", \"eintrittspreis\", \"vielen\", \"fotografieren\", \"tolles\", \"einlass\", \"gutes\", \"wunsche\", \"tolle\", \"monopol\", \"magazin\", \"jahreskarte\", \"empfehlenswert\", \"danke\", \"unbedingt\", \"leider\", \"ausstellungen\", \"gerne\", \"freuen\", \"schone\", \"konnten\", \"interessante\", \"geht\", \"ausstellung\", \"wunderbare\", \"schon\", \"bilder\", \"besuchen\", \"viele\", \"besucher\", \"gibt\", \"gerade\", \"online\", \"gut\", \"immer\", \"heute\", \"picasso\", \"picassos\", \"spate\", \"picassobarberini\", \"jacqueline\", \"spatwerk\", \"sehenswert\", \"pablo\", \"raubkunst\", \"bernardo\", \"teuer\", \"trump\", \"hassoplattner\", \"romero\", \"laniado\", \"berggruen\", \"pavillon\", \"innenstadt\", \"offentlichen\", \"fruher\", \"komplett\", \"photography\", \"hutin\", \"kongo\", \"tech\", \"letzte\", \"entdeckt\", \"offnungszeiten\", \"medien\", \"plattners\", \"schones\", \"cafe\", \"sammlung\", \"absolut\", \"late\", \"werk\", \"empfehlen\", \"merkel\", \"potsdamer\", \"besucher\", \"kuratorin\", \"letzten\", \"ausstellung\", \"tag\", \"gebaude\", \"potsdam\", \"schoner\", \"zeigt\", \"angela\", \"schon\", \"schau\", \"zeit\", \"pic\", \"ausstellungen\", \"sehen\", \"pnn\", \"kultur\", \"immer\", \"werke\"], \"Total\": [884.0, 830.0, 745.0, 556.0, 642.0, 2024.0, 357.0, 476.0, 336.0, 298.0, 346.0, 388.0, 415.0, 1112.0, 238.0, 355.0, 232.0, 214.0, 213.0, 211.0, 321.0, 289.0, 434.0, 172.0, 182.0, 213.0, 617.0, 202.0, 182.0, 192.0, 232.59127032272724, 336.6402377458255, 130.52324345269653, 104.00840061307909, 71.63784341848086, 66.7307267914811, 56.916487885104544, 43.17592362204909, 40.2322969421891, 32.380910334378115, 30.418063640632948, 29.436639066767412, 28.455216432308198, 27.4737937278072, 24.529523525047697, 24.52952286043916, 23.548100455635893, 65.7534674831251, 21.58525178671399, 21.58525402676013, 20.60383079048388, 19.62240702438895, 18.640982830133005, 18.640982809650794, 17.65956023846058, 16.678137317963007, 39.2500186202156, 15.69671373545076, 15.696713743067955, 15.696713199432514, 31.429582674733982, 45.13549732064149, 74.3793943026234, 289.5085514682004, 45.96327316790002, 78.75004259362072, 26.523198814414872, 78.85071647797874, 40.97245990594561, 332.56090916357977, 237.9249865121755, 380.4134559612835, 2024.220218422523, 617.2631093338141, 108.42464369619104, 251.70860470724847, 1564.3911134090865, 182.37383981714362, 85.17263418688985, 216.16262872733924, 156.39364520360857, 337.4385710790389, 192.11459241601364, 1112.9613541500046, 192.38950758438753, 370.47823104386055, 131.1812664830361, 884.0323303108084, 745.4540891423117, 357.03040617684525, 133.48448405747774, 102.12736380722681, 80.8825956304659, 63.689602982418634, 59.64352287478942, 142.58175403617642, 38.40160350973836, 37.390083351712526, 35.367043040166266, 33.34400271355876, 30.30944270601276, 29.297923963485584, 29.297923290353015, 28.28640318059472, 25.251843838749174, 23.22880190335207, 21.20576332704512, 21.205763201400437, 21.20575890510282, 20.194243345646417, 19.18272325127164, 18.171203524043733, 18.171203405830745, 18.171203207396225, 17.15968382947478, 17.15968375777467, 17.159683514789307, 37.32124659546074, 44.30374619720461, 35.3584642131576, 36.35648768618593, 161.51490374485732, 62.40668667028581, 44.25183834320957, 54.423641499373794, 37.3013185189284, 93.70480542619468, 35.129571575293554, 142.26414205176047, 1564.3911134090865, 102.33068323378659, 192.38950758438753, 131.1812664830361, 337.4385710790389, 146.19234640906407, 830.5228614087147, 298.2466222750252, 213.88585986931145, 211.87727039990085, 172.70977277161288, 119.48214787657307, 123.49755908001967, 99.39625263053439, 95.37907395722355, 75.29317819482168, 67.258819654768, 55.2072820206861, 55.20728156679205, 54.202987361653214, 45.16435225328635, 44.16003954198314, 40.142859806241574, 37.1299752692094, 35.12138442278352, 30.099912523696048, 30.099911145925088, 30.099911700017678, 61.208065177982554, 82.2722201789255, 22.065554345669234, 21.061007285689335, 20.056964614409473, 20.05695885128071, 19.052669928209315, 17.0440796626428, 63.26478912120947, 135.73033506957904, 32.00737090420393, 56.42379306768912, 91.9746561979641, 45.8904085519364, 142.26414205176047, 93.70480542619468, 1564.3911134090865, 102.33068323378659, 337.4385710790389, 192.38950758438753, 1112.9613541500046, 415.58664759302906, 370.47823104386055, 214.57629184303224, 156.14050211964565, 98.70924863793468, 47.32339125740364, 37.2477284154986, 34.225035582611405, 29.18720429391655, 27.172074972216606, 26.16426699324326, 50.27748948933339, 24.14937616306104, 24.14937667683348, 35.21859928564744, 22.134463182815377, 20.11909511769531, 20.119080481493807, 18.103982520714574, 18.103982171247463, 18.103978031667037, 17.096416877593192, 15.0812841656297, 14.073719603190547, 14.073593163074902, 14.071481579716739, 13.066153358602213, 13.066151110530583, 182.02248434923484, 12.058586903605589, 12.058586732405525, 12.058586590937457, 35.17380040755147, 24.118834473633108, 63.99228831753831, 321.7349606461161, 111.197532005518, 30.165975063700223, 38.17269634799082, 100.91700415886186, 50.825980652433515, 388.8480493026876, 476.4752849253773, 88.64536118553833, 85.89693314983941, 164.7670498319149, 77.89709293349003, 111.45877907678049, 1112.9613541500046, 278.3257163924365, 121.41798951664288, 1564.3911134090865, 370.47823104386055, 337.4385710790389, 197.78750715878834, 95.04189266195735, 2024.220218422523, 137.03519645471587, 617.2631093338141, 126.94850913635577, 388.999259491285, 89.27806220418621, 62.974914358215116, 62.97491446900668, 62.035527432236535, 62.035582483564085, 58.27797908048741, 125.0122488484075, 50.7628825321016, 49.82349448118207, 47.00533409033037, 45.12659180177958, 43.247785507479385, 52.65408332821466, 38.550848895680396, 36.67207483373292, 36.672075769917925, 36.672146100684415, 35.73268804977976, 32.91452607888112, 32.9145265609506, 31.035752061937053, 30.096365572521528, 34.804880738137314, 238.11806214991313, 28.217590398317682, 28.217591086449293, 28.217591296276783, 28.218227294661755, 27.27820544630641, 27.278425915661252, 63.09045347723325, 40.46632488225824, 38.58206072050982, 36.715321351528374, 56.594071746976105, 64.24432273876117, 415.58664759302906, 95.72056332477592, 68.27606954654557, 133.99824324866773, 53.00135491748534, 476.4752849253773, 388.8480493026876, 126.94850913635577, 72.45781917980752, 58.641912805821704, 76.3487205040079, 76.17131513481984, 54.011605143308536, 2024.220218422523, 1112.9613541500046, 164.7670498319149, 370.47823104386055, 332.56090916357977, 143.18654691521945, 61.782905000241435, 126.4998435776726, 43.148336073584446, 31.37915983621027, 27.456066480223996, 27.4560602204737, 25.4945333748214, 25.494531284910117, 24.513748567001457, 24.513748566702244, 23.532997722523834, 23.532997493063984, 54.862595045886984, 21.571465094811384, 18.629165242180317, 18.62916582350554, 18.629164282026462, 17.648399161579025, 15.686865934769985, 15.686866211695891, 15.686864413049678, 14.706098803908208, 14.706098803908208, 14.70609939351791, 14.706093070005927, 14.70609499547323, 24.52845628555739, 26.474320570424197, 12.744565468219793, 17.647935436034214, 192.20967637577743, 42.12793074765033, 171.6478342039892, 202.15650373021612, 68.74339184077047, 77.27138501970029, 103.95149112935205, 24.563133947321553, 93.14980352917027, 53.17241962325184, 76.64750417371948, 133.5753810197587, 83.22166497631129, 2024.220218422523, 1112.9613541500046, 251.70860470724847, 388.999259491285, 275.54680228865, 112.44296847183307, 68.87922142052055, 68.99056767224884, 380.4134559612835, 321.7349606461161, 62.59859538285054, 89.39860779493405, 617.2631093338141, 370.47823104386055, 198.69795831120075, 332.56090916357977, 68.78852422137385, 49.94652273370149, 24.519189868980327, 53.792766744790946, 22.635684892302994, 20.752177785701143, 18.868672025355774, 18.86867227555126, 18.86867227555126, 18.86867531803985, 16.985166408500298, 22.656970892121727, 16.043415415352356, 29.243825895816396, 14.159907119548603, 14.159826531534758, 12.276404889586306, 25.534863855369004, 11.334648502097584, 11.334647587817294, 11.334647771212389, 11.334651109538552, 11.334657020759002, 10.392895751829304, 10.392896109907007, 10.392897635257683, 10.392901934147437, 25.467934449329807, 11.354152112467913, 11.347499363311172, 18.86580027832682, 84.01106164071022, 18.873449839157686, 46.540253264502454, 185.7018894941315, 355.65953234926343, 104.99918398687075, 112.98157503027501, 89.44974604164346, 76.44935143278391, 44.67461748594362, 239.70123391506513, 75.73944242682842, 241.61930948277626, 370.6312006578174, 32.13064384519786, 87.28441377613909, 617.2631093338141, 63.24504488235198, 106.16600303341929, 2024.220218422523, 39.044588637682345, 434.33293740927644, 66.61759434608211, 109.51310042674956, 1564.3911134090865, 202.8756781137811, 1112.9613541500046, 100.01439946701805, 156.39364520360857, 220.1030110673241, 182.37383981714362, 388.999259491285, 149.0447619097435, 96.48575933553661, 43.52950133333602, 38.80126297708281, 32.18173139573312, 28.399142910688496, 25.56219842582267, 24.616551220216863, 24.61655312709018, 71.96122930198923, 23.670906009294143, 22.725255921606724, 22.725256280554188, 21.77960840128536, 21.779608204434524, 36.92100884983608, 20.83396169112327, 19.888313269668785, 19.888313211522583, 18.942666575661484, 18.94266572050453, 17.99715834065181, 642.3162863690965, 16.10572336442222, 16.10572336442222, 16.105724050998013, 16.105725607002352, 16.105726024314876, 15.160076460356308, 15.16007724079004, 15.160075468977409, 97.40832178964904, 60.603842246568185, 30.349078808666246, 36.01407014190268, 93.6184675265986, 182.86075202276132, 346.0568170483503, 107.77117003964223, 63.503566043318436, 45.607200559983205, 171.98608051868837, 42.666869276704745, 83.86417632442236, 132.32638879659305, 105.26358188452632, 78.44068366463355, 38.87668686453189, 78.11269285728422, 30.33791876547871, 56.22017904842055, 144.24613185992993, 220.1030110673241, 370.6312006578174, 1564.3911134090865, 136.95975578405947, 215.75788992467287, 434.33293740927644, 213.74492419195022, 195.8873351137433, 146.20627299451476, 62.528919286922076, 64.45388449622786, 41.370148583424125, 27.905044932430123, 27.905044846823564, 25.9814960570598, 28.86870652942582, 82.81594030214404, 23.097058866778706, 25.021550078125948, 22.13439970323217, 18.287301355941075, 18.287301085920753, 18.287298136348273, 17.325526927391053, 17.3262140539503, 16.363752735722553, 15.401979208887166, 14.440204248100601, 14.440204229473665, 13.478429480163612, 13.478430195037442, 12.516656714019573, 12.516655362533877, 11.554881897367036, 11.554880326028483, 16.370761025822123, 117.50796407711745, 16.371683500189853, 135.23772003769565, 24.033932054050535, 21.193683638739756, 22.126267270240714, 213.74492419195022, 45.331475845396966, 56.93046533825503, 55.612797744462846, 35.491056087334215, 215.75788992467287, 67.0908451622264, 144.24613185992993, 434.33293740927644, 43.11560850627121, 79.87911909935396, 113.19835459356493, 31.787612778150972, 67.08752310863186, 139.32707527934406, 1564.3911134090865, 47.39703952752456, 370.6312006578174, 220.1030110673241, 69.58902355173753, 149.0447619097435, 192.2449549850569, 202.8756781137811, 57.822233848981185, 275.54680228865, 346.0568170483503, 241.61930948277626, 388.999259491285, 556.3582490556944, 85.2127711283766, 69.54069592994999, 62.684162338507974, 59.74564879385311, 46.032756345955654, 71.47511489480068, 37.217059916955, 23.503973127799124, 19.585953370083953, 18.606448452671636, 17.6269432606942, 17.6269432558607, 16.647438956770145, 16.647438956770145, 14.68843015640375, 14.688430789546558, 13.708920128031313, 30.36263140194951, 14.68449895901857, 12.729419431990983, 19.59969374517697, 11.749915245014142, 11.749914393051533, 11.749909431185902, 32.348253347767574, 10.770409530080851, 25.51391518705916, 12.675577212651593, 16.540567905914262, 122.41454328054157, 56.32260838216311, 115.50876679895777, 44.60034136342677, 26.449096652600467, 182.63836911152717, 63.81033118910295, 51.087904724163344, 192.11459241601364, 192.2449549850569, 44.424054453052634, 55.31825061940677, 1564.3911134090865, 77.18043710272059, 106.12085458020738, 2024.220218422523, 49.54868289199936, 216.16262872733924, 34.771981677618555, 370.6312006578174, 337.4385710790389, 146.19234640906407, 1112.9613541500046, 434.33293740927644, 278.3257163924365, 251.70860470724847, 380.4134559612835, 241.61930948277626, 197.78750715878834], \"loglift\": [30.0, 29.0, 28.0, 27.0, 26.0, 25.0, 24.0, 23.0, 22.0, 21.0, 20.0, 19.0, 18.0, 17.0, 16.0, 15.0, 14.0, 13.0, 12.0, 11.0, 10.0, 9.0, 8.0, 7.0, 6.0, 5.0, 4.0, 3.0, 2.0, 1.0, 2.1179, 2.117, 2.115, 2.1095, 2.1094, 2.1085, 2.1062, 2.1008, 2.0997, 2.0943, 2.0925, 2.0915, 2.0904, 2.0893, 2.0853, 2.0853, 2.0838, 2.0821, 2.0802, 2.0802, 2.0782, 2.076, 2.0735, 2.0735, 2.0708, 2.0677, 2.0653, 2.0642, 2.0642, 2.0642, 2.0597, 2.0549, 2.0462, 1.9387, 2.0158, 1.9694, 2.0468, 1.9084, 1.9557, 1.5593, 1.53, 1.4002, 0.7898, 1.1094, 1.6291, 1.2849, 0.4549, 1.2413, 1.5932, 1.0589, 1.2115, 0.6819, 0.9747, -0.2622, 0.8777, 0.253, 1.1324, 2.231, 2.2308, 2.2295, 2.2254, 2.2234, 2.22, 2.2182, 2.2172, 2.2142, 2.2089, 2.2083, 2.2069, 2.2054, 2.2027, 2.2017, 2.2017, 2.2006, 2.1967, 2.1936, 2.1899, 2.1899, 2.1898, 2.1877, 2.1853, 2.1827, 2.1827, 2.1827, 2.1797, 2.1797, 2.1797, 2.1711, 2.1587, 2.1416, 2.1172, 1.859, 1.9987, 2.0354, 1.8463, 1.9528, 1.54, 1.954, 1.2474, -0.2006, 1.2713, 0.5694, 0.8925, -0.0354, 0.6306, 2.2455, 2.2436, 2.2425, 2.2424, 2.2415, 2.2392, 2.2389, 2.2377, 2.2374, 2.2349, 2.2335, 2.2306, 2.2306, 2.2303, 2.227, 2.2266, 2.2245, 2.2227, 2.2214, 2.2171, 2.2171, 2.2171, 2.2157, 2.2086, 2.2061, 2.2036, 2.202, 2.202, 2.1996, 2.1939, 2.1113, 1.8263, 2.0734, 1.8813, 1.7136, 1.9294, 1.3835, 1.5356, -0.1514, 1.3943, 0.5157, 0.8799, -0.581, 0.1478, 0.2045, 2.2483, 2.2473, 2.244, 2.2343, 2.2292, 2.227, 2.2225, 2.2202, 2.2186, 2.2161, 2.216, 2.216, 2.2124, 2.2095, 2.2085, 2.2084, 2.2034, 2.2034, 2.2034, 2.2004, 2.1932, 2.1888, 2.1886, 2.1852, 2.1837, 2.1836, 2.1807, 2.1776, 2.1776, 2.1776, 2.1612, 2.1667, 2.1097, 1.8924, 1.9879, 2.1038, 2.0443, 1.8882, 1.987, 1.6222, 1.5521, 1.8725, 1.8488, 1.6302, 1.7892, 1.6112, 0.5811, 1.0765, 1.4314, 0.1768, 0.866, 0.8874, 1.0916, 1.4722, -0.5764, 1.1474, -0.0752, 1.174, 0.1298, 2.2492, 2.2455, 2.2455, 2.2453, 2.2453, 2.2444, 2.2433, 2.2421, 2.2418, 2.2407, 2.2399, 2.239, 2.239, 2.2365, 2.2353, 2.2353, 2.2352, 2.2346, 2.2325, 2.2325, 2.2308, 2.2299, 2.2286, 2.2283, 2.2279, 2.2279, 2.2279, 2.2273, 2.2268, 2.2266, 2.2164, 2.2157, 2.2167, 2.2165, 2.1795, 2.1399, 1.9225, 2.0857, 2.109, 1.948, 2.1298, 1.5562, 1.4956, 1.8348, 2.0131, 2.0774, 1.983, 1.9764, 2.1013, 0.3842, 0.5723, 1.4804, 0.9395, 0.5263, 2.3329, 2.3247, 2.3224, 2.3185, 2.3106, 2.3066, 2.3065, 2.304, 2.304, 2.3026, 2.3026, 2.301, 2.301, 2.2995, 2.2975, 2.2908, 2.2908, 2.2908, 2.288, 2.2815, 2.2815, 2.2815, 2.2775, 2.2775, 2.2775, 2.2775, 2.2775, 2.2757, 2.2752, 2.2677, 2.2664, 2.2069, 2.2467, 2.2023, 2.1715, 2.2126, 2.1596, 2.0931, 2.2095, 1.9666, 2.0616, 1.9126, 1.7572, 1.8795, 0.9636, 1.0839, 1.3985, 1.1621, 1.2929, 1.6465, 1.8243, 1.7531, 0.7862, 0.8467, 1.7592, 1.4743, 0.0863, 0.3575, 0.7523, 0.2785, 2.3353, 2.3331, 2.3143, 2.3124, 2.3112, 2.3075, 2.3031, 2.3031, 2.3031, 2.3031, 2.2976, 2.2962, 2.2944, 2.2931, 2.2867, 2.2842, 2.2764, 2.2713, 2.27, 2.27, 2.27, 2.27, 2.27, 2.2623, 2.2623, 2.2623, 2.2621, 2.2442, 2.2427, 2.2392, 2.2375, 2.221, 2.2364, 2.1884, 2.1023, 2.0538, 2.1052, 2.0833, 2.0848, 2.0909, 2.0957, 1.8766, 1.9847, 1.7737, 1.4018, 2.0858, 1.7872, 1.1729, 1.8462, 1.6595, 0.5294, 2.0115, 0.9531, 1.7622, 1.5109, 0.1684, 1.1559, 0.252, 1.4921, 1.2085, 0.9675, 1.0665, 0.3888, 1.0848, 2.3777, 2.3664, 2.3639, 2.3591, 2.3553, 2.3518, 2.3504, 2.3504, 2.3497, 2.3489, 2.3473, 2.3473, 2.3456, 2.3456, 2.344, 2.3436, 2.3415, 2.3415, 2.3392, 2.3392, 2.3362, 2.3311, 2.3306, 2.3306, 2.3306, 2.3306, 2.3306, 2.327, 2.327, 2.327, 2.3182, 2.3181, 2.3227, 2.3202, 2.2925, 2.2708, 2.2126, 2.2311, 2.2564, 2.2637, 2.1408, 2.2399, 2.1435, 2.0316, 2.0253, 2.0464, 2.1972, 1.9941, 2.2563, 1.9306, 1.4105, 1.0509, 0.5531, -0.5793, 1.1545, 0.7358, 0.1107, 0.6494, 0.7291, 2.3934, 2.3863, 2.3856, 2.3789, 2.3685, 2.3685, 2.3661, 2.3658, 2.3636, 2.3609, 2.3605, 2.36, 2.3512, 2.3512, 2.3512, 2.3484, 2.3461, 2.3453, 2.3417, 2.3377, 2.3377, 2.3331, 2.333, 2.3277, 2.3277, 2.3214, 2.3214, 2.32, 2.3195, 2.3166, 2.2488, 2.3005, 2.2992, 2.2952, 2.1469, 2.2274, 2.199, 2.1909, 2.1902, 1.8576, 2.0441, 1.8812, 1.6134, 2.134, 1.9832, 1.83, 2.1916, 1.9614, 1.6906, 0.6428, 2.0101, 0.9877, 1.2137, 1.7783, 1.3202, 1.1592, 1.1042, 1.8835, 0.717, 0.4858, 0.6022, 0.0993, 2.4832, 2.4747, 2.4724, 2.471, 2.4703, 2.4657, 2.464, 2.4612, 2.447, 2.4392, 2.4368, 2.434, 2.434, 2.4309, 2.4309, 2.4235, 2.4235, 2.4189, 2.4182, 2.4168, 2.4136, 2.4091, 2.4075, 2.4074, 2.4074, 2.4041, 2.4001, 2.3729, 2.273, 2.2563, 2.2484, 2.1936, 2.0161, 2.1277, 2.2281, 1.7338, 1.9274, 1.9845, 1.4333, 1.4248, 1.9948, 1.9073, 0.555, 1.7636, 1.595, -0.1214, 1.8731, 0.9624, 2.0504, 0.432, 0.4678, 1.0636, -0.495, 0.1649, 0.4895, 0.5063, 0.103, 0.5151, 0.6542], \"logprob\": [30.0, 29.0, 28.0, 27.0, 26.0, 25.0, 24.0, 23.0, 22.0, 21.0, 20.0, 19.0, 18.0, 17.0, 16.0, 15.0, 14.0, 13.0, 12.0, 11.0, 10.0, 9.0, 8.0, 7.0, 6.0, 5.0, 4.0, 3.0, 2.0, 1.0, -3.6284, -3.2596, -4.2091, -4.4417, -4.8146, -4.8865, -5.0479, -5.3296, -5.4013, -5.6238, -5.6881, -5.7219, -5.7569, -5.7931, -5.9105, -5.9105, -5.9528, -4.9276, -6.0434, -6.0434, -6.092, -6.143, -6.1968, -6.1968, -6.2536, -6.3139, -5.4604, -6.378, -6.378, -6.378, -5.6881, -5.331, -4.8402, -3.5888, -5.352, -4.86, -5.8708, -4.9197, -5.5271, -3.8295, -4.1936, -3.8542, -2.7929, -3.661, -4.8805, -4.3825, -3.3855, -4.7483, -5.1577, -4.7607, -4.9317, -4.6923, -4.9629, -4.4431, -5.0585, -5.0279, -5.1867, -2.1802, -2.3508, -3.0883, -4.0762, -4.346, -4.5827, -4.8235, -4.89, -4.0215, -5.3386, -5.3659, -5.4229, -5.4834, -5.5815, -5.6164, -5.6164, -5.6527, -5.77, -5.8566, -5.9515, -5.9515, -5.9515, -6.0025, -6.0563, -6.1131, -6.1131, -6.1131, -6.1734, -6.1734, -6.1734, -5.405, -5.2458, -5.4885, -5.4851, -4.252, -5.0633, -5.3703, -5.3526, -5.6238, -5.1155, -5.6826, -4.9906, -4.041, -5.2961, -5.3668, -5.4266, -5.4096, -5.5802, -2.2281, -3.2541, -3.5877, -3.5972, -3.8025, -4.1732, -4.1405, -4.3588, -4.4004, -4.6394, -4.7536, -4.9539, -4.9539, -4.9726, -5.1584, -5.1812, -5.2786, -5.3585, -5.4155, -5.574, -5.574, -5.574, -4.8657, -4.577, -5.8955, -5.9446, -5.9951, -5.9951, -6.0489, -6.166, -4.937, -4.4587, -5.6563, -5.2815, -4.9606, -5.44, -4.8545, -5.1199, -3.9918, -5.1731, -4.8586, -5.0562, -4.7619, -5.0182, -5.0764, -3.5787, -3.8976, -4.3594, -5.1044, -5.3489, -5.4356, -5.5994, -5.6732, -5.7127, -5.062, -5.7953, -5.7953, -5.4217, -5.889, -5.9855, -5.9855, -6.0961, -6.0961, -6.0961, -6.1563, -6.289, -6.3626, -6.3627, -6.3663, -6.442, -6.442, -3.8108, -6.5282, -6.5282, -6.5282, -5.4741, -5.8459, -4.9272, -3.5295, -4.4964, -5.6851, -5.5092, -4.6931, -5.2803, -3.6102, -3.4771, -4.8385, -4.8937, -4.4609, -5.0511, -4.8708, -3.5997, -4.4904, -4.965, -3.6636, -4.4148, -4.4868, -4.8169, -5.1691, -4.1591, -5.128, -4.8455, -5.1779, -5.1022, -4.4547, -4.8074, -4.8074, -4.8226, -4.8226, -4.886, -4.1239, -5.0264, -5.0454, -5.1047, -5.1463, -5.1897, -4.9929, -5.3072, -5.3583, -5.3583, -5.3584, -5.3849, -5.4693, -5.4693, -5.5297, -5.5613, -5.4173, -3.4946, -5.6278, -5.6278, -5.6278, -5.6283, -5.6628, -5.663, -4.8347, -5.2795, -5.3262, -5.376, -4.9802, -4.8931, -3.2435, -4.5485, -4.863, -4.3498, -5.0955, -3.473, -3.7369, -4.517, -4.8996, -5.0468, -4.8773, -4.8862, -5.1051, -3.1985, -3.6085, -4.6107, -4.3414, -4.8626, -3.8986, -4.7473, -4.033, -5.1125, -5.4389, -5.5765, -5.5765, -5.6532, -5.6532, -5.6938, -5.6938, -5.7362, -5.7362, -4.8913, -5.8268, -5.9801, -5.9801, -5.9801, -6.0369, -6.1613, -6.1613, -6.1613, -6.2299, -6.2299, -6.2299, -6.2299, -6.2299, -5.7201, -5.6443, -6.3828, -6.0587, -3.7301, -5.2082, -3.8479, -3.7151, -4.7527, -4.6888, -4.4587, -5.7849, -4.6949, -5.1605, -4.9438, -4.5437, -4.8946, -2.6191, -3.097, -4.2689, -4.07, -4.284, -4.8266, -5.1389, -5.2085, -4.4682, -4.5752, -5.2997, -5.2282, -4.684, -4.9233, -5.1515, -5.1104, -4.6293, -4.9516, -5.6819, -4.8981, -5.7649, -5.8555, -5.9551, -5.9551, -5.9551, -5.9551, -6.0657, -5.779, -6.1259, -5.5269, -6.2586, -6.261, -6.4116, -5.6843, -6.4978, -6.4978, -6.4978, -6.4978, -6.4978, -6.5922, -6.5922, -6.5922, -6.5924, -5.714, -6.5233, -6.5274, -6.0208, -4.5437, -6.0214, -5.1669, -3.8692, -3.2679, -4.4365, -4.3852, -4.6171, -4.7681, -5.3005, -3.8396, -4.8836, -3.9346, -3.8786, -5.64, -4.9393, -3.5974, -5.2024, -4.8711, -3.0533, -5.5194, -4.1688, -5.2344, -4.9887, -3.672, -4.7272, -3.9289, -5.0982, -4.9347, -4.8341, -4.9231, -4.8433, -5.1066, -4.2486, -5.0558, -5.1733, -5.3652, -5.494, -5.6028, -5.6418, -5.6418, -4.5698, -5.6825, -5.7249, -5.7249, -5.7691, -5.7691, -5.2428, -5.8154, -5.864, -5.864, -5.915, -5.915, -5.9693, -2.3994, -6.0859, -6.0859, -6.0859, -6.0859, -6.0859, -6.15, -6.15, -6.15, -4.2986, -4.7731, -5.4602, -5.2915, -4.3639, -3.7161, -3.1365, -4.2845, -4.7882, -5.1119, -3.9074, -5.2023, -4.6229, -4.2787, -4.5139, -4.7869, -5.338, -4.8433, -5.5269, -5.2358, -4.8136, -4.7506, -4.7274, -4.4197, -5.1214, -5.0857, -5.0112, -5.1814, -5.189, -3.8172, -4.6737, -4.6441, -5.0942, -5.4983, -5.4983, -5.5722, -5.467, -4.4154, -5.695, -5.6154, -5.7385, -5.9382, -5.9382, -5.9382, -5.995, -5.9973, -6.0553, -6.1194, -6.1879, -6.1879, -6.2615, -6.2615, -6.3409, -6.3409, -6.4272, -6.4272, -6.0801, -4.1096, -6.0835, -4.0398, -5.7157, -5.8428, -5.8036, -3.684, -5.1542, -4.9548, -4.9864, -5.4361, -3.9639, -4.9455, -4.3429, -3.5084, -5.2978, -4.8319, -4.6365, -5.5449, -5.0283, -4.5682, -3.1976, -5.327, -4.2928, -4.5878, -5.1747, -4.8712, -4.7777, -4.7788, -5.2548, -4.8598, -4.8633, -5.106, -5.1328, -2.391, -4.2758, -4.4814, -4.5866, -4.6353, -4.9006, -4.4623, -5.1177, -5.5914, -5.7816, -5.8354, -5.8922, -5.8922, -5.9525, -5.9525, -6.0851, -6.0851, -6.1587, -5.3642, -6.0921, -6.2381, -5.8111, -6.3243, -6.3243, -6.3244, -5.315, -6.4188, -5.5835, -6.3829, -6.1335, -4.1398, -4.971, -4.4302, -5.2702, -5.6923, -4.2544, -5.1124, -5.2776, -4.5043, -4.5121, -5.4071, -5.2753, -3.2853, -5.0859, -4.936, -3.7041, -5.4196, -4.8572, -5.5965, -4.8484, -4.9065, -5.1472, -4.6758, -4.9569, -5.0773, -5.1611, -5.1514, -5.1931, -5.2542]}, \"token.table\": {\"Topic\": [7, 9, 10, 5, 4, 5, 1, 6, 9, 10, 9, 6, 7, 7, 2, 9, 5, 10, 2, 3, 10, 7, 4, 1, 2, 3, 8, 9, 1, 6, 3, 2, 1, 2, 3, 5, 6, 1, 3, 7, 1, 6, 2, 3, 4, 10, 7, 8, 8, 9, 3, 1, 2, 3, 4, 5, 6, 7, 8, 9, 10, 3, 4, 7, 8, 9, 10, 1, 4, 3, 1, 3, 9, 1, 4, 1, 6, 5, 6, 5, 4, 4, 8, 3, 7, 9, 9, 8, 2, 3, 4, 6, 7, 8, 9, 10, 10, 1, 4, 5, 6, 7, 10, 1, 3, 4, 5, 6, 10, 10, 8, 4, 7, 8, 9, 10, 4, 7, 9, 10, 1, 3, 4, 7, 9, 10, 1, 2, 3, 4, 5, 7, 8, 9, 10, 6, 1, 2, 3, 4, 5, 6, 10, 9, 2, 2, 1, 4, 5, 6, 7, 8, 4, 2, 2, 9, 7, 8, 10, 5, 1, 5, 1, 6, 7, 3, 6, 7, 3, 3, 3, 2, 3, 5, 5, 1, 5, 3, 5, 6, 1, 3, 9, 7, 8, 9, 10, 5, 6, 1, 2, 7, 9, 3, 3, 8, 9, 1, 6, 10, 6, 3, 6, 2, 8, 7, 8, 3, 2, 7, 8, 9, 10, 8, 9, 9, 9, 8, 9, 10, 7, 8, 9, 2, 7, 10, 1, 2, 3, 4, 6, 9, 1, 3, 4, 6, 9, 1, 3, 4, 5, 6, 7, 9, 10, 6, 8, 3, 5, 5, 1, 2, 6, 1, 5, 2, 3, 4, 5, 6, 2, 4, 2, 3, 4, 3, 6, 7, 6, 6, 3, 5, 6, 3, 7, 4, 9, 10, 2, 7, 10, 5, 6, 7, 9, 10, 7, 7, 1, 2, 10, 4, 4, 4, 7, 8, 9, 10, 4, 6, 8, 10, 8, 8, 9, 7, 1, 2, 3, 5, 9, 1, 7, 8, 9, 10, 8, 10, 1, 2, 4, 6, 7, 9, 2, 3, 8, 1, 2, 3, 4, 7, 8, 10, 8, 1, 1, 1, 3, 7, 9, 4, 5, 4, 5, 3, 5, 3, 5, 6, 7, 8, 9, 9, 3, 4, 7, 9, 1, 2, 3, 6, 8, 1, 2, 3, 4, 6, 7, 8, 9, 10, 8, 3, 2, 2, 5, 7, 5, 2, 5, 6, 8, 7, 8, 9, 10, 7, 8, 7, 8, 10, 9, 10, 6, 10, 3, 9, 3, 7, 8, 3, 9, 8, 9, 9, 2, 1, 2, 3, 4, 5, 6, 7, 9, 10, 8, 3, 8, 1, 7, 5, 7, 10, 5, 7, 2, 3, 4, 7, 8, 9, 10, 1, 2, 3, 6, 7, 9, 10, 2, 4, 6, 8, 9, 10, 8, 4, 6, 10, 1, 5, 7, 7, 8, 9, 10, 1, 2, 5, 6, 10, 3, 1, 1, 10, 1, 2, 3, 4, 6, 7, 10, 7, 9, 10, 6, 2, 3, 5, 6, 9, 8, 1, 2, 5, 4, 9, 9, 9, 4, 4, 8, 9, 4, 9, 7, 1, 4, 7, 2, 10, 10, 1, 2, 3, 4, 7, 8, 9, 2, 7, 9, 8, 9, 4, 2, 2, 1, 2, 3, 4, 5, 6, 7, 10, 3, 10, 1, 2, 3, 4, 5, 6, 7, 9, 10, 9, 1, 1, 1, 2, 3, 4, 6, 7, 9, 10, 4, 2, 3, 4, 5, 6, 10, 1, 2, 10, 10, 6, 10, 7, 8, 9, 7, 8, 4, 10, 2, 4, 9, 10, 1, 2, 3, 6, 10, 1, 2, 7, 7, 6, 5, 7, 5, 3, 6, 5, 6, 1, 6, 7, 8, 9, 10, 7, 8, 9, 4, 4, 7, 8, 9, 10, 2, 6, 10, 8, 1, 1, 1, 4, 4, 5, 3, 6, 8, 10, 4, 1, 2, 3, 4, 6, 7, 8, 9, 10, 1, 2, 4, 7, 8, 5, 10, 1, 2, 4, 6, 8, 5, 10, 3, 4, 6, 7, 9, 3, 3, 3, 9, 10, 4, 1, 4, 6, 7, 4, 2, 3, 1, 2, 3, 6, 7, 8, 9, 10, 3, 1, 1, 2, 4, 5, 6, 7, 8, 9, 10, 7, 8, 10, 3, 6, 1, 7, 7, 1, 4, 5, 6, 7, 10, 1, 4, 1, 1, 1, 3, 3, 2, 9, 1, 2, 3, 4, 7, 8, 9, 10, 1, 4, 7, 9, 3, 5, 6, 5, 5, 2, 6, 5, 6, 9, 2, 4, 10, 1, 10, 4, 10, 9, 1, 2, 3, 4, 5, 2, 3, 5, 1, 2, 3, 5, 6, 7, 8, 9, 10, 6, 4, 5, 6, 5, 3, 1, 3, 6, 10, 2, 10, 3, 5, 1, 10, 1, 5, 2, 3, 6, 10, 5, 10, 8, 9, 5, 7, 8, 9, 10, 1, 2, 6, 3, 10, 1, 2, 3, 4, 5, 6, 7, 9, 10, 10, 10, 10, 5, 3, 5, 6, 9, 5, 10, 1, 6, 7, 10, 8, 8, 4, 1, 2, 3, 4, 5, 6, 7, 8, 9, 10, 1, 2, 4, 5, 6, 7, 9, 10, 8, 5, 7, 2, 4, 7, 9, 8, 6, 4, 6, 7, 2, 3, 4, 7, 4, 10, 3, 6, 7, 6, 3, 4, 1, 1, 4, 5, 4, 5, 8, 9, 1, 1, 10, 1, 5, 7, 6, 6, 1, 2, 3, 4, 10, 1, 3, 4, 6, 10, 6, 1, 2, 3, 4, 5, 6, 7, 10, 4, 1, 1, 4, 6, 7, 8, 9, 10, 2, 4, 7, 8, 9, 10, 9, 10, 7, 10, 2, 5, 1, 2, 3, 4, 5, 6, 7, 9, 10, 7, 10, 4, 7, 6, 8, 10, 5, 7, 6, 2, 2, 3, 6, 2, 3, 4, 6, 10, 7, 10, 10, 1, 4, 8, 1, 2, 4, 5, 6, 7, 8, 9, 2, 7, 9, 6, 1, 6, 2, 2, 1, 8, 9, 7, 7, 9, 10, 1, 2, 3, 5, 10, 8, 10, 8, 1, 2, 3, 4, 5, 6, 7, 8, 9, 10, 5, 5, 7, 8, 7, 8, 9, 10, 7, 9, 8, 1, 6, 8, 3, 6, 10, 3, 8, 4, 6, 10, 1, 7, 9, 7, 2, 2, 4, 2, 2, 2, 3, 4, 6, 7, 3, 2, 5, 6, 1, 2, 3, 4, 7, 8, 9, 10, 1, 2, 7, 9, 2, 5, 7, 2, 5, 6, 7, 1, 5, 4, 1, 2, 3, 4, 10, 1, 2, 3, 4, 6, 7, 9, 10, 2, 7, 1, 3, 5, 6, 10, 7, 9, 8, 9, 10, 6, 10, 3, 4, 5, 6, 3, 5, 8, 4, 6, 4, 5, 3, 7, 9, 10, 9, 8, 9, 7, 8, 7, 9, 4, 3, 4, 1, 2, 3, 4, 5, 6, 7, 9, 10, 1, 2, 3, 4, 7, 8, 9, 10, 1, 2, 6, 8], \"Freq\": [0.22421353053141008, 0.044842706106282014, 0.6950619446473713, 0.9722151223842805, 0.5340873681344184, 0.461257272479725, 0.20397251824637574, 0.687065324619371, 0.010735395697177672, 0.08588316557742137, 0.967566981103541, 0.980602456292153, 0.9349630120308494, 0.9788251621789037, 0.9613469794855702, 0.9695153724602958, 0.3163466523704139, 0.6614520913199564, 0.7506437067577522, 0.18766092668943804, 0.026808703812776866, 0.9621955638315165, 0.9122130219678506, 0.9767242178761508, 0.9431398346784893, 0.021796115554129247, 0.9465741612078987, 0.031137307934470355, 0.9728864971093726, 0.9562140402974169, 0.9715301846515709, 0.9324181159661965, 0.043312267379742274, 0.06496840106961341, 0.12271809090926977, 0.7146524117657475, 0.050530978609699316, 0.587043015369087, 0.39918925045097914, 0.926867060031494, 0.9682808014523727, 0.9519859498685871, 0.026196734725883044, 0.05239346945176609, 0.8120987765023744, 0.07859020417764913, 0.061596379957729465, 0.9342117626922302, 0.9405344263172974, 0.049501811911436704, 0.9496221965408903, 0.18857176921514374, 0.08757400807618539, 0.09077013975779799, 0.12528836191921414, 0.012784526726450422, 0.012784526726450422, 0.11250383519276372, 0.05177733324212421, 0.1725911108070807, 0.14510437834521228, 0.013814287343227984, 0.08058334283549658, 0.2463547909542324, 0.10360715507420988, 0.45587148232652347, 0.09900239262646722, 0.028394087791206613, 0.9653989849010248, 0.9447494796175135, 0.9784128348744537, 0.9742196622956852, 0.9645040121056833, 0.9951276242055652, 0.00297053022150915, 0.9581243759679784, 0.030416646856126297, 0.9849716467220087, 0.9790424314215214, 0.9816733894446924, 0.9973142799790118, 0.9555016391804929, 0.9680859074103026, 0.030022098810862017, 0.5554088280009473, 0.4052983339466372, 0.9296068304517698, 0.9859452479976686, 0.009131327632066026, 0.04565663816033013, 0.11870725921685835, 0.1004446039527263, 0.4291723987071032, 0.16436389737718848, 0.08218194868859424, 0.04565663816033013, 0.9531311277601974, 0.5713239131979369, 0.006013935928399335, 0.1774111098877804, 0.12629265449638605, 0.030069679641996677, 0.08720207096179036, 0.20427373094300602, 0.012016101820176825, 0.0480644072807073, 0.07209661092106096, 0.6368533964693718, 0.03604830546053048, 0.9700829794183544, 0.9680858921192989, 0.03754674038594656, 0.6216071463895597, 0.08760906090054198, 0.1460151015009033, 0.10846836111495674, 0.17244098835613536, 0.20118115308215792, 0.5316930474314173, 0.08622049417806768, 0.18726109094929572, 0.00520169697081377, 0.11443733335790295, 0.0520169697081377, 0.29129503036557114, 0.34851369704452256, 0.027259963282214014, 0.013629981641107007, 0.04088994492332102, 0.022716636068511677, 0.013629981641107007, 0.24988299675362846, 0.2635129783947355, 0.3044029233180565, 0.0636065809918327, 0.9735082854919836, 0.15385519370300552, 0.04318742279382611, 0.12956226838147833, 0.2510268949891143, 0.2672221785367991, 0.13765991015532072, 0.01619528354768479, 0.9487494705778482, 0.9567975327453647, 0.9504256462718889, 0.4028296668830785, 0.012788243393113602, 0.07672946035868161, 0.18542952920014721, 0.31970608482784, 0.9234781444471332, 0.9443771556794966, 0.9895671975897143, 0.9596928201720593, 0.9519785747448034, 0.03550971905330618, 0.2130583143198371, 0.7457041001194299, 0.9875777283190462, 0.8116603482972001, 0.17755070119001254, 0.9882365773400228, 0.9519862345720889, 0.9621957382031713, 0.6911977710043958, 0.12406113838540438, 0.15950717792409136, 0.9958903728479137, 0.9781318337636377, 0.9812839466819462, 0.1242101970757093, 0.08280679805047286, 0.7866645814794921, 0.9833075098238235, 0.9276762824830685, 0.06722291902051221, 0.995820162972791, 0.9568499513555107, 0.9415778066285223, 0.024309542098783807, 0.9602269129019604, 0.9917495127274052, 0.09733131894890003, 0.1900278131859477, 0.5793530889815478, 0.12514026722001434, 0.01822735507067432, 0.966049818745739, 0.8324451860844996, 0.034541294028402475, 0.07944497626532569, 0.05181194104260371, 0.9781318418054794, 0.9634579935936458, 0.9642046639718578, 0.9525022266641644, 0.1154384595125028, 0.7792096017093939, 0.096198716260419, 0.9790424314095713, 0.08142283489921232, 0.8956511838913354, 0.940862189030525, 0.9313459358885562, 0.9621957050515997, 0.9502358467169624, 0.995859535106125, 0.015114143280024982, 0.015114143280024982, 0.7028076625211617, 0.19648386264032477, 0.06045657312009993, 0.08321568004362116, 0.9153724804798328, 0.923492836151757, 0.9162677273426704, 0.3134288700168265, 0.10970010450588928, 0.579843409531129, 0.05635222561646299, 0.11270445123292598, 0.8171072714387134, 0.039162143399865366, 0.9398914415967689, 0.9284698016422531, 0.036748735382269714, 0.6798516045719897, 0.14699494152907885, 0.11024620614680913, 0.018374367691134857, 0.9587225702418569, 0.4586201173741695, 0.022371713042642415, 0.05592928260660604, 0.4250625478102059, 0.022371713042642415, 0.014972818978552316, 0.052404866424933104, 0.022459228467828475, 0.07486409489276158, 0.5614807116957119, 0.059891275914209265, 0.0898369138713139, 0.11978255182841853, 0.9873281290311879, 0.9234782523773505, 0.02939718195586934, 0.9701070045436881, 0.9845190046203225, 0.11386418395188114, 0.7685832416751976, 0.11386418395188114, 0.02471190558840278, 0.9637643179477084, 0.38111736155322906, 0.429978561752361, 0.09772240039826387, 0.03908896015930555, 0.048861200199131934, 0.905016683051866, 0.056563542690741625, 0.6872430805230522, 0.18574137311433842, 0.11763620297241434, 0.02373722094232636, 0.9020143958084016, 0.04747444188465272, 0.9562139306585165, 0.9806023759073854, 0.0353393904743541, 0.9188241523332067, 0.01766969523717705, 0.9737310121545456, 0.9539621939018558, 0.9238543877809413, 0.9162160995737582, 0.06108107330491721, 0.9431400257591029, 0.7171288257081777, 0.2561174377529206, 0.06259458111676194, 0.05007566489340956, 0.08763241356346672, 0.6635025598376767, 0.1377080784568763, 0.9180903432007619, 0.9719166928092752, 0.9425710742858421, 0.037702842971433684, 0.9533862911544434, 0.928302911492514, 0.9524055344278894, 0.3283827889783814, 0.10946092965946046, 0.2554088358720744, 0.20432706869765954, 0.10216353434882977, 0.46295374352968865, 0.021043351978622213, 0.3472153076472665, 0.1683468158289777, 0.931345896185928, 0.8818402412519647, 0.11023003015649559, 0.882250561025285, 0.9910962783349742, 0.10252494097112486, 0.029292840277464243, 0.8641387881851952, 0.9166601477211618, 0.037692873995626874, 0.2073108069759478, 0.05653931099344031, 0.2826965549672016, 0.4146216139518956, 0.9440754645624103, 0.05553385085661237, 0.050241491009305535, 0.007177355858472219, 0.12919240545249994, 0.13636976131097217, 0.1866112523202777, 0.49523755423458315, 0.04639459697951516, 0.08351027456312729, 0.8536605844230789, 0.28587837606411787, 0.18712039160560445, 0.2546916441298505, 0.09356019580280223, 0.020791154622844938, 0.06757125252424605, 0.08316461849137975, 0.9599710461463219, 0.9851668165724681, 0.9593397448986929, 0.10376631272445588, 0.0864719272703799, 0.19023823999483577, 0.5880091054385833, 0.5323416187150956, 0.4654774540455666, 0.338720007761679, 0.6538083870748688, 0.02723658579549304, 0.9532805028422564, 0.04669673322262264, 0.8872379312298302, 0.06226231096349686, 0.11596728361778183, 0.09277382689422546, 0.7653840718773601, 0.9774430275600697, 0.07921896184800378, 0.18484424431200885, 0.6997674963240335, 0.03960948092400189, 0.07522696970236868, 0.09403371212796084, 0.05642022727677651, 0.7522696970236867, 0.944593567396724, 0.01971650834239792, 0.029574762513596878, 0.034503889599196355, 0.05422039794159428, 0.10351166879758908, 0.30067675222156826, 0.1429446854823849, 0.2711019897079714, 0.03943301668479584, 0.9716569357746291, 0.9778058845054676, 0.9993908556557332, 0.9889611974185998, 0.053005967690053835, 0.9011014507309152, 0.9666271318358892, 0.9891724402394375, 0.9856844764253151, 0.02779274366766152, 0.9588496565343225, 0.008669096669119645, 0.8409023769046056, 0.14737464337503398, 0.0028896988897065485, 0.21513368924050516, 0.7791328204926403, 0.7780734217604675, 0.15561468435209347, 0.06224587374083739, 0.8964935177795171, 0.04718386935681669, 0.9917132793493372, 0.964432672939351, 0.02414994012871483, 0.9659976051485931, 0.06577908670483644, 0.021926362234945478, 0.8770544893978192, 0.9958582588402397, 0.962223266323684, 0.9632794338750277, 0.9296068167257022, 0.9675669781352577, 0.9324181291694675, 0.12339355108997418, 0.04627258165874032, 0.10025726026060403, 0.12082285210893305, 0.0025706989810411287, 0.30848387772493546, 0.14138844395726208, 0.10025726026060403, 0.059126076563945966, 0.9313459358885562, 0.03294992926488589, 0.9225980194168047, 0.892016542212527, 0.08702600411829532, 0.230126018273625, 0.7611860604435288, 0.9361769655885515, 0.9711479907505648, 0.9539621939018558, 0.04138742065527195, 0.004138742065527195, 0.02483245239316317, 0.5628689209116985, 0.06208113098290793, 0.1655496826210878, 0.14071723022792462, 0.008893397369267244, 0.008893397369267244, 0.21344153686241388, 0.4980302526789657, 0.1778679473853449, 0.04446698684633622, 0.03557358947706898, 0.03824545962432255, 0.08923940579008595, 0.01274848654144085, 0.7139152463206876, 0.11473637887296766, 0.01274848654144085, 0.9949654815500042, 0.9443764686657784, 0.9519859880364356, 0.9482876753668038, 0.007999216150511948, 0.9839035865129697, 0.9810492766684071, 0.1341531119792081, 0.1341531119792081, 0.6409537572339942, 0.07452950665511561, 0.24788804547290955, 0.06523369617708147, 0.013046739235416292, 0.6523369617708146, 0.013046739235416292, 0.9473018657244815, 0.9838976732549867, 0.9727643667257052, 0.9875196134127541, 0.1256069743089132, 0.07177541389080755, 0.0628034871544566, 0.5293436774447057, 0.017943853472701887, 0.08074734062715849, 0.10766312083621132, 0.1618332535858816, 0.809166267929408, 0.01798147262065351, 0.9066216305013561, 0.1742179971335296, 0.0871089985667648, 0.05807266571117654, 0.5952448235395594, 0.07259083213897066, 0.9878358052098677, 0.9545147420654996, 0.031817158068849986, 0.9568283548806691, 0.9122130349188647, 0.9668807429912615, 0.9591731897130148, 0.9699083667451347, 0.9524055546900989, 0.6936392987826627, 0.21800092247455116, 0.0792730627180186, 0.935868615895172, 0.9915412053661913, 0.9419984246956057, 0.013080555704638303, 0.20928889127421285, 0.7717527865736599, 0.9383443510194396, 0.9426981382860368, 0.9361770334688562, 0.04118005923096466, 0.024708035538578796, 0.008236011846192933, 0.4365086278482254, 0.09059613030812226, 0.17295624877005158, 0.21413630800101624, 0.06291759038208393, 0.0943763855731259, 0.8179286749670912, 0.9479697627535276, 0.027084850364386504, 0.9568647233082107, 0.9545222072816515, 0.9355461837241373, 0.4863129763181362, 0.026287187909088443, 0.026287187909088443, 0.06834668856362995, 0.0026287187909088444, 0.2129262220636164, 0.08674772009999186, 0.09200515768180954, 0.9639252576999146, 0.01633771623220194, 0.3628922522872843, 0.02916098455879963, 0.006480218790844362, 0.09720328186266543, 0.019440656372533085, 0.10530355535122088, 0.30781039256510717, 0.037261258047355084, 0.03240109395422181, 0.9519787042035769, 0.9706932756037403, 0.9656143221645556, 0.5547967110770229, 0.08826311312589, 0.06724808619115429, 0.15971420470399145, 0.004203005386947143, 0.03362404309557714, 0.046233059256418574, 0.046233059256418574, 0.9184034252972929, 0.25006888800427085, 0.5871182587926359, 0.010872560348011777, 0.06523536208807065, 0.06523536208807065, 0.021745120696023554, 0.13506196302592785, 0.2476135988808677, 0.6077788336166753, 0.9611087952656618, 0.18904237319229583, 0.7561694927691833, 0.02079778473999668, 0.3743601253199403, 0.5962031625465716, 0.9030964032736958, 0.07853012202379964, 0.03091357017794014, 0.9274071053382043, 0.10846329977569967, 0.2350038161806826, 0.09038608314641638, 0.5603937155077816, 0.0368377488896411, 0.06630794800135398, 0.6557119302356116, 0.16208609511442085, 0.06630794800135398, 0.0429735521341792, 0.0859471042683584, 0.8594710426835841, 0.8822506321897647, 0.987916826384474, 0.9722151081451197, 0.9885369801097021, 0.9531341757176951, 0.7191045153292174, 0.2614925510288063, 0.9568499209059903, 0.9773510485655768, 0.07599969388060501, 0.018999923470151253, 0.19949919643658817, 0.6934972066605208, 0.8255685197854487, 0.17565287655009545, 0.8808363869567023, 0.02380638883666763, 0.0833223609283367, 0.9390201407814357, 0.053849748256417265, 0.7808213497180504, 0.08615959721026763, 0.053849748256417265, 0.021539899302566907, 0.043640558309209786, 0.8873580189539323, 0.05818741107894638, 0.9749537937015926, 0.9903046234041187, 0.9656143232255466, 0.06592592142065466, 0.9284567266742199, 0.9928147701687386, 0.9635714960372981, 0.8435556947432302, 0.1249712140360341, 0.15778374163535402, 0.7889187081767702, 0.9237074751050794, 0.08167960420059568, 0.05615472788790953, 0.13272935682596798, 0.10720448051328182, 0.09188955472567013, 0.11230945577581906, 0.18888408471387752, 0.10720448051328182, 0.12762438156343076, 0.9693704551853, 0.03437039753390781, 0.22913598355938541, 0.5728399588984635, 0.16039518849156978, 0.3719079907971536, 0.6067972481427243, 0.08011961965576823, 0.7851722726265287, 0.06409569572461458, 0.06409569572461458, 0.9642046726866378, 0.8355798379608024, 0.1534738477887188, 0.12381048600935356, 0.07619106831344834, 0.009523883539181042, 0.7809584502128455, 0.9645040632613968, 0.999370443087108, 0.995971101909008, 0.9960134047305857, 0.8382696413767562, 0.13235836442790888, 0.9237157738869627, 0.05999136156367796, 0.28995824755777677, 0.21996832573348585, 0.4199395309457457, 0.9122130456207007, 0.8801730320104264, 0.08251622175097748, 0.0470960557724499, 0.00941921115448998, 0.00941921115448998, 0.07535368923591984, 0.49921819118796895, 0.02825763346346994, 0.21664185655326954, 0.10361132269938977, 0.9960256066504319, 0.95561407088347, 0.10952122332672724, 0.007301414888448483, 0.10221980843827876, 0.15332971265741813, 0.13872688288052118, 0.02190424466534545, 0.29205659553793933, 0.058411319107587865, 0.11682263821517573, 0.0771670695718922, 0.8231154087668501, 0.0771670695718922, 0.04076897413999961, 0.9376864052199909, 0.9728863961464357, 0.9180851180904088, 0.9621951658317396, 0.6087177024527182, 0.018445990983415702, 0.10145295040878635, 0.1106759459004942, 0.009222995491707851, 0.14756792786732562, 0.05686050346639881, 0.9097680554623809, 0.9862560731816442, 0.9827547031727308, 0.9890496203680732, 0.9473021379204145, 0.9634579758578816, 0.9378036157092602, 0.026794389020264577, 0.4167264344283209, 0.016449727674802142, 0.032899455349604284, 0.07128215325747594, 0.274162127913369, 0.04386594046613904, 0.060315668140941185, 0.08224863837401071, 0.3004187922602265, 0.06324606152846873, 0.600837584520453, 0.03162303076423437, 0.014925568809797698, 0.7313528716800871, 0.25373466976656084, 0.985711108536909, 0.9794952999685038, 0.9324181120701759, 0.9519863592155519, 0.9589949139324013, 0.02591878145763247, 0.9695153737109085, 0.0662998625364068, 0.8618982129732883, 0.0331499312682034, 0.03293522181136752, 0.9221862107182907, 0.07838859639285838, 0.9014688585178713, 0.9739008082379946, 0.3735289444422044, 0.2591833492047949, 0.0076230396824939674, 0.28967550793477076, 0.0686073571424457, 0.9892105153456415, 0.031700517111066855, 0.9510155133320057, 0.1379076065640311, 0.0290331803292697, 0.09435783607012653, 0.1415367541051898, 0.35202731149239513, 0.0036291475411587126, 0.010887442623476138, 0.18508652459909433, 0.04354977049390455, 0.9662269185830583, 0.08357660801531569, 0.8357660801531569, 0.07312953201340122, 0.9568499280211766, 0.9959646868997439, 0.06991058206851009, 0.005825881839042508, 0.8738822758563761, 0.046607054712340064, 0.9895420119725856, 0.9672983325477426, 0.11320465315162308, 0.8867697830210475, 0.9305314551345919, 0.0443110216730758, 0.8542323326533066, 0.1220331903790438, 0.3725464423826267, 0.4217506894897661, 0.11246685053060428, 0.0843501378979532, 0.9531418791891428, 0.9531310866756101, 0.8671833820298893, 0.11718694351755261, 0.01778720767037639, 0.05336162301112917, 0.64033947613355, 0.1600848690333875, 0.1422976613630111, 0.04519586247442078, 0.813525524539574, 0.11298965618605195, 0.051021205382154336, 0.9183816968787781, 0.09254589084871108, 0.017071572098305926, 0.0593012504467469, 0.18778729308136521, 0.18509178169742216, 0.28482570290331466, 0.12219651607208454, 0.0008985037946476804, 0.051214716294917785, 0.9975586790381922, 0.9890855630356301, 0.9857677304432512, 0.9768744865355804, 0.9680711782518439, 0.05441328771039604, 0.8458792907707021, 0.09893325038253825, 0.18137224894964563, 0.785946412115131, 0.4330404203971225, 0.3893390935680551, 0.03575563104196424, 0.1390496762743054, 0.9313458062068554, 0.9553349116325751, 0.9487467496525444, 0.26380528913803003, 0.011362400093960095, 0.017784626234024496, 0.05928208744674832, 0.1531453925707665, 0.25293690643945954, 0.1615436882923892, 0.0024700869769478466, 0.0034581217677269855, 0.07360859191304583, 0.31751882682554294, 0.04164181335416957, 0.08848885337761032, 0.07287317336979675, 0.09889930671615273, 0.005205226669271196, 0.02602613334635598, 0.3487501868411701, 0.9313457820749244, 0.7483131924283116, 0.2363094291878879, 0.05902493097998616, 0.76732410273982, 0.13772483895330104, 0.019674976993328718, 0.978006648080208, 0.9733863184984447, 0.6881352750351428, 0.23689902911045901, 0.06768543688870257, 0.5015751303919938, 0.4909033191070577, 0.9390199079428299, 0.8822498979620974, 0.9720351559294348, 0.9785579601772496, 0.007905148114953886, 0.9802383662542818, 0.007905148114953886, 0.9562139475389061, 0.8693619430964213, 0.11064606548499907, 0.9626513780890121, 0.008394978976981894, 0.4953037596419317, 0.4953037596419317, 0.9547016067734135, 0.01988961680777945, 0.8899753542330364, 0.09888615047033739, 0.9959911856397733, 0.9556140382507426, 0.9611087952656618, 0.978412808365112, 0.22358923177589538, 0.771382849626839, 0.9519859880364356, 0.9833894514795091, 0.09523086692757639, 0.10388821846644697, 0.12120292154418813, 0.060601460772094065, 0.6233293107986818, 0.11553704587775009, 0.05134979816788893, 0.6290350275566394, 0.15404939450366678, 0.038512348625916695, 0.9833892272750545, 0.23708018838564082, 0.10372258241871786, 0.17781014128923062, 0.2548612025145639, 0.014817511774102551, 0.038525530612666635, 0.038525530612666635, 0.13335760596692298, 0.9390199260690394, 0.9840023556527462, 0.03777339839482483, 0.008094299656033893, 0.035075298509480206, 0.38582828360428223, 0.15918789323533322, 0.2428289896810168, 0.1295087944965423, 0.03533620267151295, 0.044170253339391195, 0.16784696268968655, 0.17668101335756478, 0.5653792427442073, 0.008834050667878238, 0.44400776601777936, 0.544918621930911, 0.20422410058506407, 0.7923895102700486, 0.935546193940558, 0.9845190028882614, 0.12215903165793109, 0.06107951582896554, 0.1365306824412171, 0.3089904918406492, 0.010778738087464507, 0.032336214262393526, 0.1257519443537526, 0.06107951582896554, 0.1365306824412171, 0.013990883421059643, 0.979361839474175, 0.9642064482400771, 0.8812514264007876, 0.8411910823576967, 0.06470700633520744, 0.09058980886929041, 0.9833066372216549, 0.8807350739135397, 0.9662268386321579, 0.9355461776379301, 0.943139829090362, 0.9695670341545729, 0.9662268687833765, 0.008993005347909849, 0.017986010695819697, 0.7644054545723372, 0.16187409626237728, 0.035972021391639394, 0.9539620400797649, 0.9922247552642464, 0.9775647511047556, 0.01562688296186356, 0.8594785629024958, 0.10938818073304492, 0.011246711071058641, 0.0028116777677646603, 0.07591529972964584, 0.09559704410399845, 0.019681744374352623, 0.7422829306898703, 0.014058388838823302, 0.03655181098094058, 0.9254296423941445, 0.04514290938508022, 0.9296069803887755, 0.9632601713253061, 0.9426747120304108, 0.02547769491974083, 0.9471000739312885, 0.9971139539965824, 0.9556140377870087, 0.8913886561054437, 0.10390419917793516, 0.9637542722759721, 0.2720896743827816, 0.22026306973844223, 0.4923527441212238, 0.8634915964541771, 0.012698405830208486, 0.11428565247187639, 0.9780709780838076, 0.936177428806767, 0.9553349144256273, 0.9674065443378821, 0.9749537181786969, 0.005032764344935039, 0.13085187296831102, 0.1509829303480512, 0.0754914651740256, 0.13085187296831102, 0.2063433381423366, 0.015098293034805118, 0.050327643449350395, 0.1509829303480512, 0.08052422951896063, 0.978612340284649, 0.9816714817060606, 0.08545322532359403, 0.9079405190631865, 0.032749315692351885, 0.1777819994727674, 0.7766266292757733, 0.014035421011007953, 0.1330989608149468, 0.8577488585852128, 0.9234781919873614, 0.011924042467567725, 0.20270872194865133, 0.7869868028594699, 0.9517096045276393, 0.9773510580952945, 0.9644326726748929, 0.9387423854318626, 0.9793495645346375, 0.6962252394025121, 0.2237866840936646, 0.07459556136455486, 0.05962065301648766, 0.22357744881182873, 0.70054267294373, 0.8960277946950869, 0.9988322482386527, 0.9818928161346552, 0.014027040230495074, 0.9890879413106588, 0.9556991368470001, 0.9556991148893961, 0.02328371836641922, 0.6635859734429478, 0.30268833876344986, 0.8822506179149111, 0.9634579494930376, 0.2236471907137301, 0.2076723913770351, 0.5591179767843253, 0.013418787580144097, 0.03354696895036024, 0.013418787580144097, 0.04025636274043229, 0.28179453918302605, 0.09393151306100868, 0.34217908329367447, 0.18786302612201736, 0.05106036894709838, 0.008510061491183064, 0.008510061491183064, 0.9190866410477708, 0.9963704840985929, 0.9834717638785233, 0.9539622065512374, 0.06715222577885344, 0.044768150519235626, 0.11192037629808907, 0.7834426340866235, 0.997457899765942, 0.9750348573469013, 0.9926956676572507, 0.060228308287635375, 0.14235781958895632, 0.09855541356158516, 0.2244873308902773, 0.4708758647942402, 0.23257282859159625, 0.07078303478874669, 0.09606269007044194, 0.31346772549302104, 0.010111862112678099, 0.10111862112678098, 0.015167793169017148, 0.16178979380284958, 0.018589859947979633, 0.966672717294941, 0.06763447213024017, 0.005202651702326167, 0.005202651702326167, 0.874045485990796, 0.0468238653209355, 0.8822503580709784, 0.9587224667238113, 0.6785068861578443, 0.21763428423930856, 0.08961411703971528, 0.9443112971869339, 0.037772451887477354, 0.055543618673063413, 0.055543618673063413, 0.851668819653639, 0.03702907911537561, 0.026195592890060425, 0.7596721938117523, 0.2095647431204834, 0.9121502128989926, 0.04146137331359057, 0.9593244943242475, 0.9816733643839919, 0.04219672831756831, 0.04219672831756831, 0.6751476530810929, 0.21098364158784153, 0.9234562120829894, 0.0451951514363643, 0.903903028727286, 0.9007362270743557, 0.05298448394555034, 0.9574670598762408, 0.034195252138437174, 0.9665018923683028, 0.9828247628028721, 0.918403583311437, 0.3469609915532747, 0.07864449141874226, 0.09252293108087324, 0.1480366897293972, 0.004626146554043663, 0.06476605175661128, 0.04163531898639296, 0.004626146554043663, 0.21742888804005214, 0.1368060674259756, 0.1983687977676646, 0.04104182022779268, 0.08892394382688414, 0.06156273034168901, 0.10944485394078048, 0.11628515731207925, 0.2394106179954573, 0.2753999661267125, 0.15944208565230725, 0.550799932253425, 0.9502358038190531], \"Term\": [\"absolut\", \"absolut\", \"absolut\", \"abstraction\", \"abstraktion\", \"abstraktion\", \"alten\", \"alten\", \"alten\", \"alten\", \"ambiente\", \"amerikanische\", \"amerikanischen\", \"amerikas\", \"amsterdam\", \"angebot\", \"angela\", \"angela\", \"anhand\", \"anhand\", \"anhand\", \"anhoren\", \"anmeldung\", \"antica\", \"antike\", \"app\", \"app\", \"app\", \"archive\", \"ardmediathek\", \"argenteuil\", \"arles\", \"art\", \"art\", \"art\", \"art\", \"art\", \"arte\", \"arte\", \"artefaktberlin\", \"artemisia\", \"assets\", \"atelier\", \"atelier\", \"atelier\", \"atelier\", \"audio\", \"audio\", \"audioguide\", \"audioguide\", \"augenblicks\", \"ausstellung\", \"ausstellung\", \"ausstellung\", \"ausstellung\", \"ausstellung\", \"ausstellung\", \"ausstellung\", \"ausstellung\", \"ausstellung\", \"ausstellung\", \"ausstellungen\", \"ausstellungen\", \"ausstellungen\", \"ausstellungen\", \"ausstellungen\", \"ausstellungen\", \"ausstellungsbesuch\", \"ausstellungsbesuch\", \"barberiniartworks\", \"barberinicorsin\", \"barberinidigital\", \"barberinisymposium\", \"barock\", \"barock\", \"barockbarberini\", \"barockbarberini\", \"baroque\", \"bcastid\", \"beautiful\", \"beckmann\", \"beckmanns\", \"bedienen\", \"begeistert\", \"begeistert\", \"begeistert\", \"begleitung\", \"behind\", \"beim\", \"beim\", \"beim\", \"beim\", \"beim\", \"beim\", \"beim\", \"beim\", \"berggruen\", \"berlin\", \"berlin\", \"berlin\", \"berlin\", \"berlin\", \"berlin\", \"berliner\", \"berliner\", \"berliner\", \"berliner\", \"berliner\", \"berliner\", \"bernardo\", \"best\", \"besuch\", \"besuch\", \"besuch\", \"besuch\", \"besuch\", \"besuchen\", \"besuchen\", \"besuchen\", \"besuchen\", \"besucher\", \"besucher\", \"besucher\", \"besucher\", \"besucher\", \"besucher\", \"bilder\", \"bilder\", \"bilder\", \"bilder\", \"bilder\", \"bilder\", \"bilder\", \"bilder\", \"bilder\", \"billionaire\", \"bit\", \"bit\", \"bit\", \"bit\", \"bit\", \"bit\", \"bit\", \"bleiben\", \"blumen\", \"blumenstillleben\", \"brandenburg\", \"brandenburg\", \"brandenburg\", \"brandenburg\", \"brandenburg\", \"braucht\", \"bremen\", \"briefe\", \"bruder\", \"bundesprasident\", \"cafe\", \"cafe\", \"cafe\", \"can\", \"caravaggio\", \"caravaggio\", \"caravaggios\", \"career\", \"chefredakteur\", \"christoph\", \"christoph\", \"christoph\", \"claude\", \"claudemonet\", \"closedbutopen\", \"collection\", \"collection\", \"collection\", \"congo\", \"corsini\", \"corsini\", \"cross\", \"culture\", \"dagmar\", \"daniel\", \"daniel\", \"dank\", \"danke\", \"danke\", \"danke\", \"danke\", \"date\", \"date\", \"ddr\", \"ddr\", \"ddr\", \"ddr\", \"denver\", \"denverartmuseum\", \"directors\", \"direkt\", \"direktorin\", \"direktorin\", \"direktorin\", \"documentid\", \"doku\", \"doku\", \"dresdner\", \"dust\", \"eben\", \"econ\", \"edmond\", \"einfach\", \"einfach\", \"einfach\", \"einfach\", \"einfach\", \"einlass\", \"einlass\", \"eintrittskarten\", \"eintrittspreis\", \"empfehlen\", \"empfehlen\", \"empfehlen\", \"empfehlenswert\", \"empfehlenswert\", \"empfehlenswert\", \"endlich\", \"endlich\", \"entdeckt\", \"entwicklung\", \"entwicklung\", \"entwicklung\", \"entwicklung\", \"entwicklung\", \"eroeffnung\", \"eroffnet\", \"eroffnet\", \"eroffnet\", \"eroffnet\", \"eroffnet\", \"eroffnung\", \"eroffnung\", \"eroffnung\", \"eroffnung\", \"eroffnung\", \"eroffnung\", \"eroffnung\", \"eroffnung\", \"event\", \"excellent\", \"exhibition\", \"exhibition\", \"exhibitions\", \"experten\", \"experten\", \"experten\", \"facebook\", \"facebook\", \"farbe\", \"farbe\", \"farbe\", \"farbe\", \"farbe\", \"faz\", \"faz\", \"februar\", \"februar\", \"februar\", \"fernsehen\", \"fernsehen\", \"fernsehen\", \"files\", \"filmmuseumpotsd\", \"first\", \"first\", \"first\", \"flattenthecurve\", \"florian\", \"floskelwolke\", \"fotografieren\", \"fotografieren\", \"frankfurter\", \"freue\", \"freue\", \"freuen\", \"freuen\", \"freuen\", \"freuen\", \"freuen\", \"freunde\", \"freundlich\", \"friedrich\", \"friedrich\", \"fruher\", \"fuehrungen\", \"fuhren\", \"fuhrung\", \"fuhrung\", \"fuhrung\", \"fuhrung\", \"fuhrung\", \"fuhrungen\", \"fuhrungen\", \"fuhrungen\", \"fuhrungen\", \"funktion\", \"funktioniert\", \"funktioniert\", \"fussmann\", \"gallerie\", \"gallery\", \"gallery\", \"gallery\", \"garderobe\", \"gebaude\", \"gebaude\", \"gebaude\", \"gebaude\", \"gebaude\", \"gefallen\", \"gefallen\", \"geht\", \"geht\", \"geht\", \"geht\", \"geht\", \"geht\", \"gemacht\", \"gemacht\", \"gemacht\", \"gemalde\", \"gemalde\", \"gemalde\", \"gemalde\", \"gemalde\", \"gemalde\", \"gemalde\", \"genial\", \"gentileschi\", \"george\", \"gerade\", \"gerade\", \"gerade\", \"gerade\", \"gerhard\", \"gerhard\", \"gerhardrichter\", \"gerhardrichter\", \"german\", \"german\", \"germany\", \"germany\", \"germany\", \"gerne\", \"gerne\", \"gerne\", \"geschlossen\", \"gesehen\", \"gesehen\", \"gesehen\", \"gesehen\", \"gesprach\", \"gesprach\", \"gesprach\", \"gesprach\", \"gestaltet\", \"gibt\", \"gibt\", \"gibt\", \"gibt\", \"gibt\", \"gibt\", \"gibt\", \"gibt\", \"gibt\", \"given\", \"giverny\", \"gogh\", \"goghs\", \"goo\", \"goo\", \"good\", \"gotter\", \"great\", \"guide\", \"guide\", \"gut\", \"gut\", \"gut\", \"gut\", \"gute\", \"gute\", \"guten\", \"guten\", \"guten\", \"gutes\", \"gutes\", \"hasso\", \"hassoplattner\", \"haus\", \"haus\", \"hause\", \"hause\", \"hause\", \"henri\", \"herr\", \"hervorragend\", \"hervorragende\", \"herzlichen\", \"heugten\", \"heute\", \"heute\", \"heute\", \"heute\", \"heute\", \"heute\", \"heute\", \"heute\", \"heute\", \"hidden\", \"hilfreich\", \"hilfreich\", \"hinterdermaske\", \"hinterdermaske\", \"hopper\", \"hopper\", \"hutin\", \"igshid\", \"illies\", \"immer\", \"immer\", \"immer\", \"immer\", \"immer\", \"immer\", \"immer\", \"impressionismus\", \"impressionismus\", \"impressionismus\", \"impressionismus\", \"impressionismus\", \"impressionismus\", \"impressionismus\", \"informationen\", \"informationen\", \"informationen\", \"informationen\", \"informationen\", \"informationen\", \"informativ\", \"informel\", \"ingeborg\", \"innenstadt\", \"instagram\", \"instagram\", \"interessant\", \"interessante\", \"interessante\", \"interessante\", \"interessante\", \"interview\", \"interview\", \"interview\", \"interview\", \"interview\", \"irrgang\", \"italien\", \"italienischen\", \"jacqueline\", \"jahren\", \"jahren\", \"jahren\", \"jahren\", \"jahren\", \"jahren\", \"jahren\", \"jahreskarte\", \"jahreskarte\", \"jahreskarte\", \"jahrhundertschritt\", \"januar\", \"januar\", \"januar\", \"januar\", \"januar\", \"jauch\", \"juli\", \"juli\", \"just\", \"kaiser\", \"karten\", \"kasse\", \"kaufen\", \"kids\", \"kinder\", \"kinder\", \"kinder\", \"kinderkunstaktion\", \"klasse\", \"klassiker\", \"klaus\", \"klaus\", \"klaus\", \"koldehoff\", \"komplett\", \"kongo\", \"konnen\", \"konnen\", \"konnen\", \"konnen\", \"konnen\", \"konnen\", \"konnen\", \"konnten\", \"konnten\", \"konnten\", \"kopfhorer\", \"kopfhorer\", \"kreativ\", \"kroller\", \"krollermuller\", \"kultur\", \"kultur\", \"kultur\", \"kultur\", \"kultur\", \"kultur\", \"kultur\", \"kultur\", \"kulturbb\", \"kulturbb\", \"kunst\", \"kunst\", \"kunst\", \"kunst\", \"kunst\", \"kunst\", \"kunst\", \"kunst\", \"kunst\", \"kunstgenuss\", \"kunsthalle\", \"kunstlebenberlin\", \"kunstler\", \"kunstler\", \"kunstler\", \"kunstler\", \"kunstler\", \"kunstler\", \"kunstler\", \"kunstler\", \"kunstpadagogen\", \"kurator\", \"kurator\", \"kurator\", \"kurator\", \"kurator\", \"kurator\", \"kuratorin\", \"kuratorin\", \"kuratorin\", \"laniado\", \"late\", \"late\", \"leider\", \"leider\", \"leider\", \"lesen\", \"lesen\", \"letzte\", \"letzte\", \"letzten\", \"letzten\", \"letzten\", \"letzten\", \"licht\", \"licht\", \"licht\", \"licht\", \"licht\", \"liebe\", \"liebe\", \"liebe\", \"lieben\", \"lifes\", \"like\", \"lohnt\", \"lokales\", \"london\", \"london\", \"look\", \"looking\", \"macht\", \"macht\", \"macht\", \"macht\", \"magazin\", \"magazin\", \"maitagung\", \"maitagung\", \"maitagung\", \"maitagungpic\", \"mal\", \"mal\", \"mal\", \"mal\", \"mal\", \"markt\", \"markt\", \"markt\", \"mask\", \"maske\", \"material\", \"max\", \"max\", \"maxbeckmann\", \"mbomo\", \"media\", \"media\", \"medien\", \"medien\", \"meditation\", \"mehr\", \"mehr\", \"mehr\", \"mehr\", \"mehr\", \"mehr\", \"mehr\", \"mehr\", \"mehr\", \"meisterwerke\", \"menschen\", \"menschen\", \"menschen\", \"menschen\", \"merkel\", \"merkel\", \"michael\", \"michael\", \"michael\", \"michael\", \"might\", \"modern\", \"modern\", \"moderne\", \"moderne\", \"moderne\", \"moderne\", \"modernes\", \"monet\", \"monetbarberini\", \"monets\", \"monopol\", \"monopol\", \"monopolmagazin\", \"morgen\", \"morgen\", \"morgen\", \"morgen\", \"morning\", \"muller\", \"muller\", \"museen\", \"museen\", \"museen\", \"museen\", \"museen\", \"museen\", \"museen\", \"museen\", \"museumfromhome\", \"museumpic\", \"museums\", \"museums\", \"museums\", \"museums\", \"museums\", \"museums\", \"museums\", \"museums\", \"museums\", \"museumsbesuch\", \"museumsbesuch\", \"museumsbesuch\", \"museumsdirektorin\", \"museumsdirektorin\", \"museumsfernsehen\", \"nachbrandenburg\", \"nachbrandenburghttps\", \"nachrichten\", \"nachrichten\", \"nachrichten\", \"nachrichten\", \"nachrichten\", \"nachrichten\", \"nachste\", \"nachste\", \"narziss\", \"nationalgalerien\", \"nazionali\", \"neo\", \"neoimpressionist\", \"net\", \"net\", \"neue\", \"neue\", \"neue\", \"neue\", \"neue\", \"neue\", \"neue\", \"neue\", \"neues\", \"neues\", \"neues\", \"neues\", \"new\", \"new\", \"new\", \"nice\", \"now\", \"nuenen\", \"oct\", \"october\", \"october\", \"offen\", \"offentliche\", \"offentliche\", \"offentliche\", \"offentlichen\", \"offentlichen\", \"offnungszeiten\", \"offnungszeiten\", \"ohr\", \"oktober\", \"oktober\", \"oktober\", \"oktober\", \"oktober\", \"olymp\", \"one\", \"one\", \"online\", \"online\", \"online\", \"online\", \"online\", \"online\", \"online\", \"online\", \"online\", \"opened\", \"opening\", \"opening\", \"opening\", \"opens\", \"orte\", \"ortrud\", \"ortrud\", \"ortrud\", \"ortrud\", \"otterlo\", \"pablo\", \"paintings\", \"paintings\", \"palast\", \"palast\", \"palazzo\", \"palazzo\", \"paris\", \"paris\", \"paris\", \"paris\", \"pathways\", \"pavillon\", \"perfekt\", \"perfekt\", \"personal\", \"personal\", \"personal\", \"personal\", \"personal\", \"philipp\", \"philipp\", \"philipp\", \"photography\", \"photography\", \"pic\", \"pic\", \"pic\", \"pic\", \"pic\", \"pic\", \"pic\", \"pic\", \"pic\", \"picasso\", \"picassobarberini\", \"picassos\", \"place\", \"places\", \"plattner\", \"plattner\", \"plattner\", \"plattners\", \"plattners\", \"pnn\", \"pnn\", \"pnn\", \"pnn\", \"politik\", \"popularity\", \"postdam\", \"potsdam\", \"potsdam\", \"potsdam\", \"potsdam\", \"potsdam\", \"potsdam\", \"potsdam\", \"potsdam\", \"potsdam\", \"potsdam\", \"potsdamer\", \"potsdamer\", \"potsdamer\", \"potsdamer\", \"potsdamer\", \"potsdamer\", \"potsdamer\", \"potsdamer\", \"potsdamhttps\", \"potsdampic\", \"potsdampic\", \"prasentation\", \"prasentation\", \"prasentation\", \"prasentation\", \"prima\", \"product\", \"programm\", \"programm\", \"programm\", \"prolog\", \"prolog\", \"que\", \"radio\", \"radioeins\", \"raubkunst\", \"rbb\", \"rbb\", \"rbb\", \"rbbfernsehen\", \"retrospektive\", \"retrospektive\", \"reviving\", \"richter\", \"richter\", \"richter\", \"richters\", \"richters\", \"richtig\", \"richtig\", \"rom\", \"roma\", \"romero\", \"romischen\", \"rothko\", \"rothko\", \"ruthe\", \"sagt\", \"sammlung\", \"sammlung\", \"sammlung\", \"sammlung\", \"sammlung\", \"samstag\", \"samstag\", \"samstag\", \"samstag\", \"samstag\", \"sap\", \"schau\", \"schau\", \"schau\", \"schau\", \"schau\", \"schau\", \"schau\", \"schau\", \"schema\", \"schlosser\", \"schon\", \"schon\", \"schon\", \"schon\", \"schon\", \"schon\", \"schon\", \"schone\", \"schone\", \"schone\", \"schone\", \"schone\", \"schone\", \"schoner\", \"schoner\", \"schones\", \"schones\", \"schrieb\", \"see\", \"sehen\", \"sehen\", \"sehen\", \"sehen\", \"sehen\", \"sehen\", \"sehen\", \"sehen\", \"sehen\", \"sehenswert\", \"sehenswert\", \"sendungen\", \"setzt\", \"shop\", \"shop\", \"shop\", \"show\", \"silke\", \"site\", \"sjraar\", \"skulpturensammlung\", \"social\", \"software\", \"sonntag\", \"sonntag\", \"sonntag\", \"sonntag\", \"sonntag\", \"spannende\", \"spate\", \"spatwerk\", \"statt\", \"statt\", \"statt\", \"status\", \"status\", \"status\", \"status\", \"status\", \"status\", \"status\", \"status\", \"stefan\", \"stefan\", \"steinmeier\", \"stephanreimertz\", \"stiftung\", \"stiftung\", \"stilleben\", \"stillleben\", \"storia\", \"super\", \"super\", \"swarmapp\", \"tag\", \"tag\", \"tag\", \"tagesspiegel\", \"tagesspiegel\", \"tagesspiegel\", \"tales\", \"tech\", \"tempted\", \"teuer\", \"thank\", \"tickets\", \"tickets\", \"tickets\", \"tickets\", \"tickets\", \"tickets\", \"tickets\", \"tickets\", \"tickets\", \"tickets\", \"time\", \"today\", \"toll\", \"toll\", \"tolle\", \"tolle\", \"tolle\", \"tolle\", \"tolles\", \"tolles\", \"ton\", \"tour\", \"tour\", \"tour\", \"tourdigital\", \"travel\", \"trump\", \"truth\", \"ubersichtlich\", \"uhr\", \"uhr\", \"uhr\", \"unbedingt\", \"unbedingt\", \"unbedingt\", \"unglaublich\", \"van\", \"vangogh\", \"vangogh\", \"vangoghbarberini\", \"vangoghbarberinipic\", \"vase\", \"veranstaltungen\", \"veranstaltungen\", \"veranstaltungen\", \"verstandlich\", \"vetheuil\", \"video\", \"video\", \"video\", \"viele\", \"viele\", \"viele\", \"viele\", \"viele\", \"viele\", \"viele\", \"viele\", \"vielen\", \"vielen\", \"vielen\", \"vielen\", \"vincent\", \"visit\", \"wann\", \"warum\", \"warum\", \"warum\", \"warum\", \"wege\", \"well\", \"welttheater\", \"werk\", \"werk\", \"werk\", \"werk\", \"werk\", \"werke\", \"werke\", \"werke\", \"werke\", \"werke\", \"werke\", \"werke\", \"werke\", \"wert\", \"wert\", \"westheider\", \"westheider\", \"westheider\", \"westheider\", \"westheider\", \"wichtig\", \"willkommen\", \"wirklich\", \"wirklich\", \"wirklich\", \"wolfgang\", \"wolfgang\", \"work\", \"work\", \"work\", \"work\", \"works\", \"works\", \"works\", \"workshop\", \"workshop\", \"workshops\", \"world\", \"wunderbare\", \"wunderbare\", \"wunderbare\", \"wunderbare\", \"wunderschones\", \"wunsche\", \"wunsche\", \"wunschen\", \"wunschen\", \"wwecker\", \"wwecker\", \"yoga\", \"zamani\", \"zeichnen\", \"zeigt\", \"zeigt\", \"zeigt\", \"zeigt\", \"zeigt\", \"zeigt\", \"zeigt\", \"zeigt\", \"zeigt\", \"zeit\", \"zeit\", \"zeit\", \"zeit\", \"zeit\", \"zeit\", \"zeit\", \"zeit\", \"zeitung\", \"zeitung\", \"zeitung\", \"zuhause\"]}, \"R\": 30, \"lambda.step\": 0.01, \"plot.opts\": {\"xlab\": \"PC1\", \"ylab\": \"PC2\"}, \"topic.order\": [3, 6, 10, 4, 5, 9, 1, 7, 2, 8]};\n",
       "\n",
       "function LDAvis_load_lib(url, callback){\n",
       "  var s = document.createElement('script');\n",
       "  s.src = url;\n",
       "  s.async = true;\n",
       "  s.onreadystatechange = s.onload = callback;\n",
       "  s.onerror = function(){console.warn(\"failed to load library \" + url);};\n",
       "  document.getElementsByTagName(\"head\")[0].appendChild(s);\n",
       "}\n",
       "\n",
       "if(typeof(LDAvis) !== \"undefined\"){\n",
       "   // already loaded: just create the visualization\n",
       "   !function(LDAvis){\n",
       "       new LDAvis(\"#\" + \"ldavis_el104791399702849056006382888513\", ldavis_el104791399702849056006382888513_data);\n",
       "   }(LDAvis);\n",
       "}else if(typeof define === \"function\" && define.amd){\n",
       "   // require.js is available: use it to load d3/LDAvis\n",
       "   require.config({paths: {d3: \"https://cdnjs.cloudflare.com/ajax/libs/d3/3.5.5/d3.min\"}});\n",
       "   require([\"d3\"], function(d3){\n",
       "      window.d3 = d3;\n",
       "      LDAvis_load_lib(\"https://cdn.rawgit.com/bmabey/pyLDAvis/files/ldavis.v1.0.0.js\", function(){\n",
       "        new LDAvis(\"#\" + \"ldavis_el104791399702849056006382888513\", ldavis_el104791399702849056006382888513_data);\n",
       "      });\n",
       "    });\n",
       "}else{\n",
       "    // require.js not available: dynamically load d3 & LDAvis\n",
       "    LDAvis_load_lib(\"https://cdnjs.cloudflare.com/ajax/libs/d3/3.5.5/d3.min.js\", function(){\n",
       "         LDAvis_load_lib(\"https://cdn.rawgit.com/bmabey/pyLDAvis/files/ldavis.v1.0.0.js\", function(){\n",
       "                 new LDAvis(\"#\" + \"ldavis_el104791399702849056006382888513\", ldavis_el104791399702849056006382888513_data);\n",
       "            })\n",
       "         });\n",
       "}\n",
       "</script>"
      ],
      "text/plain": [
       "PreparedData(topic_coordinates=              x         y  topics  cluster       Freq\n",
       "topic                                                \n",
       "2      0.103690 -0.014303       1        1  11.982569\n",
       "5      0.056251 -0.258715       2        1  10.731633\n",
       "9      0.078008 -0.215326       3        1  10.576008\n",
       "3      0.056978 -0.006031       4        1  10.509033\n",
       "4      0.241112  0.228216       5        1  10.439125\n",
       "8      0.161664  0.095918       6        1   9.642113\n",
       "0     -0.102590  0.088361       7        1   9.528293\n",
       "6     -0.287652  0.063680       8        1   9.192023\n",
       "1     -0.252644  0.045368       9        1   9.067180\n",
       "7     -0.054819 -0.027167      10        1   8.332022, topic_info=     Category        Freq     Term       Total  loglift  logprob\n",
       "1621  Default  884.000000      van  884.000000  30.0000  30.0000\n",
       "1087  Default  830.000000    monet  830.000000  29.0000  29.0000\n",
       "683   Default  745.000000     gogh  745.000000  28.0000  28.0000\n",
       "1248  Default  556.000000  picasso  556.000000  27.0000  27.0000\n",
       "59    Default  642.000000      app  642.000000  26.0000  26.0000\n",
       "...       ...         ...      ...         ...      ...      ...\n",
       "1403  Topic10   37.835135    sehen  278.325716   0.4895  -5.0773\n",
       "1261  Topic10   34.794757      pnn  251.708605   0.5063  -5.1611\n",
       "915   Topic10   35.134488   kultur  380.413456   0.1030  -5.1514\n",
       "773   Topic10   33.697736    immer  241.619309   0.5151  -5.1931\n",
       "1728  Topic10   31.700759    werke  197.787507   0.6542  -5.2542\n",
       "\n",
       "[597 rows x 6 columns], token_table=      Topic      Freq         Term\n",
       "term                              \n",
       "3         7  0.224214      absolut\n",
       "3         9  0.044843      absolut\n",
       "3        10  0.695062      absolut\n",
       "5         5  0.972215  abstraction\n",
       "7         4  0.534087  abstraktion\n",
       "...     ...       ...          ...\n",
       "1790     10  0.239411         zeit\n",
       "1794      1  0.275400      zeitung\n",
       "1794      2  0.159442      zeitung\n",
       "1794      6  0.550800      zeitung\n",
       "1805      8  0.950236      zuhause\n",
       "\n",
       "[1119 rows x 3 columns], R=30, lambda_step=0.01, plot_opts={'xlab': 'PC1', 'ylab': 'PC2'}, topic_order=[3, 6, 10, 4, 5, 9, 1, 7, 2, 8])"
      ]
     },
     "execution_count": 86,
     "metadata": {},
     "output_type": "execute_result"
    }
   ],
   "source": [
    "p = pyLDAvis.sklearn.prepare(lda_tf, dtm_tf, tf_vectorizer)\n",
    "pyLDAvis.save_html(p, 'topics_tf.html')\n",
    "p"
   ]
  },
  {
   "cell_type": "markdown",
   "metadata": {},
   "source": [
    "## LDA based on TFIDF"
   ]
  },
  {
   "cell_type": "code",
   "execution_count": 87,
   "metadata": {
    "scrolled": true
   },
   "outputs": [
    {
     "name": "stderr",
     "output_type": "stream",
     "text": [
      "/home/tom/.local/lib/python3.6/site-packages/pyLDAvis/_prepare.py:257: FutureWarning: Sorting because non-concatenation axis is not aligned. A future version\n",
      "of pandas will change to not sort by default.\n",
      "\n",
      "To accept the future behavior, pass 'sort=False'.\n",
      "\n",
      "To retain the current behavior and silence the warning, pass 'sort=True'.\n",
      "\n",
      "  return pd.concat([default_term_info] + list(topic_dfs))\n"
     ]
    },
    {
     "data": {
      "text/html": [
       "\n",
       "<link rel=\"stylesheet\" type=\"text/css\" href=\"https://cdn.rawgit.com/bmabey/pyLDAvis/files/ldavis.v1.0.0.css\">\n",
       "\n",
       "\n",
       "<div id=\"ldavis_el104791399702809837922630518806\"></div>\n",
       "<script type=\"text/javascript\">\n",
       "\n",
       "var ldavis_el104791399702809837922630518806_data = {\"mdsDat\": {\"x\": [0.27545668776500015, -0.03238245074853621, -0.178212926619231, -0.1338865913704757, -0.05708222158654006, 0.19786778559642115, 0.10270258986975439, -0.09387834954992784, -0.09122448813546945, 0.010639964779004264], \"y\": [0.006837694495861273, 0.022007943736831716, -0.1847410940336974, 0.012020072043824182, 0.13009660339330462, -0.06277005899770872, 0.03597342134256434, 0.20618668032613696, -0.046980405870774865, -0.11863085643634225], \"topics\": [1, 2, 3, 4, 5, 6, 7, 8, 9, 10], \"cluster\": [1, 1, 1, 1, 1, 1, 1, 1, 1, 1], \"Freq\": [11.475981529567996, 11.282442852720214, 10.695988883864931, 10.602155994280245, 10.205702870133319, 9.759082411456024, 9.560437077854298, 9.273884868890454, 8.68215046685251, 8.46217304438]}, \"tinfo\": {\"Category\": [\"Default\", \"Default\", \"Default\", \"Default\", \"Default\", \"Default\", \"Default\", \"Default\", \"Default\", \"Default\", \"Default\", \"Default\", \"Default\", \"Default\", \"Default\", \"Default\", \"Default\", \"Default\", \"Default\", \"Default\", \"Default\", \"Default\", \"Default\", \"Default\", \"Default\", \"Default\", \"Default\", \"Default\", \"Default\", \"Default\", \"Topic1\", \"Topic1\", \"Topic1\", \"Topic1\", \"Topic1\", \"Topic1\", \"Topic1\", \"Topic1\", \"Topic1\", \"Topic1\", \"Topic1\", \"Topic1\", \"Topic1\", \"Topic1\", \"Topic1\", \"Topic1\", \"Topic1\", \"Topic1\", \"Topic1\", \"Topic1\", \"Topic1\", \"Topic1\", \"Topic1\", \"Topic1\", \"Topic1\", \"Topic1\", \"Topic1\", \"Topic1\", \"Topic1\", \"Topic1\", \"Topic1\", \"Topic1\", \"Topic1\", \"Topic1\", \"Topic1\", \"Topic1\", \"Topic1\", \"Topic1\", \"Topic1\", \"Topic1\", \"Topic1\", \"Topic1\", \"Topic1\", \"Topic1\", \"Topic1\", \"Topic1\", \"Topic1\", \"Topic1\", \"Topic1\", \"Topic1\", \"Topic1\", \"Topic1\", \"Topic1\", \"Topic2\", \"Topic2\", \"Topic2\", \"Topic2\", \"Topic2\", \"Topic2\", \"Topic2\", \"Topic2\", \"Topic2\", \"Topic2\", \"Topic2\", \"Topic2\", \"Topic2\", \"Topic2\", \"Topic2\", \"Topic2\", \"Topic2\", \"Topic2\", \"Topic2\", \"Topic2\", \"Topic2\", \"Topic2\", \"Topic2\", \"Topic2\", \"Topic2\", \"Topic2\", \"Topic2\", \"Topic2\", \"Topic2\", \"Topic2\", \"Topic2\", \"Topic2\", \"Topic2\", \"Topic2\", \"Topic2\", \"Topic2\", \"Topic2\", \"Topic2\", \"Topic2\", \"Topic2\", \"Topic2\", \"Topic2\", \"Topic2\", \"Topic2\", \"Topic2\", \"Topic2\", \"Topic2\", \"Topic2\", \"Topic2\", \"Topic2\", \"Topic2\", \"Topic2\", \"Topic2\", \"Topic2\", \"Topic2\", \"Topic2\", \"Topic2\", \"Topic2\", \"Topic2\", \"Topic2\", \"Topic2\", \"Topic2\", \"Topic2\", \"Topic3\", \"Topic3\", \"Topic3\", \"Topic3\", \"Topic3\", \"Topic3\", \"Topic3\", \"Topic3\", \"Topic3\", \"Topic3\", \"Topic3\", \"Topic3\", \"Topic3\", \"Topic3\", \"Topic3\", \"Topic3\", \"Topic3\", \"Topic3\", \"Topic3\", \"Topic3\", \"Topic3\", \"Topic3\", \"Topic3\", \"Topic3\", \"Topic3\", \"Topic3\", \"Topic3\", \"Topic3\", \"Topic3\", \"Topic3\", \"Topic3\", \"Topic3\", \"Topic3\", \"Topic3\", \"Topic3\", \"Topic3\", \"Topic3\", \"Topic3\", \"Topic3\", \"Topic3\", \"Topic3\", \"Topic3\", \"Topic3\", \"Topic3\", \"Topic3\", \"Topic3\", \"Topic3\", \"Topic3\", \"Topic3\", \"Topic3\", \"Topic3\", \"Topic3\", \"Topic3\", \"Topic3\", \"Topic4\", \"Topic4\", \"Topic4\", \"Topic4\", \"Topic4\", \"Topic4\", \"Topic4\", \"Topic4\", \"Topic4\", \"Topic4\", \"Topic4\", \"Topic4\", \"Topic4\", \"Topic4\", \"Topic4\", \"Topic4\", \"Topic4\", \"Topic4\", \"Topic4\", \"Topic4\", \"Topic4\", \"Topic4\", \"Topic4\", \"Topic4\", \"Topic4\", \"Topic4\", \"Topic4\", \"Topic4\", \"Topic4\", \"Topic4\", \"Topic4\", \"Topic4\", \"Topic4\", \"Topic4\", \"Topic4\", \"Topic4\", \"Topic4\", \"Topic4\", \"Topic4\", \"Topic4\", \"Topic4\", \"Topic4\", \"Topic4\", \"Topic4\", \"Topic4\", \"Topic4\", \"Topic4\", \"Topic4\", \"Topic4\", \"Topic4\", \"Topic4\", \"Topic4\", \"Topic4\", \"Topic4\", \"Topic5\", \"Topic5\", \"Topic5\", \"Topic5\", \"Topic5\", \"Topic5\", \"Topic5\", \"Topic5\", \"Topic5\", \"Topic5\", \"Topic5\", \"Topic5\", \"Topic5\", \"Topic5\", \"Topic5\", \"Topic5\", \"Topic5\", \"Topic5\", \"Topic5\", \"Topic5\", \"Topic5\", \"Topic5\", \"Topic5\", \"Topic5\", \"Topic5\", \"Topic5\", \"Topic5\", \"Topic5\", \"Topic5\", \"Topic5\", \"Topic5\", \"Topic5\", \"Topic5\", \"Topic5\", \"Topic5\", \"Topic5\", \"Topic5\", \"Topic5\", \"Topic5\", \"Topic5\", \"Topic5\", \"Topic5\", \"Topic5\", \"Topic5\", \"Topic5\", \"Topic5\", \"Topic5\", \"Topic5\", \"Topic5\", \"Topic5\", \"Topic6\", \"Topic6\", \"Topic6\", \"Topic6\", \"Topic6\", \"Topic6\", \"Topic6\", \"Topic6\", \"Topic6\", \"Topic6\", \"Topic6\", \"Topic6\", \"Topic6\", \"Topic6\", \"Topic6\", \"Topic6\", \"Topic6\", \"Topic6\", \"Topic6\", \"Topic6\", \"Topic6\", \"Topic6\", \"Topic6\", \"Topic6\", \"Topic6\", \"Topic6\", \"Topic6\", \"Topic6\", \"Topic6\", \"Topic6\", \"Topic6\", \"Topic6\", \"Topic6\", \"Topic6\", \"Topic6\", \"Topic6\", \"Topic6\", \"Topic6\", \"Topic6\", \"Topic6\", \"Topic6\", \"Topic6\", \"Topic6\", \"Topic6\", \"Topic6\", \"Topic6\", \"Topic6\", \"Topic6\", \"Topic6\", \"Topic6\", \"Topic6\", \"Topic6\", \"Topic6\", \"Topic6\", \"Topic6\", \"Topic6\", \"Topic6\", \"Topic6\", \"Topic6\", \"Topic7\", \"Topic7\", \"Topic7\", \"Topic7\", \"Topic7\", \"Topic7\", \"Topic7\", \"Topic7\", \"Topic7\", \"Topic7\", \"Topic7\", \"Topic7\", \"Topic7\", \"Topic7\", \"Topic7\", \"Topic7\", \"Topic7\", \"Topic7\", \"Topic7\", \"Topic7\", \"Topic7\", \"Topic7\", \"Topic7\", \"Topic7\", \"Topic7\", \"Topic7\", \"Topic7\", \"Topic7\", \"Topic7\", \"Topic7\", \"Topic7\", \"Topic7\", \"Topic7\", \"Topic7\", \"Topic7\", \"Topic7\", \"Topic7\", \"Topic7\", \"Topic7\", \"Topic7\", \"Topic7\", \"Topic7\", \"Topic7\", \"Topic7\", \"Topic7\", \"Topic7\", \"Topic7\", \"Topic7\", \"Topic7\", \"Topic7\", \"Topic7\", \"Topic7\", \"Topic7\", \"Topic7\", \"Topic7\", \"Topic7\", \"Topic8\", \"Topic8\", \"Topic8\", \"Topic8\", \"Topic8\", \"Topic8\", \"Topic8\", \"Topic8\", \"Topic8\", \"Topic8\", \"Topic8\", \"Topic8\", \"Topic8\", \"Topic8\", \"Topic8\", \"Topic8\", \"Topic8\", \"Topic8\", \"Topic8\", \"Topic8\", \"Topic8\", \"Topic8\", \"Topic8\", \"Topic8\", \"Topic8\", \"Topic8\", \"Topic8\", \"Topic8\", \"Topic8\", \"Topic8\", \"Topic8\", \"Topic8\", \"Topic8\", \"Topic8\", \"Topic8\", \"Topic8\", \"Topic8\", \"Topic8\", \"Topic8\", \"Topic8\", \"Topic8\", \"Topic8\", \"Topic8\", \"Topic8\", \"Topic8\", \"Topic8\", \"Topic8\", \"Topic8\", \"Topic8\", \"Topic8\", \"Topic8\", \"Topic9\", \"Topic9\", \"Topic9\", \"Topic9\", \"Topic9\", \"Topic9\", \"Topic9\", \"Topic9\", \"Topic9\", \"Topic9\", \"Topic9\", \"Topic9\", \"Topic9\", \"Topic9\", \"Topic9\", \"Topic9\", \"Topic9\", \"Topic9\", \"Topic9\", \"Topic9\", \"Topic9\", \"Topic9\", \"Topic9\", \"Topic9\", \"Topic9\", \"Topic9\", \"Topic9\", \"Topic9\", \"Topic9\", \"Topic9\", \"Topic9\", \"Topic9\", \"Topic9\", \"Topic9\", \"Topic9\", \"Topic9\", \"Topic9\", \"Topic9\", \"Topic9\", \"Topic9\", \"Topic9\", \"Topic9\", \"Topic9\", \"Topic9\", \"Topic9\", \"Topic9\", \"Topic9\", \"Topic9\", \"Topic9\", \"Topic9\", \"Topic9\", \"Topic9\", \"Topic9\", \"Topic9\", \"Topic9\", \"Topic9\", \"Topic10\", \"Topic10\", \"Topic10\", \"Topic10\", \"Topic10\", \"Topic10\", \"Topic10\", \"Topic10\", \"Topic10\", \"Topic10\", \"Topic10\", \"Topic10\", \"Topic10\", \"Topic10\", \"Topic10\", \"Topic10\", \"Topic10\", \"Topic10\", \"Topic10\", \"Topic10\", \"Topic10\", \"Topic10\", \"Topic10\", \"Topic10\", \"Topic10\", \"Topic10\", \"Topic10\", \"Topic10\", \"Topic10\", \"Topic10\", \"Topic10\", \"Topic10\", \"Topic10\", \"Topic10\", \"Topic10\", \"Topic10\", \"Topic10\", \"Topic10\", \"Topic10\", \"Topic10\", \"Topic10\", \"Topic10\", \"Topic10\", \"Topic10\", \"Topic10\", \"Topic10\", \"Topic10\", \"Topic10\", \"Topic10\", \"Topic10\", \"Topic10\", \"Topic10\", \"Topic10\", \"Topic10\", \"Topic10\", \"Topic10\"], \"Freq\": [117.0, 101.0, 109.0, 141.0, 129.0, 110.0, 97.0, 55.0, 80.0, 54.0, 78.0, 79.0, 55.0, 60.0, 313.0, 40.0, 40.0, 44.0, 112.0, 44.0, 33.0, 50.0, 51.0, 48.0, 70.0, 46.0, 122.0, 36.0, 40.0, 32.0, 18.225948913014786, 14.291429566429127, 12.13537813183431, 11.176568208508373, 12.541252227580896, 9.175818577680921, 9.750964550834063, 15.660961857814021, 24.352274392007878, 20.828421930008492, 6.786158481966306, 6.47273471394187, 33.7875004425235, 13.973020953217306, 16.9549283674286, 6.052941104810688, 7.653192159739981, 5.880291146147445, 5.552798093622823, 6.304995135874349, 5.295571915338903, 5.177475643616284, 23.05891325257171, 4.847610997136921, 35.38963378222017, 4.810549478509717, 9.359633855899077, 4.734594611641054, 4.583792676399072, 5.711213414469277, 15.505862170168113, 86.99223269244638, 37.242112706763756, 27.05351374009923, 40.028904706038674, 60.64119890676743, 105.26762561858229, 16.564571033320004, 15.970542604216336, 9.736273379168438, 8.904004585216008, 24.56148435998972, 38.227123285230014, 15.495504804172274, 11.707797695435808, 22.542768443196664, 17.35609701737301, 13.57327947337434, 20.14797851395968, 26.08248054666268, 15.269381882985487, 15.25056077736432, 14.662150434921006, 11.735838214447107, 17.84326182210193, 8.275926617357165, 7.461161331388757, 7.348513481386236, 39.925694283574586, 6.592637777902244, 6.136324493290384, 28.490144330446856, 5.771007892207969, 5.679754514872944, 5.332686336577987, 5.290585720814841, 5.229235880535011, 5.050207759438677, 5.4055355938089615, 5.485317352948144, 4.426307072365893, 4.061310683950109, 5.146590545730536, 6.5818000983239155, 3.6358613916049816, 4.8794041327996736, 3.862065643657294, 3.9284976124155855, 10.381886470818928, 3.2537096653105255, 3.2134136850397583, 5.774412904388021, 3.0937284877159392, 39.63678349567802, 30.955031986335875, 8.6007484649258, 38.474359088500435, 6.7105365057061, 15.491724638209302, 9.9508198909703, 10.921987640876477, 33.719066885015884, 13.74822933354481, 14.196300390089217, 11.618354093465252, 8.581296537312854, 8.40895606369174, 12.827385107982444, 8.763346311565622, 10.744924074837678, 23.450640422071864, 18.55557519892854, 9.2438694151345, 10.397001224478517, 23.833868101723414, 12.320755227962392, 11.490973987205555, 13.593332967889213, 28.45155592500179, 26.662785729752105, 29.30422963203304, 12.718341463350376, 10.774271321419807, 15.416963241463007, 12.723653274637483, 12.532861143008436, 16.380148245004897, 16.896235550796728, 11.78471859965467, 11.129177909957765, 10.951808079303952, 9.968023063432014, 9.903066433830507, 9.887560704312902, 9.148869763522505, 9.417142980849777, 15.007795778979542, 8.525582362727583, 8.448667064900016, 7.976813478204479, 8.234069567105779, 14.47834464792244, 7.773753707551422, 7.380835701279545, 9.958812464013135, 6.938178195636448, 6.331486005672389, 6.235293577078747, 6.21722808076347, 6.136188602815592, 6.06949176513185, 5.89657911399588, 5.861750916459425, 16.13928882949955, 11.427805190599328, 10.254853829347732, 8.20388108341636, 32.21447246958629, 13.769921069472309, 68.35673965454474, 54.48808572531907, 13.933975348057357, 15.706650698014267, 32.5826875815352, 13.062443580692596, 41.571146804030505, 23.797786872970992, 14.123384038651205, 10.336448188065502, 72.31612063008238, 80.54010163178434, 23.66938357787544, 17.260344372094735, 16.158713071944767, 15.186851226440401, 13.366479920380497, 14.71795876134531, 15.759943752045187, 14.319903914893034, 13.663039205754758, 24.272961948050224, 17.786276232793643, 11.98522829375521, 11.410237499812544, 10.47475901165855, 41.311054133784666, 9.045988039547463, 8.28947629849034, 8.08220237124341, 7.775619480033813, 7.683828573439683, 7.128023663932349, 6.801851955127085, 53.231435372185864, 5.961553018614747, 5.944748348343065, 5.917483546308549, 7.354129364525652, 5.6329078158190775, 5.619682876539638, 27.35684303648529, 5.078722131289917, 5.0685240604780954, 4.931369591132859, 4.788449393445836, 15.546754490086846, 4.557195531375391, 5.406305849778583, 11.180764376843271, 5.698514314787022, 8.20392346612111, 15.340131993238856, 7.921188946696512, 45.35982500441309, 15.592571741353483, 27.737210663353096, 7.63354964157642, 16.306181033741307, 7.666293587009829, 27.322552482067874, 40.713082785720005, 26.583324162767983, 27.643312291685554, 62.47373280240458, 39.56266192746024, 16.30077502378763, 9.867897569338433, 24.478257096226756, 14.628103191337216, 13.112446386505706, 10.033498217229164, 11.090420679047988, 9.976371812645171, 9.368855307763965, 40.119175407060624, 39.25117020338643, 53.22654954015019, 15.224032571896352, 13.258662042849815, 12.8106578608974, 12.425544642349218, 11.727297516127413, 15.650897033359449, 16.16974734055663, 10.359408379729276, 10.729423318481066, 8.585585385653783, 7.778297851218167, 7.630475029505973, 7.268115671160234, 7.0471240514169065, 6.680740733094344, 18.718394324148562, 8.599439649631456, 8.196036364202568, 6.960328771977185, 7.49873356121218, 5.044804916763473, 5.000599282722379, 4.89692448593782, 4.6838297713215375, 4.621000694198492, 20.729359050784794, 7.651202728278094, 21.194151662457866, 12.431847048488736, 8.11331137022857, 23.818863570831507, 86.89053983668482, 8.503301772309221, 8.60580996898421, 8.713410497271907, 11.400061828757554, 13.984354988285512, 10.100899870092066, 10.685338919134058, 17.012816604674388, 22.46962675005954, 15.95012732836829, 9.402400476300441, 10.430875463090594, 10.267777419471031, 8.746747208686774, 9.044606524868053, 24.913890021952128, 10.23576347864587, 9.179162847676377, 14.340214504783987, 50.858882257939854, 12.80624383034026, 7.739236305905582, 7.11786223981948, 7.061692236877962, 6.38905660835049, 5.878428856221241, 5.489705930363895, 6.510004699905002, 5.332003994699374, 14.853810755958907, 5.2139356079267225, 7.376355366452141, 4.479699515933603, 4.203957842991053, 4.101246166642953, 9.243076218638258, 11.461112721392777, 5.571688670357491, 3.541297025488361, 7.442352660916964, 3.3761309626577036, 22.551158304458284, 6.284522784638382, 9.528398234409835, 6.829507373092869, 14.712963301089143, 33.99372937143359, 54.75115931415613, 10.86454304791621, 24.471800177825806, 8.141233627878712, 16.372804561024857, 25.56511186721853, 14.51300492906309, 50.29663036910332, 12.488135031120663, 21.74055370713364, 11.986022754309786, 17.621979062640158, 14.79787622919881, 11.017085930184988, 12.137899564880925, 11.094494297960733, 40.64673484255883, 15.884905973615197, 19.12848598378785, 23.06318422731041, 17.046075648138107, 19.160162297667977, 16.728850842678934, 13.461376567482393, 13.821514160832596, 16.6656442576733, 12.566146858943785, 14.744914154840421, 13.91386543700051, 11.666324401263974, 15.530656045459855, 16.90138387678884, 9.426112060290919, 7.601723663625013, 7.5228189959885645, 18.76394710992712, 15.680693617902536, 6.189044973708013, 5.805679407649749, 5.754760190612916, 6.998692674309276, 5.2651292800119585, 5.220623199430905, 10.524133149063648, 5.037753895085223, 5.144222730538262, 4.662081906075945, 7.997381628834065, 17.54755649200849, 4.213033478864085, 4.1666617183147805, 4.144216425623935, 4.144216425623935, 5.18881288343289, 5.1188995568936075, 90.56407078151354, 10.204149672050548, 14.354288961942814, 5.8015267003574555, 21.39308092352962, 5.539548416137702, 14.39607906526513, 18.252531939297793, 5.967651495734049, 15.632564741167, 10.935060062748002, 31.59837763415089, 12.852829999595555, 35.85783144542209, 8.718814640267523, 16.554648350328034, 7.047981298769781, 33.84115491700847, 8.759316325503912, 20.331595496675753, 15.486359636791025, 9.113515710180211, 11.089336455310672, 17.383737110662953, 15.272906742974186, 12.869884326896381, 11.992389188845321, 10.956074845367954, 116.32826132199182, 100.747962857006, 54.60730611632548, 22.533133757845505, 17.716135751313594, 10.352643743380447, 29.803594792637575, 8.857339298016969, 8.045893107186389, 8.835626942871553, 6.228669651986668, 6.122559148414446, 5.94066478938181, 5.843228544361116, 5.674513211855641, 5.6241624674239175, 5.679278261934123, 5.362220734168674, 9.103296135117008, 5.150888679732143, 4.967806767070607, 4.9670398105686715, 8.32770074958074, 4.853208947245689, 7.03726510800602, 4.57217339476846, 8.641497935371698, 7.907496094153425, 4.370369782721787, 17.56042038420168, 5.995664193357148, 8.117053333906156, 8.114614088577119, 9.438357240033849, 9.858818656533511, 8.678471187567402, 15.799497767694366, 9.115531984442956, 7.183321248054507, 6.673774943891841, 8.977859734148774, 21.59984060604468, 8.377007893246928, 7.369358351227261, 8.566421426672276, 13.9616169036066, 11.41275566557869, 8.808680524282531, 10.11521441696518, 9.747260970064149, 8.544397347351458, 15.090903512240942, 10.305503189702012, 9.428403599865893, 7.066703256292168, 18.086387757933565, 6.430968323022358, 4.982206371513452, 5.658006928105931, 9.27559304775491, 4.760975630220464, 4.667547453729291, 31.155111712464326, 8.278107251939929, 5.9203829425797005, 4.435934619879308, 4.435934619879308, 21.861783505502267, 17.550953372270058, 4.0611347971368845, 4.047926661010731, 5.601535591617982, 4.006740467258276, 3.812984787131219, 3.7393942002770917, 3.85446805296075, 3.631940346720216, 4.78332191460633, 3.488776386670347, 27.464568033568256, 3.336060865955984, 4.691048072895646, 4.952368597461492, 34.762413114896326, 6.810382318184425, 15.758432103279612, 7.765892845436755, 17.804330416381593, 11.118069797447284, 9.99227805483339, 6.74763490417213, 10.129648483235165, 11.962945010659189, 10.065048053498261, 12.222816637952086, 16.29671059257621, 14.14172915704053, 12.735116762070847, 24.609356910817723, 31.797660259495505, 8.752232155985052, 24.183843344050743, 12.642625720500202, 10.689884033062159, 10.763693360477028, 9.223661063245723, 10.121426305209937, 32.77681930359462, 25.727761403953505, 13.497736812581927, 9.997564978286688, 8.675251439787704, 7.742992123792785, 6.925168109472968, 20.569709188504984, 6.2940274196807815, 6.198470927278674, 6.10800641310968, 13.256740599321914, 5.838004034280781, 5.838004034280781, 5.73898139344449, 5.358959904945321, 5.049216146093613, 4.449279394828187, 4.290966342721713, 27.285376711730432, 4.1106828196290355, 4.1106828196290355, 4.000940526271883, 3.792564614781483, 3.6864504658665638, 5.5042397637060905, 6.412908247416744, 5.423913820842341, 6.457858983128076, 4.974525374348799, 12.822719383978184, 21.595320098358126, 13.438008813386535, 8.402980872866596, 18.72505230202051, 22.342741018759376, 24.92697617482119, 9.933742185023759, 14.838069422480357, 50.15649030368527, 16.006444083014625, 20.50927301433991, 10.61410644802281, 9.108279825798771, 13.786495057934012, 22.152432528206095, 49.766355201448484, 10.333487394513288, 18.937468741315513, 17.479361754807545, 20.048556791056917, 23.78400574163792, 18.88858654954737, 10.919227680441976, 15.254284275948018, 10.37108148389334], \"Term\": [\"van\", \"gogh\", \"picasso\", \"app\", \"monet\", \"gut\", \"richter\", \"stillleben\", \"gerhard\", \"cross\", \"super\", \"tolle\", \"tolles\", \"barock\", \"potsdam\", \"henri\", \"edmond\", \"wege\", \"ausstellungen\", \"welttheater\", \"hopper\", \"beckmann\", \"einfach\", \"plattner\", \"ddr\", \"informativ\", \"status\", \"hasso\", \"gerhardrichter\", \"vangogh\", \"ubersichtlich\", \"hervorragend\", \"prima\", \"jauch\", \"hilfreich\", \"bedienen\", \"kopfhorer\", \"gefallen\", \"audio\", \"informationen\", \"zuhause\", \"gemachte\", \"gemacht\", \"hause\", \"audioguide\", \"benutzen\", \"gunther\", \"angenehme\", \"praktisch\", \"leicht\", \"funktion\", \"durchdacht\", \"wirklich\", \"vorbildlich\", \"toll\", \"nachbereitung\", \"guter\", \"sonderausstellungen\", \"smart\", \"gestaltet\", \"personal\", \"gut\", \"informativ\", \"macht\", \"einfach\", \"super\", \"app\", \"konnte\", \"guide\", \"wow\", \"texte\", \"great\", \"gute\", \"tour\", \"museumsbesuch\", \"leider\", \"ganz\", \"funktioniert\", \"schon\", \"ausstellung\", \"bilder\", \"ausstellungen\", \"danke\", \"radioeins\", \"klaus\", \"sendungen\", \"bremen\", \"kreativ\", \"welttheater\", \"goo\", \"workshops\", \"maxbeckmann\", \"inforadio\", \"harald\", \"angenehm\", \"rbbinforadio\", \"dienstags\", \"schema\", \"workshop\", \"fuhren\", \"ulrich\", \"ehemaligen\", \"ubrigens\", \"wunderschone\", \"kinderkunstaktion\", \"portrat\", \"techniken\", \"punkt\", \"palast\", \"kunstpadagogen\", \"marie\", \"leinwand\", \"matthes\", \"beckmann\", \"max\", \"sanssouci\", \"schones\", \"atelier\", \"programm\", \"richters\", \"statt\", \"uhr\", \"veranstaltungen\", \"jahren\", \"thema\", \"nachste\", \"monat\", \"kinder\", \"foto\", \"findet\", \"gerhard\", \"sehen\", \"prasentation\", \"samstag\", \"richter\", \"konnen\", \"sonntag\", \"abstraktion\", \"pic\", \"ausstellung\", \"potsdam\", \"werke\", \"jahr\", \"kunst\", \"schau\", \"ausstellungen\", \"beautiful\", \"see\", \"congo\", \"tales\", \"abstraction\", \"like\", \"german\", \"news\", \"amazing\", \"just\", \"visit\", \"wonderful\", \"opens\", \"culture\", \"interesting\", \"one\", \"nolde\", \"building\", \"world\", \"really\", \"get\", \"visiting\", \"dietmar\", \"impressive\", \"caillebotte\", \"come\", \"mbomo\", \"exhibitions\", \"well\", \"place\", \"look\", \"gerhardrichter\", \"gallery\", \"richter\", \"gerhard\", \"igshid\", \"germany\", \"exhibition\", \"show\", \"art\", \"abstraktion\", \"maz\", \"first\", \"pic\", \"potsdam\", \"instagram\", \"new\", \"via\", \"eroffnung\", \"opening\", \"online\", \"bit\", \"berlin\", \"pnn\", \"rom\", \"caravaggio\", \"corsini\", \"palazzo\", \"gallerie\", \"wege\", \"nazionali\", \"kunstlebenberlin\", \"museumpic\", \"barberinicorsin\", \"narziss\", \"juli\", \"rembrandt\", \"barock\", \"nationalgalerien\", \"rome\", \"caravaggios\", \"kulissen\", \"gentileschi\", \"archive\", \"maske\", \"schlosser\", \"reviving\", \"pdf\", \"sueddeutsche\", \"hinterdermaske\", \"vorbild\", \"friedrich\", \"italien\", \"pathways\", \"best\", \"barockbarberini\", \"italienischen\", \"ddr\", \"neues\", \"kunstler\", \"meisterwerke\", \"eroffnet\", \"youtube\", \"pnn\", \"kunst\", \"berlin\", \"kultur\", \"potsdam\", \"ausstellung\", \"neue\", \"arte\", \"pic\", \"bit\", \"schau\", \"nachrichten\", \"art\", \"zeigt\", \"beckmann\", \"henri\", \"edmond\", \"cross\", \"zamani\", \"gotter\", \"olymp\", \"thank\", \"closedbutopen\", \"daniel\", \"museumfromhome\", \"kulturbb\", \"genial\", \"social\", \"willkommen\", \"excellent\", \"flattenthecurve\", \"neoimpressionist\", \"videos\", \"monets\", \"amerikanische\", \"micromovie\", \"barberinidigital\", \"hoffentlich\", \"road\", \"tourdigital\", \"brucke\", \"lupe\", \"crossinpotsdam\", \"monetbarberini\", \"nimmt\", \"orte\", \"retrospektive\", \"giverny\", \"claude\", \"monet\", \"looking\", \"claudemonet\", \"reise\", \"kurator\", \"licht\", \"gespannt\", \"nice\", \"bit\", \"pic\", \"ausstellung\", \"kommt\", \"schau\", \"heute\", \"malerei\", \"potsdam\", \"klasse\", \"herzlichen\", \"hervorragende\", \"freut\", \"tolles\", \"highlight\", \"instawalk\", \"trump\", \"lob\", \"floskelwolke\", \"einlass\", \"verstandlich\", \"erganzung\", \"vergnugen\", \"idee\", \"gauck\", \"begleitung\", \"went\", \"bundesprasident\", \"tragen\", \"wechselnde\", \"los\", \"stifter\", \"iphone\", \"sache\", \"gelegen\", \"haus\", \"hingehen\", \"angela\", \"sieht\", \"merkel\", \"dank\", \"tolle\", \"schonen\", \"vielen\", \"innen\", \"begeistert\", \"schone\", \"unbedingt\", \"ausstellungen\", \"wunderbar\", \"geht\", \"wunderbare\", \"gebaude\", \"freuen\", \"perfekt\", \"besuchen\", \"jahreskarte\", \"ausstellung\", \"bilder\", \"danke\", \"app\", \"gute\", \"schon\", \"status\", \"besuch\", \"super\", \"potsdam\", \"pic\", \"beeindruckend\", \"jacqueline\", \"product\", \"freue\", \"spate\", \"bereicherung\", \"behind\", \"hassoplattner\", \"shop\", \"picassobarberini\", \"mask\", \"tempted\", \"given\", \"raubkunst\", \"econ\", \"verdient\", \"platz\", \"popularity\", \"kunstliebhaber\", \"erreichen\", \"pablo\", \"picassos\", \"herrn\", \"tech\", \"dust\", \"hidden\", \"might\", \"bislang\", \"picasso\", \"spatwerk\", \"event\", \"sisley\", \"interessante\", \"gefunden\", \"schoner\", \"ort\", \"kulturnachrichten\", \"sammlung\", \"cafe\", \"danke\", \"empfehlen\", \"schon\", \"ticket\", \"werk\", \"vorbereitung\", \"ausstellung\", \"date\", \"ausstellungen\", \"immer\", \"voll\", \"fuhrung\", \"potsdam\", \"pic\", \"gut\", \"tolle\", \"kunst\", \"van\", \"gogh\", \"stillleben\", \"vincent\", \"goghs\", \"net\", \"vangogh\", \"beeindruckende\", \"stilleben\", \"erfolg\", \"otterlo\", \"phillips\", \"lifes\", \"vangoghmuseum\", \"valerie\", \"muller\", \"briefe\", \"amsterdam\", \"faz\", \"perfect\", \"krollermuller\", \"feuilleton\", \"philipp\", \"loved\", \"anhand\", \"vase\", \"postdam\", \"empfehlung\", \"dunklen\", \"vangoghbarberini\", \"andrang\", \"vangoghbarberinipic\", \"wechselnden\", \"entwicklung\", \"michael\", \"gutes\", \"februar\", \"still\", \"kuratorin\", \"exposition\", \"paris\", \"ausstellung\", \"prolog\", \"work\", \"farbe\", \"kunst\", \"ddr\", \"kunstler\", \"potsdam\", \"pic\", \"picasso\", \"ambiente\", \"sap\", \"denverartmuseum\", \"billionaire\", \"absolut\", \"software\", \"university\", \"aufgrund\", \"hinweis\", \"nachmittag\", \"amerikaner\", \"hasso\", \"experience\", \"travel\", \"ruthe\", \"ingeborg\", \"top\", \"markt\", \"nature\", \"termin\", \"berlinerzeitung\", \"genutzt\", \"home\", \"town\", \"free\", \"mazen\", \"ton\", \"truth\", \"sehenswert\", \"richard\", \"komplett\", \"ausblick\", \"plattner\", \"jan\", \"alten\", \"zdf\", \"impressionismus\", \"geoffnet\", \"geschlossen\", \"interessanten\", \"zeitung\", \"berliner\", \"januar\", \"palais\", \"westheider\", \"ortrud\", \"new\", \"monet\", \"potsdam\", \"rundgang\", \"pic\", \"bit\", \"uhr\", \"art\", \"eroffnung\", \"danke\", \"hopper\", \"rothko\", \"swarmapp\", \"artefaktberlin\", \"amerikas\", \"wunschen\", \"architecture\", \"wert\", \"barberinisymposium\", \"next\", \"lieben\", \"liebe\", \"documentid\", \"bcastid\", \"amerikanischen\", \"sunday\", \"wann\", \"tagung\", \"clemens\", \"maitagung\", \"florian\", \"illies\", \"gesprachskonzert\", \"goldberg\", \"klangfarben\", \"emptybarberini\", \"jahrhundertschritt\", \"klassiker\", \"love\", \"unglaublich\", \"good\", \"moderne\", \"hopperrothko\", \"fernsehen\", \"rbb\", \"potsdampic\", \"brandenburg\", \"wwecker\", \"interessant\", \"status\", \"gesehen\", \"instagram\", \"emptymuseum\", \"today\", \"morgen\", \"immer\", \"potsdam\", \"schade\", \"besuch\", \"mal\", \"heute\", \"pic\", \"kunst\", \"lohnt\", \"ausstellung\", \"gibt\"], \"Total\": [117.0, 101.0, 109.0, 141.0, 129.0, 110.0, 97.0, 55.0, 80.0, 54.0, 78.0, 79.0, 55.0, 60.0, 313.0, 40.0, 40.0, 44.0, 112.0, 44.0, 33.0, 50.0, 51.0, 48.0, 70.0, 46.0, 122.0, 36.0, 40.0, 32.0, 19.058431913392067, 15.123941489180933, 12.967870595274677, 12.009087931229233, 13.639719419048818, 10.008304248848917, 10.635737930561392, 17.137348747044232, 26.780119089955832, 23.261999112809256, 7.621349808549376, 7.30522430014605, 38.26220006388043, 15.830258991483918, 19.213889571346208, 6.885424583115605, 8.726312082456474, 6.712783030667468, 6.385295856264184, 7.25902297315418, 6.128067186861512, 6.00996239523842, 26.774021368283776, 5.680111501382612, 41.50322199342447, 5.643037153015145, 10.985743824036474, 5.567091500128326, 5.416381734715828, 6.783228004518812, 18.655949095122182, 110.39141462071261, 46.803993697749746, 33.654116678611175, 51.033449890847265, 78.96588957315458, 141.95456811290546, 20.767845637200555, 20.04798302187998, 11.74171524592863, 10.78007413710629, 35.42205930859939, 67.02995022981213, 21.93385209075261, 15.827938863802125, 40.70622438024226, 31.018168560628474, 22.174128481177924, 102.65034905253714, 234.86211837093762, 51.353877921929836, 112.38072908901997, 81.87864612974258, 12.56264689571086, 19.27660684784672, 9.102708897020282, 8.287953838105727, 8.17537296318374, 44.46479786942668, 7.419430798787601, 6.964838545399149, 32.53317494982603, 6.5977998176233745, 6.506525801797763, 6.159465493184426, 6.117393730444843, 6.056097592126809, 5.876984965032535, 6.36380082847458, 6.46368882580838, 5.25338524912138, 4.888596721702588, 6.196851616162935, 8.072644962906296, 4.462628121722573, 6.036678433234187, 4.794967207848289, 4.897279305483688, 12.99266549893445, 4.080479857415872, 4.040481767145857, 7.261059349608058, 3.9207135648356957, 50.825168151829395, 40.628060095555604, 11.10792643537966, 54.62556717681834, 8.678455187106577, 21.68886572817439, 13.401818760039157, 14.995506068182056, 55.10506531272018, 20.443332530826762, 22.062281781661813, 17.976183220624737, 12.03645429306199, 12.114209475226529, 22.842490584335245, 12.963132786251922, 17.772662327894736, 80.02160670606852, 55.4502470727128, 15.571915756814414, 19.373707643143554, 97.84211612182622, 27.049751553947292, 25.554172836934814, 38.13027086528413, 233.9320636700219, 234.86211837093762, 313.73142371446795, 37.086105144291444, 26.133814821120254, 121.1278022231406, 59.272560616529745, 112.38072908901997, 17.211580909800748, 17.78962661951352, 12.616150741135192, 11.960611334216294, 11.783242076159096, 10.799470835634919, 10.734748047059519, 10.719045853050975, 9.980301168159658, 10.273059814260103, 16.40089065193261, 9.357035369320384, 9.280133434069878, 8.808258593707334, 9.09619579278855, 16.027225467971878, 8.612701466979109, 8.213108557152902, 11.12520525787303, 7.786717626382998, 7.1652893715851915, 7.066739007623132, 7.048668333005386, 6.967629423451627, 6.9010207181636, 6.72868664960891, 6.6931802513553595, 18.43229811761651, 13.074047109644996, 11.733537467870274, 9.398628358684633, 40.273178803725585, 16.77822384294345, 97.84211612182622, 80.02160670606852, 17.390335850648274, 19.9692462551626, 51.38030795148008, 17.09993051032047, 77.00120885920795, 38.13027086528413, 19.91854206249259, 12.758568083640155, 233.9320636700219, 313.73142371446795, 49.5237742368747, 31.660088932555364, 30.11168788960284, 40.01061272064955, 30.24795825262977, 55.17478049133237, 73.71920197718245, 69.90787870689849, 65.30586380242855, 25.099202120686954, 18.61247776052333, 12.81140593403078, 12.236445568088799, 11.30093745066536, 44.77361497245837, 9.872164428550095, 9.115644165557232, 8.908384097559148, 8.601793792855426, 8.51001121089808, 7.954233523809928, 7.628368160568611, 60.18032662680693, 6.787727963688024, 6.770986411558286, 6.743664817153425, 8.389757514572336, 6.459102280012395, 6.4459551710616685, 31.457021260651278, 5.904923014944918, 5.89469248295905, 5.757591790034422, 5.614647604376197, 18.302715474276038, 5.383875365985929, 6.402066751318835, 13.333058399303507, 6.830980691187075, 9.935892305280682, 19.224133088155003, 9.708443696758506, 70.9664540025946, 22.272934183640487, 51.3154195502245, 9.912841203626785, 27.521778520895687, 9.994910578408751, 65.30586380242855, 121.1278022231406, 69.90787870689849, 77.51343465205824, 313.73142371446795, 234.86211837093762, 45.964168631397584, 16.160764849887816, 233.9320636700219, 73.71920197718245, 59.272560616529745, 26.244353715583856, 77.00120885920795, 42.08967850432701, 50.825168151829395, 40.94407311234841, 40.07606860329867, 54.797747373545526, 16.049028766240877, 14.083564550548061, 13.635563362104254, 13.250478645475484, 12.552195947599076, 16.825468729227268, 17.392105062224374, 11.18432577451785, 11.718793003664738, 9.410510057687617, 8.60318750192649, 8.455446321371411, 8.09301674950846, 7.872153056858946, 7.505687040342927, 21.039231775962204, 9.762425635784519, 9.367207473152735, 8.043931472545419, 8.671155063826504, 5.8698601189885755, 5.825484868813035, 5.722077287195395, 5.508732008980069, 5.44593335664104, 24.56962345941187, 9.092296967761639, 25.508778466301766, 15.055638159770009, 9.794622066592385, 31.502780077476427, 129.18215810612017, 10.427102905278078, 10.849321229678173, 11.296133500456815, 18.2981312888177, 26.509262753305755, 16.04677139834311, 19.5250863110962, 73.71920197718245, 233.9320636700219, 234.86211837093762, 20.91125132312799, 59.272560616529745, 83.02789855005976, 20.8466051494346, 313.73142371446795, 26.313693623729073, 11.065816747447531, 10.009174168786615, 15.673940935662694, 55.79448606836414, 14.159101994762102, 8.569323465706638, 7.947881640715021, 7.891728162938548, 7.219062523942056, 6.708524294981371, 6.319764925434526, 7.519698295359007, 6.162051461688297, 17.16919246477448, 6.043974293135766, 8.653662904103262, 5.309973949506707, 5.033989683804974, 4.9314746490361365, 11.319519953261755, 14.056279791879271, 6.848182097045019, 4.371342911018778, 9.236362328478815, 4.207060994823764, 28.661257840569153, 7.994450352896948, 12.201116396751189, 8.77411283229843, 19.092741302815217, 45.56173305095487, 79.2650099820149, 14.285402417581636, 35.29436985865672, 10.606562795325107, 24.640970837680854, 44.07394632899581, 22.156194896547515, 112.38072908901997, 19.046644767290747, 40.88015817887438, 18.361226160158928, 34.28766316001717, 26.608567549761897, 17.2492719092798, 21.607127082734166, 18.445478425511297, 234.86211837093762, 51.353877921929836, 81.87864612974258, 141.95456811290546, 67.02995022981213, 102.65034905253714, 122.66829245041939, 64.10449690950921, 78.96588957315458, 313.73142371446795, 233.9320636700219, 15.571865980462528, 14.7407206862718, 12.528525208068341, 16.700351832563086, 18.266541706081384, 10.252966542724122, 8.428663023241706, 8.34970648287521, 20.95753420362942, 17.591261967704877, 7.015878956141454, 6.632491483867518, 6.581637646581946, 8.085701608798235, 6.091953010297443, 6.047472431021907, 12.242508832944116, 5.86455324679845, 6.044211452030426, 5.488896355876912, 9.518573799480032, 20.891875773372494, 5.039939700881152, 4.993837826568292, 4.971015777298812, 4.971015777298812, 6.245148579024891, 6.18681829301266, 109.61958797879248, 12.448837483666981, 17.565668708492097, 7.079403159423844, 28.4329985992506, 6.8066370451686415, 20.359739594612005, 27.126308011026683, 7.416773127828197, 25.83395189618, 17.586468449168976, 81.87864612974258, 22.666656835464497, 102.65034905253714, 12.928576803495663, 34.19030707599876, 9.787855880759738, 234.86211837093762, 15.605785811500835, 112.38072908901997, 70.95401682201806, 17.72012377771077, 36.89770199195373, 313.73142371446795, 233.9320636700219, 110.39141462071261, 79.2650099820149, 121.1278022231406, 117.1504031903625, 101.57009527639498, 55.429448438869095, 23.355246003427496, 18.538257190379092, 11.17480730246943, 32.28210262825971, 9.679542306751863, 8.868027377474823, 9.983642098358319, 7.05077155160906, 6.944779866617268, 6.762777096636444, 6.665358241196363, 6.496643576143393, 6.4462965984215055, 6.515645057034977, 6.184433631978613, 10.534868874402957, 5.973190236948778, 5.789915109778755, 5.789151052068955, 9.707333478787021, 5.675386952975425, 8.270356932437792, 5.394274818452368, 10.214804574387161, 9.377735478543737, 5.285920073846568, 21.271594566030682, 7.278525191106086, 9.965928034916347, 10.08842408808131, 12.161589807643924, 12.796864864763327, 11.129684752350027, 26.25727989234114, 12.859984294238036, 10.133057826061918, 9.172654046161034, 20.858945500754924, 234.86211837093762, 17.67084898306863, 12.482281532271458, 20.02396068621837, 121.1278022231406, 70.9664540025946, 51.3154195502245, 313.73142371446795, 233.9320636700219, 109.61958797879248, 15.91524738229734, 11.129806321931074, 10.252699740408215, 7.89098585776563, 20.253484931928302, 7.261415960739322, 5.807083611472392, 6.59695282637647, 10.879357217118105, 5.585560858770142, 5.491867466285998, 36.68043222168135, 9.78456444996924, 7.012479859251958, 5.260216079066874, 5.260216079066874, 26.101664065552416, 20.96300644673978, 4.885491490723363, 4.872308415822025, 6.749002155289669, 4.831166832822127, 4.637325825209305, 4.563690960000156, 4.7179032442248605, 4.4562543079204, 5.9096082570272985, 4.313111480189161, 33.97250708472588, 4.1603448466100446, 5.868002092916566, 6.212467265747668, 48.75476989950679, 8.751204411133829, 24.99862301660087, 10.889354339627943, 32.00492796592366, 18.704790460822696, 16.26979332211272, 9.930908361283896, 17.900381907493376, 22.93755085127977, 17.858214426725237, 23.869497922657132, 39.902911651811415, 33.9897692875779, 31.660088932555364, 129.18215810612017, 313.73142371446795, 18.279175570391914, 233.9320636700219, 73.71920197718245, 55.10506531272018, 77.00120885920795, 40.01061272064955, 81.87864612974258, 33.6044315387918, 26.555361385340184, 14.325296596447219, 10.825178272590582, 9.502816508198558, 8.57064703072372, 7.752995135216656, 23.044696349079214, 7.121602812988829, 7.0265756235100625, 6.935582084211207, 15.068748879737859, 6.665569134663752, 6.665569134663752, 6.566605207415402, 6.188266463257169, 5.877187858938722, 5.277131797330771, 5.118537220382988, 32.723370008454275, 4.938250994885068, 4.938250994885068, 4.828521285582617, 4.620131020360501, 4.514033732798779, 6.754560013977621, 7.967015282491042, 6.750859521844379, 8.113820608126069, 6.302382513419143, 16.944300457824546, 29.69265302445394, 18.223404844605966, 10.955454055270739, 27.85452856342771, 35.16298704213467, 42.815153853315024, 14.091121425824497, 23.86397570221557, 122.66829245041939, 28.897443121839068, 49.5237742368747, 18.400094087141696, 14.500498352624728, 29.819571331679533, 70.95401682201806, 313.73142371446795, 18.907788727211823, 64.10449690950921, 57.25923692514881, 83.02789855005976, 233.9320636700219, 121.1278022231406, 26.06519170393151, 234.86211837093762, 47.96254133311496], \"loglift\": [30.0, 29.0, 28.0, 27.0, 26.0, 25.0, 24.0, 23.0, 22.0, 21.0, 20.0, 19.0, 18.0, 17.0, 16.0, 15.0, 14.0, 13.0, 12.0, 11.0, 10.0, 9.0, 8.0, 7.0, 6.0, 5.0, 4.0, 3.0, 2.0, 1.0, 2.1203, 2.1083, 2.0986, 2.0931, 2.081, 2.0781, 2.0781, 2.0748, 2.0699, 2.0544, 2.0488, 2.0439, 2.0405, 2.0401, 2.0398, 2.0361, 2.0337, 2.0325, 2.0252, 2.024, 2.0189, 2.0158, 2.0155, 2.0064, 2.0056, 2.0053, 2.0047, 2.0029, 1.998, 1.9929, 1.98, 1.9267, 1.9364, 1.9466, 1.922, 1.9009, 1.8659, 1.9388, 1.9375, 1.9776, 1.9737, 1.7988, 1.6033, 1.8174, 1.8634, 1.5739, 1.5843, 1.6741, 0.5367, -0.0328, 0.952, 0.1676, 0.4449, 2.1138, 2.1047, 2.0867, 2.0768, 2.0753, 2.0742, 2.0638, 2.0553, 2.0492, 2.048, 2.046, 2.0378, 2.0367, 2.0351, 2.0303, 2.0187, 2.0178, 2.0106, 1.9965, 1.9962, 1.9777, 1.977, 1.9691, 1.9656, 1.9615, 1.9576, 1.9555, 1.9529, 1.9528, 1.945, 1.9333, 1.91, 1.9261, 1.8314, 1.9248, 1.8454, 1.8842, 1.8649, 1.6907, 1.7852, 1.741, 1.7455, 1.8436, 1.8168, 1.6049, 1.7904, 1.6787, 0.9545, 1.0872, 1.6604, 1.5595, 0.7697, 1.3955, 1.3827, 1.1505, 0.0751, 0.0062, -0.1889, 1.1117, 1.2959, 0.1205, 0.6432, -0.0116, 2.1858, 2.1838, 2.1671, 2.1633, 2.1621, 2.1552, 2.1547, 2.1546, 2.1483, 2.1483, 2.1465, 2.1422, 2.1414, 2.1362, 2.1357, 2.1337, 2.1328, 2.1285, 2.1245, 2.1199, 2.1116, 2.1101, 2.1098, 2.1082, 2.1069, 2.1033, 2.1027, 2.1025, 2.1007, 2.1006, 2.0993, 2.012, 2.0377, 1.8767, 1.851, 2.0137, 1.9952, 1.7798, 1.966, 1.6189, 1.7639, 1.8915, 2.0248, 1.0613, 0.8755, 1.497, 1.6287, 1.6128, 1.2666, 1.4186, 0.9139, 0.6925, 0.6498, 0.6709, 2.2106, 2.1987, 2.1775, 2.1742, 2.1682, 2.1636, 2.1567, 2.1491, 2.1468, 2.1431, 2.142, 2.1344, 2.1294, 2.1214, 2.1143, 2.114, 2.1134, 2.1124, 2.1072, 2.1069, 2.1045, 2.0934, 2.0931, 2.0892, 2.0849, 2.0809, 2.0774, 2.0751, 2.0681, 2.0629, 2.0526, 2.0184, 2.0407, 1.7965, 1.8875, 1.6289, 1.9828, 1.7207, 1.9789, 1.3727, 1.1538, 1.2772, 1.213, 0.6303, 0.463, 1.2075, 1.7508, -0.0131, 0.6268, 0.7355, 1.2826, 0.3064, 0.8045, 0.5531, 2.2619, 2.2614, 2.2531, 2.2295, 2.2219, 2.2198, 2.2179, 2.2142, 2.2099, 2.2093, 2.2056, 2.194, 2.1905, 2.1814, 2.1796, 2.1747, 2.1715, 2.1658, 2.1653, 2.1554, 2.1487, 2.1375, 2.137, 2.1308, 2.1295, 2.1265, 2.12, 2.118, 2.1123, 2.1097, 2.0969, 2.0907, 2.0939, 2.0026, 1.8856, 2.0783, 2.0506, 2.0226, 1.809, 1.6427, 1.8193, 1.6794, 0.8159, -0.0606, -0.4073, 1.4829, 0.5448, 0.1921, 1.4137, -1.2641, 2.2723, 2.249, 2.2404, 2.238, 2.2344, 2.2265, 2.2251, 2.2167, 2.2158, 2.2048, 2.1949, 2.1862, 2.1828, 2.1823, 2.1821, 2.1792, 2.1673, 2.1569, 2.1468, 2.1426, 2.1243, 2.1229, 2.1207, 2.1164, 2.111, 2.1069, 2.0872, 2.0863, 2.0797, 2.0764, 2.0664, 2.0341, 1.957, 2.0532, 1.9608, 2.0624, 1.9182, 1.7823, 1.9039, 1.523, 1.9049, 1.6955, 1.9005, 1.6613, 1.7402, 1.8786, 1.7503, 1.8186, 0.5729, 1.1536, 0.8729, 0.5097, 0.9578, 0.6485, 0.3346, 0.7663, 0.5842, -0.6082, -0.5971, 2.293, 2.2898, 2.2762, 2.2749, 2.2699, 2.2635, 2.2443, 2.2433, 2.237, 2.2326, 2.2221, 2.2144, 2.2133, 2.2032, 2.2017, 2.2005, 2.1963, 2.1956, 2.1863, 2.1843, 2.1734, 2.1731, 2.1683, 2.1664, 2.1656, 2.1656, 2.1622, 2.1581, 2.1566, 2.1487, 2.1456, 2.1485, 2.0631, 2.1416, 2.0009, 1.9513, 2.1301, 1.8452, 1.8724, 1.3954, 1.7802, 1.2958, 1.9536, 1.6223, 2.0191, 0.4102, 1.77, 0.6378, 0.8255, 1.6826, 1.1454, -0.5455, -0.3814, 0.1984, 0.459, -0.0554, 2.3709, 2.3698, 2.363, 2.3421, 2.3326, 2.3015, 2.2981, 2.2892, 2.2807, 2.2558, 2.254, 2.252, 2.2484, 2.2463, 2.2427, 2.2415, 2.2406, 2.2353, 2.2319, 2.2299, 2.2248, 2.2248, 2.2247, 2.2215, 2.2165, 2.2126, 2.2107, 2.2074, 2.1878, 2.1862, 2.1841, 2.1728, 2.1602, 2.1245, 2.1171, 2.1292, 1.87, 2.0338, 2.0339, 2.0599, 1.5349, -0.0083, 1.6315, 1.851, 1.5289, 0.2174, 0.5505, 0.6157, -1.0565, -0.8001, -0.1738, 2.3907, 2.367, 2.3601, 2.3336, 2.3307, 2.3225, 2.2907, 2.2904, 2.2844, 2.2842, 2.2813, 2.2806, 2.2767, 2.2746, 2.2735, 2.2735, 2.2666, 2.2662, 2.2591, 2.2585, 2.2575, 2.2568, 2.2482, 2.2447, 2.2418, 2.2394, 2.2325, 2.2318, 2.2312, 2.2231, 2.22, 2.2172, 2.1056, 2.1932, 1.9825, 2.1059, 1.8575, 1.9237, 1.9564, 2.0574, 1.8745, 1.7929, 1.8705, 1.7746, 1.5484, 1.567, 1.5332, 0.7858, 0.1548, 1.7074, 0.1746, 0.6807, 0.804, 0.4763, 0.9765, 0.3533, 2.4446, 2.4379, 2.4101, 2.39, 2.3785, 2.368, 2.3566, 2.3559, 2.346, 2.3442, 2.3425, 2.3414, 2.337, 2.337, 2.3348, 2.3257, 2.3177, 2.2989, 2.2932, 2.2878, 2.2861, 2.2861, 2.2816, 2.2722, 2.267, 2.2649, 2.2526, 2.2507, 2.2413, 2.233, 2.1909, 2.1511, 2.1649, 2.2043, 2.0724, 2.0161, 1.9286, 2.12, 1.9944, 1.5752, 1.8788, 1.588, 1.9194, 2.0046, 1.6981, 1.3055, 0.6284, 1.8654, 1.2502, 1.283, 1.0485, 0.1835, 0.6113, 1.5995, -0.2646, 0.9382], \"logprob\": [30.0, 29.0, 28.0, 27.0, 26.0, 25.0, 24.0, 23.0, 22.0, 21.0, 20.0, 19.0, 18.0, 17.0, 16.0, 15.0, 14.0, 13.0, 12.0, 11.0, 10.0, 9.0, 8.0, 7.0, 6.0, 5.0, 4.0, 3.0, 2.0, 1.0, -4.8333, -5.0765, -5.2401, -5.3224, -5.2072, -5.5196, -5.4588, -4.985, -4.5436, -4.6999, -5.8213, -5.8686, -4.2161, -5.0991, -4.9056, -5.9356, -5.7011, -5.9646, -6.0219, -5.8948, -6.0693, -6.0919, -4.5981, -6.1577, -4.1698, -6.1654, -5.4998, -6.1813, -6.2137, -5.9938, -4.995, -3.2704, -4.1187, -4.4384, -4.0466, -3.6312, -3.0797, -4.9289, -4.9654, -5.4603, -5.5497, -4.535, -4.0926, -4.9956, -5.2759, -4.6208, -4.8822, -5.1281, -4.7331, -4.4749, -5.0103, -5.0116, -5.0509, -5.2565, -4.8375, -5.6058, -5.7095, -5.7247, -4.0322, -5.8332, -5.9049, -4.3696, -5.9663, -5.9823, -6.0453, -6.0532, -6.0649, -6.0997, -6.0318, -6.0171, -6.2316, -6.3177, -6.0808, -5.8349, -6.4283, -6.1342, -6.368, -6.3509, -5.3791, -6.5394, -6.5518, -5.9657, -6.5898, -4.0394, -4.2866, -5.5673, -4.0692, -5.8155, -4.9789, -5.4215, -5.3284, -4.2011, -5.0983, -5.0662, -5.2666, -5.5696, -5.5899, -5.1676, -5.5486, -5.3447, -4.5643, -4.7984, -5.4952, -5.3777, -4.5481, -5.2079, -5.2776, -5.1096, -4.371, -4.4359, -4.3414, -5.1761, -5.342, -4.9837, -5.1757, -5.1908, -4.8697, -4.8387, -5.199, -5.2562, -5.2723, -5.3664, -5.373, -5.3745, -5.4522, -5.4233, -4.9572, -5.5227, -5.5318, -5.5893, -5.5575, -4.9931, -5.615, -5.6669, -5.3673, -5.7288, -5.8203, -5.8356, -5.8385, -5.8516, -5.8625, -5.8914, -5.8973, -4.8845, -5.2297, -5.338, -5.5612, -4.1934, -5.0433, -3.4411, -3.6678, -5.0315, -4.9117, -4.182, -5.0961, -3.9384, -4.4962, -5.018, -5.3301, -3.3847, -3.277, -4.5016, -4.8174, -4.8833, -4.9454, -5.073, -4.9767, -4.9083, -5.0041, -5.0511, -4.4676, -4.7786, -5.1733, -5.2225, -5.308, -3.9359, -5.4547, -5.542, -5.5673, -5.606, -5.6179, -5.6929, -5.7398, -3.6823, -5.8717, -5.8745, -5.8791, -5.6617, -5.9284, -5.9307, -4.348, -6.0319, -6.0339, -6.0614, -6.0908, -4.9131, -6.1403, -5.9694, -5.2428, -5.9168, -5.5524, -4.9265, -5.5874, -3.8424, -4.9102, -4.3342, -5.6244, -4.8654, -5.6201, -4.3493, -3.9504, -4.3767, -4.3376, -3.5222, -3.9791, -4.8658, -5.3677, -4.4592, -4.974, -5.0834, -5.3511, -5.2509, -5.3568, -5.4196, -3.927, -3.9489, -3.6443, -4.896, -5.0342, -5.0686, -5.0991, -5.157, -4.8683, -4.8357, -5.281, -5.2459, -5.4688, -5.5675, -5.5867, -5.6354, -5.6663, -5.7196, -4.6894, -5.4672, -5.5152, -5.6786, -5.6041, -6.0005, -6.0093, -6.0303, -6.0748, -6.0883, -4.5873, -5.584, -4.5651, -5.0986, -5.5254, -4.4484, -3.1542, -5.4784, -5.4664, -5.454, -5.1853, -4.9809, -5.3062, -5.25, -4.7849, -4.5067, -4.8494, -5.3779, -5.2741, -5.2899, -5.4502, -5.4167, -4.3587, -5.2482, -5.3572, -4.9111, -3.6451, -5.0242, -5.5278, -5.6115, -5.6194, -5.7195, -5.8028, -5.8712, -5.7008, -5.9004, -4.8759, -5.9228, -5.5758, -6.0746, -6.1381, -6.1628, -5.3502, -5.1352, -5.8564, -6.3096, -5.5669, -6.3574, -4.4583, -5.736, -5.3198, -5.6529, -4.8854, -4.0479, -3.5713, -5.1886, -4.3766, -5.4772, -4.7785, -4.3329, -4.8991, -3.6562, -5.0493, -4.4949, -5.0904, -4.705, -4.8796, -5.1747, -5.0778, -5.1677, -3.8692, -4.8088, -4.6229, -4.4359, -4.7382, -4.6213, -4.757, -4.9743, -4.9479, -4.7608, -5.0431, -4.8627, -4.9207, -5.0969, -4.8107, -4.7262, -5.3101, -5.5252, -5.5356, -4.6216, -4.8011, -5.7308, -5.7947, -5.8035, -5.6078, -5.8925, -5.9009, -5.1999, -5.9366, -5.9157, -6.0141, -5.4744, -4.6886, -6.1154, -6.1264, -6.1318, -6.1318, -5.9071, -5.9206, -3.0475, -5.2308, -4.8895, -5.7954, -4.4905, -5.8416, -4.8866, -4.6493, -5.7672, -4.8042, -5.1616, -4.1005, -5.0, -3.974, -5.3881, -4.7469, -5.6008, -4.0319, -5.3834, -4.5414, -4.8136, -5.3438, -5.1476, -4.698, -4.8275, -4.9987, -5.0693, -5.1597, -2.7667, -2.9105, -3.523, -4.4081, -4.6487, -5.1859, -4.1285, -5.3419, -5.438, -5.3443, -5.694, -5.7111, -5.7413, -5.7578, -5.7871, -5.7961, -5.7863, -5.8438, -5.3145, -5.884, -5.9201, -5.9203, -5.4035, -5.9435, -5.5719, -6.0031, -5.3666, -5.4553, -6.0483, -4.6575, -5.7321, -5.4292, -5.4295, -5.2783, -5.2348, -5.3623, -4.7632, -5.3131, -5.5514, -5.6249, -5.3284, -4.4504, -5.3976, -5.5258, -5.3753, -4.8868, -5.0884, -5.3474, -5.2091, -5.2461, -5.3779, -4.7431, -5.1245, -5.2135, -5.5018, -4.562, -5.5961, -5.8513, -5.7241, -5.2298, -5.8967, -5.9166, -4.0182, -5.3436, -5.6788, -5.9675, -5.9675, -4.3725, -4.5921, -6.0557, -6.059, -5.7342, -6.0692, -6.1188, -6.1383, -6.108, -6.1674, -5.8921, -6.2076, -4.1443, -6.2524, -5.9115, -5.8573, -3.9087, -5.5387, -4.6998, -5.4075, -4.5778, -5.0486, -5.1554, -5.548, -5.1417, -4.9754, -5.1481, -4.9539, -4.6662, -4.8081, -4.9128, -4.2541, -3.9978, -5.2879, -4.2715, -4.9201, -5.0879, -5.081, -5.2354, -5.1425, -3.9418, -4.184, -4.829, -5.1292, -5.2711, -5.3847, -5.4964, -4.4077, -5.5919, -5.6072, -5.6219, -4.847, -5.6671, -5.6671, -5.6843, -5.7528, -5.8123, -5.9388, -5.975, -4.1252, -6.0179, -6.0179, -6.045, -6.0985, -6.1269, -5.726, -5.5732, -5.7407, -5.5662, -5.8272, -4.8803, -4.3591, -4.8334, -5.3029, -4.5017, -4.325, -4.2156, -5.1356, -4.7343, -3.5164, -4.6585, -4.4107, -5.0693, -5.2223, -4.8078, -4.3336, -3.5242, -5.0961, -4.4904, -4.5705, -4.4334, -4.2625, -4.493, -5.041, -4.7067, -5.0925]}, \"token.table\": {\"Topic\": [2, 9, 3, 2, 3, 2, 3, 4, 8, 9, 3, 9, 9, 5, 10, 10, 8, 2, 8, 3, 6, 2, 1, 7, 8, 1, 2, 5, 6, 7, 9, 10, 10, 4, 3, 4, 5, 6, 7, 8, 9, 10, 4, 5, 10, 2, 7, 1, 10, 1, 6, 9, 6, 9, 1, 2, 3, 4, 5, 6, 7, 8, 9, 10, 1, 2, 4, 5, 6, 7, 8, 10, 4, 5, 10, 2, 4, 7, 2, 4, 10, 3, 2, 4, 6, 1, 7, 8, 1, 2, 5, 6, 7, 9, 10, 2, 6, 7, 1, 7, 1, 2, 3, 4, 5, 7, 8, 9, 10, 2, 3, 4, 6, 9, 9, 1, 4, 1, 2, 4, 5, 6, 7, 8, 10, 1, 2, 3, 6, 7, 10, 1, 2, 3, 4, 5, 6, 7, 8, 9, 10, 9, 7, 2, 3, 4, 5, 7, 8, 9, 10, 2, 3, 4, 7, 9, 10, 2, 8, 5, 3, 6, 1, 2, 3, 6, 7, 3, 4, 4, 5, 9, 5, 9, 10, 5, 3, 3, 4, 5, 7, 5, 3, 5, 1, 4, 6, 9, 10, 1, 2, 6, 7, 9, 10, 2, 4, 7, 9, 2, 3, 4, 6, 7, 8, 10, 9, 2, 3, 10, 8, 1, 7, 7, 5, 2, 1, 5, 6, 6, 1, 6, 7, 6, 8, 6, 10, 3, 9, 10, 2, 8, 8, 6, 2, 3, 4, 9, 2, 3, 4, 5, 6, 7, 9, 7, 5, 7, 9, 10, 5, 3, 4, 5, 8, 9, 10, 3, 9, 9, 10, 2, 3, 8, 2, 3, 5, 8, 2, 8, 2, 5, 8, 9, 10, 8, 2, 4, 5, 8, 9, 3, 8, 5, 10, 6, 1, 2, 4, 10, 9, 7, 1, 2, 3, 6, 9, 10, 6, 4, 2, 1, 2, 5, 6, 7, 1, 1, 6, 4, 3, 5, 8, 1, 4, 6, 7, 8, 9, 6, 2, 6, 7, 10, 1, 7, 7, 2, 4, 5, 6, 9, 10, 6, 1, 5, 6, 1, 5, 4, 9, 2, 3, 4, 9, 2, 3, 7, 2, 3, 3, 3, 9, 10, 4, 9, 1, 2, 5, 6, 10, 5, 10, 10, 1, 3, 1, 2, 4, 5, 6, 7, 8, 9, 10, 7, 5, 9, 8, 8, 10, 2, 3, 10, 5, 1, 5, 8, 9, 1, 5, 9, 1, 1, 6, 7, 1, 2, 5, 6, 7, 10, 1, 7, 6, 8, 2, 3, 6, 9, 7, 3, 5, 6, 7, 1, 5, 5, 7, 1, 6, 6, 2, 3, 4, 5, 6, 7, 8, 9, 10, 7, 4, 6, 1, 2, 6, 2, 4, 6, 8, 9, 5, 9, 10, 6, 9, 10, 5, 6, 9, 3, 8, 10, 10, 1, 2, 6, 7, 8, 9, 10, 2, 3, 4, 5, 7, 8, 9, 10, 3, 2, 1, 2, 1, 7, 9, 6, 7, 3, 4, 8, 9, 10, 6, 1, 10, 1, 7, 10, 1, 9, 3, 6, 1, 4, 4, 9, 7, 1, 2, 3, 4, 6, 8, 9, 2, 5, 7, 8, 9, 2, 6, 7, 9, 10, 4, 9, 3, 5, 8, 9, 1, 4, 3, 1, 2, 7, 2, 10, 6, 8, 5, 10, 2, 4, 1, 2, 3, 4, 5, 9, 9, 1, 2, 3, 6, 7, 1, 5, 6, 8, 1, 2, 8, 4, 2, 3, 4, 5, 6, 7, 8, 9, 10, 5, 3, 7, 2, 3, 4, 5, 6, 7, 8, 9, 10, 4, 1, 2, 4, 6, 7, 8, 7, 2, 3, 4, 5, 8, 4, 8, 1, 1, 6, 7, 9, 10, 2, 8, 4, 5, 8, 9, 10, 5, 10, 10, 8, 3, 6, 1, 2, 6, 7, 10, 3, 5, 9, 5, 6, 10, 5, 10, 8, 5, 1, 4, 5, 7, 10, 5, 6, 10, 1, 2, 5, 6, 7, 9, 10, 2, 3, 4, 5, 6, 8, 10, 2, 2, 3, 8, 9, 7, 4, 8, 10, 2, 2, 4, 6, 2, 4, 3, 4, 9, 3, 4, 5, 3, 6, 2, 4, 8, 5, 7, 1, 2, 5, 9, 10, 2, 4, 5, 1, 3, 4, 5, 6, 7, 9, 3, 5, 9, 5, 9, 2, 4, 6, 8, 9, 10, 8, 5, 4, 1, 2, 6, 10, 1, 9, 2, 3, 4, 5, 7, 1, 2, 4, 9, 4, 4, 9, 4, 5, 8, 1, 2, 3, 4, 5, 6, 7, 9, 10, 2, 3, 4, 6, 10, 3, 4, 9, 3, 10, 3, 5, 1, 5, 3, 5, 3, 9, 1, 2, 3, 4, 5, 6, 7, 8, 9, 10, 3, 4, 8, 9, 10, 3, 1, 5, 7, 10, 4, 5, 9, 2, 3, 4, 5, 7, 8, 9, 10, 8, 7, 8, 4, 5, 9, 10, 2, 4, 7, 4, 2, 5, 7, 8, 9, 4, 4, 8, 1, 6, 1, 6, 10, 4, 8, 8, 1, 2, 3, 4, 5, 6, 7, 8, 9, 10, 2, 3, 5, 7, 8, 10, 7, 8, 7, 8, 3, 3, 6, 7, 9, 3, 7, 2, 3, 4, 6, 7, 8, 9, 10, 7, 2, 5, 8, 1, 2, 3, 4, 5, 6, 7, 8, 9, 10, 2, 3, 4, 7, 10, 1, 2, 4, 7, 8, 1, 7, 2, 5, 9, 10, 5, 8, 9, 2, 2, 7, 2, 3, 5, 9, 10, 2, 3, 4, 5, 4, 2, 5, 4, 9, 2, 3, 4, 6, 7, 2, 3, 5, 4, 4, 10, 2, 5, 9, 9, 1, 6, 1, 2, 4, 5, 7, 8, 2, 3, 4, 5, 6, 7, 9, 10, 1, 2, 9, 1, 6, 10, 2, 3, 4, 5, 6, 7, 8, 9, 10, 2, 4, 1, 2, 3, 4, 5, 6, 7, 9, 10, 1, 5, 6, 7, 10, 6, 7, 8, 6, 7, 9, 10, 1, 2, 7, 8, 10, 3, 2, 3, 4, 5, 6, 7, 8, 9, 10, 7, 9, 2, 7, 9, 3, 4, 9, 6, 8, 7, 9, 1, 5, 9, 1, 2, 3, 5, 7, 8, 9, 10, 7, 8, 7, 8, 2, 4, 5, 9, 1, 2, 3, 4, 5, 6, 8, 9, 10, 6, 7, 2, 3, 8, 8, 8, 4, 10, 1, 5, 6, 10, 10, 3, 7, 2, 7, 9, 1, 4, 8, 5, 2, 4, 7, 8, 5, 7, 9, 4, 5, 9, 10, 1, 2, 7, 10, 1, 6, 7, 10, 6, 10, 9, 2, 6, 9, 1, 2, 9, 5, 9, 6, 9, 6, 9, 1, 2, 2, 3, 4, 5, 7, 9, 10, 2, 1, 2, 3, 4, 6, 7, 2, 10, 9, 8, 8, 8, 9, 8, 9, 8, 9, 8, 8, 2, 3, 5, 7, 8, 9, 7, 6, 6, 3, 4, 5, 8, 9, 10, 5, 1, 2, 6, 9, 10, 8, 3, 9, 3, 1, 2, 6, 7, 7, 9, 4, 1, 10, 6, 7, 8, 9, 2, 4, 3, 9, 2, 4, 6, 2, 4, 5, 7, 8, 1, 2, 3, 4, 5, 7, 8, 10, 7, 10, 2, 3, 4, 5, 7, 8, 9, 10, 5, 1, 2, 7, 3, 5, 8, 9, 2, 2, 3, 1, 4, 1, 4, 6, 9, 5, 6, 7, 2, 9, 10, 6, 10, 4, 5, 5, 4, 9, 2, 3, 4, 5, 6, 7, 8, 9, 10, 2, 4, 8, 9, 1], \"Freq\": [0.04937421897322791, 0.8887359415181024, 0.9335291534285101, 0.3671623537494028, 0.6294211778561191, 0.12000660988438387, 0.08000440658958924, 0.12000660988438387, 0.04000220329479462, 0.6400352527167139, 0.9017763941546042, 0.9424924187282583, 0.910437120104314, 0.921902028836991, 0.9137141354598937, 0.9470876336752633, 0.808481470986427, 0.13739047042413743, 0.8243428225448246, 0.16391942630205078, 0.8195971315102539, 0.8117587484713734, 0.8938170610593094, 0.1209137656535505, 0.8463963595748535, 0.7396732729057852, 0.0070445073610074785, 0.05635605888805983, 0.162023669303172, 0.0070445073610074785, 0.014089014722014957, 0.0070445073610074785, 0.9028768724752188, 0.9308162779251506, 0.5454459822415835, 0.14285490011089091, 0.06493404550495041, 0.025973618201980166, 0.012986809100990083, 0.03896042730297025, 0.14285490011089091, 0.03896042730297025, 0.6187825943194402, 0.3093912971597201, 0.92377231563198, 0.8065951657386873, 0.11522788081981247, 0.8961872021324003, 0.0746822668443667, 0.8847766058441496, 0.10409136539342936, 0.9095108238473852, 0.16096664291713583, 0.8048332145856791, 0.11070325082794323, 0.1149610681674795, 0.034062538716290225, 0.17031269358145112, 0.06812507743258045, 0.17457051092098738, 0.14476578954423344, 0.09367198146979812, 0.029804721376753947, 0.06386726009304416, 0.13347484147498345, 0.11567819594498564, 0.008898322764998896, 0.017796645529997792, 0.4449161382499448, 0.17796645529997793, 0.026694968294996686, 0.07118658211999117, 0.9300385701694835, 0.8702212374498166, 0.8425069689448028, 0.083083630153858, 0.8806864796308949, 0.016616726030771602, 0.15605385097174848, 0.7802692548587424, 0.900148191217084, 0.9296066458885923, 0.7870116608470138, 0.17707762369057808, 0.019675291521175343, 0.8992532377335666, 0.9632756934088678, 0.929796029066596, 0.08116563317146619, 0.040582816585733095, 0.040582816585733095, 0.6493250653717295, 0.040582816585733095, 0.040582816585733095, 0.08116563317146619, 0.11555800255702532, 0.8089060178991773, 0.9491422278883751, 0.8714059572612505, 0.8777947301882817, 0.014304539323710308, 0.10013177526597217, 0.20026355053194433, 0.3862225617401783, 0.028609078647420617, 0.05721815729484123, 0.05721815729484123, 0.08582723594226185, 0.08582723594226185, 0.17438653437478158, 0.17438653437478158, 0.043596633593695394, 0.08719326718739079, 0.5231596031243447, 0.889020311735621, 0.10064521326066755, 0.8051617060853404, 0.20279388540169, 0.06239811858513538, 0.03119905929256769, 0.03119905929256769, 0.20279388540169, 0.1403957668165546, 0.015599529646283845, 0.2963910632793931, 0.04628102552324415, 0.0925620510464883, 0.0925620510464883, 0.5553723062789299, 0.0925620510464883, 0.13884307656973247, 0.2920908918076953, 0.07789090448205208, 0.03894545224102604, 0.01947272612051302, 0.01947272612051302, 0.3115636179282083, 0.11683635672307811, 0.03894545224102604, 0.01947272612051302, 0.05841817836153906, 0.8870881441399622, 0.8081698480860441, 0.10851989421258464, 0.21703978842516927, 0.2034748016485962, 0.23060477520174236, 0.04069496032971924, 0.01356498677657308, 0.17634482809545005, 0.02712997355314616, 0.04671243286552262, 0.09342486573104523, 0.18684973146209047, 0.02335621643276131, 0.09342486573104523, 0.5839054108190327, 0.844599298781797, 0.9208604746696212, 0.8738085399840322, 0.8522960522546131, 0.7945983705267696, 0.17058569824129532, 0.11372379882753023, 0.05686189941376511, 0.05686189941376511, 0.6254808935514162, 0.8694366014882264, 0.9670931636075675, 0.8897239353797934, 0.7618375248462375, 0.2222026114134859, 0.8295449834576397, 0.09217166482862664, 0.7814732662431836, 0.9560080204368784, 0.8917044755455712, 0.9511617486365139, 0.9366653481898147, 0.9671930424203273, 0.018248925328685422, 0.9181162663150758, 0.9082385485043822, 0.9509393323590826, 0.04389648650465645, 0.06584472975698467, 0.7462402705791595, 0.0877929730093129, 0.06584472975698467, 0.18319794853753965, 0.03663958970750793, 0.23205073481421687, 0.3908222902134179, 0.1221319656916931, 0.03663958970750793, 0.06407879821489286, 0.06407879821489286, 0.5767091839340357, 0.25631519285957144, 0.056364659277660344, 0.028182329638830172, 0.6341024168736789, 0.07045582409707543, 0.028182329638830172, 0.15500281301356594, 0.014091164819415086, 0.8778175727246706, 0.8256141721527437, 0.8512246166988738, 0.900148191217084, 0.756727295176296, 0.8319519609575937, 0.8046645151010866, 0.8207548534186531, 0.9731493472089201, 0.8182307168521952, 0.7837996468111381, 0.019594991170278454, 0.17635492053250607, 0.8943844780421507, 0.26470599716374293, 0.17647066477582862, 0.573529660521443, 0.10663555207843092, 0.8530844166274474, 0.148048133102769, 0.8882887986166139, 0.1630426445534565, 0.217390192737942, 0.5978230300293405, 0.16445218360702643, 0.740034826231619, 0.9014746233220774, 0.9308884113502595, 0.07266972221586321, 0.1090045833237948, 0.5813577777269057, 0.2180091666475896, 0.09997347523587394, 0.37490053213452723, 0.024993368808968484, 0.04998673761793697, 0.1499602128538109, 0.07498010642690545, 0.22494031928071634, 0.9109299348759874, 0.056929230341031735, 0.7970092247744442, 0.056929230341031735, 0.056929230341031735, 0.9461357444585443, 0.6422694085672446, 0.13623896545365793, 0.03892541870104512, 0.058388128051567685, 0.0973135467526128, 0.03892541870104512, 0.8680415159251432, 0.05425259474532145, 0.8176143190538389, 0.10220178988172986, 0.10901970083767881, 0.10901970083767881, 0.7631379058637517, 0.09988033992578271, 0.049940169962891356, 0.39952135970313085, 0.4494615296660222, 0.09492287107908337, 0.8543058397117503, 0.15233870440504924, 0.22850805660757387, 0.6093548176201969, 0.09127873613954811, 0.7302298891163849, 0.8636844945016724, 0.6189280928797688, 0.11253238052359432, 0.11253238052359432, 0.11253238052359432, 0.05626619026179716, 0.7837870154741451, 0.15675740309482902, 0.8649432240981282, 0.8100033805780857, 0.8311328486352585, 0.0771418465342384, 0.6942766188081456, 0.0771418465342384, 0.0771418465342384, 0.8478342587666166, 0.9580636480246177, 0.03758188027708949, 0.11274564083126846, 0.07516376055417898, 0.5637282041563423, 0.18790940138544743, 0.03758188027708949, 0.8932022940156678, 0.7809977924660021, 0.7735520899514645, 0.35232546468164616, 0.18971371175165563, 0.02710195882166509, 0.10840783528666036, 0.298121547038316, 0.8159179472966498, 0.6313664147785392, 0.36078080844487953, 0.884882342164564, 0.8344149017828303, 0.059601064413059304, 0.059601064413059304, 0.5480658848948996, 0.06447833939939995, 0.16119584849849988, 0.03223916969969998, 0.03223916969969998, 0.1289566787987999, 0.8272702294049424, 0.1458250443217868, 0.5249701595584325, 0.23332007091485887, 0.08749502659307208, 0.9336333312794142, 0.058352083204963386, 0.8814925726440499, 0.09784697951748822, 0.04892348975874411, 0.04892348975874411, 0.5381583873461852, 0.04892348975874411, 0.19569395903497644, 0.7130868802927045, 0.888605462917331, 0.05227090958337241, 0.05227090958337241, 0.8213300171878425, 0.9386632221048743, 0.928921658133038, 0.8279573317205026, 0.1603867205186564, 0.10692448034577093, 0.10692448034577093, 0.5880846419017401, 0.28742237186616965, 0.6748177426423113, 0.012496624863746504, 0.17381294965850685, 0.7945734841531742, 0.9315542345438855, 0.8012320442922857, 0.15023100830480357, 0.050077002768267855, 0.30731797884637935, 0.6146359576927587, 0.13842055102020512, 0.10381541326515384, 0.06921027551010256, 0.10381541326515384, 0.5536822040808205, 0.6231783174173303, 0.31158915870866516, 0.8284109696157947, 0.8845346192112301, 0.8373702287298702, 0.2084960413283118, 0.06254881239849354, 0.08339841653132472, 0.06254881239849354, 0.14594722892981826, 0.1042480206641559, 0.02084960413283118, 0.06254881239849354, 0.2084960413283118, 0.9116272153201858, 0.8167747510428703, 0.10209684388035879, 0.9943871739526913, 0.9709650597220955, 0.8657763129167465, 0.9434686015460728, 0.17705068482863562, 0.767219634257421, 0.9230617684422873, 0.7057748896583991, 0.16938597351801576, 0.028230995586335964, 0.08469298675900788, 0.7980852728445506, 0.04988032955278441, 0.09976065910556882, 0.9167675788358907, 0.7881047661081091, 0.09058675472507001, 0.117762781142591, 0.5669107595890648, 0.02983740839942446, 0.01491870419971223, 0.2536179713951079, 0.05967481679884892, 0.05967481679884892, 0.8192435709549565, 0.09102706343943961, 0.1796996091535927, 0.8086482411911672, 0.9221511114798301, 0.08178747681786414, 0.05452498454524275, 0.8451372604512627, 0.9581175118439865, 0.034890304032104615, 0.034890304032104615, 0.8024769927384062, 0.13956121612841846, 0.884382245895754, 0.06317016042112528, 0.9769423743026756, 0.7936602890904955, 0.925684617995583, 0.8991750816032653, 0.9036838606880622, 0.09635315526113893, 0.08430901085349657, 0.09635315526113893, 0.12044144407642367, 0.12044144407642367, 0.04817657763056946, 0.08430901085349657, 0.09635315526113893, 0.24088288815284734, 0.8046645151010866, 0.07062594791462987, 0.9181373228901882, 0.9530987845574443, 0.12508677343122535, 0.750520640587352, 0.05463670139031951, 0.8741872222451121, 0.05463670139031951, 0.09191719511025447, 0.8272547559922903, 0.8072742268445794, 0.862566088898759, 0.9820133383868117, 0.1646234622773024, 0.05487448742576746, 0.7133683365349771, 0.05824385754028154, 0.8736578631042231, 0.05824385754028154, 0.8050448318097382, 0.05750320227212416, 0.11500640454424832, 0.8100033805780857, 0.1268427131134198, 0.14093634790379977, 0.15502998269417975, 0.2114045218556997, 0.01409363479037998, 0.01409363479037998, 0.3100599653883595, 0.06249037654855662, 0.03124518827427831, 0.03124518827427831, 0.06249037654855662, 0.03124518827427831, 0.03124518827427831, 0.5624133889370095, 0.15622594137139154, 0.8611250161791351, 0.9093940655752252, 0.9027599003060883, 0.042988566681242305, 0.7905308303162791, 0.19229128304990573, 0.7604250357543435, 0.7542500010961174, 0.18856250027402935, 0.48461572991603574, 0.0807692883193393, 0.020192322079834825, 0.020192322079834825, 0.4240387636765313, 0.9335626122663009, 0.3352333282528974, 0.6285624904741827, 0.17585201161764852, 0.7385784487941237, 0.0351704023235297, 0.20139144650625238, 0.7048700627718832, 0.8794885446883617, 0.9150506106298045, 0.07500154653580743, 0.8250170118938817, 0.8240249673252029, 0.10300312091565036, 0.9497500358336183, 0.0382646011248171, 0.42091061237298816, 0.11479380337445132, 0.19132300562408552, 0.11479380337445132, 0.0382646011248171, 0.0765292022496342, 0.634567182966397, 0.04532622735474265, 0.13597868206422795, 0.0906524547094853, 0.04532622735474265, 0.1084276565705051, 0.5963521111377781, 0.2168553131410102, 0.1255175199924219, 0.7531051199545312, 0.11426998536655567, 0.7998898975658897, 0.16798991927829188, 0.16798991927829188, 0.05599663975943062, 0.5599663975943062, 0.9159729750495761, 0.8800345098049286, 0.8760778349121495, 0.35022450684454615, 0.5691148236223875, 0.04377806335556827, 0.8963328090300299, 0.8861254117212657, 0.9500756662096114, 0.03800302664838445, 0.148129285873037, 0.740646429365185, 0.9337742965905164, 0.05187634981058424, 0.09564229175458219, 0.09564229175458219, 0.19128458350916439, 0.047821145877291096, 0.43039031289561985, 0.047821145877291096, 0.852078769030373, 0.25878241380662553, 0.4436269950970723, 0.07393783251617872, 0.11090674877426808, 0.07393783251617872, 0.8185731104216523, 0.04815135943656778, 0.09630271887313556, 0.04815135943656778, 0.9402262508993736, 0.8562300498733437, 0.8635705196360056, 0.8343506934308365, 0.12900989415432215, 0.12900989415432215, 0.36122770363210205, 0.03870296824629665, 0.012900989415432215, 0.05160395766172886, 0.10320791532345772, 0.09030692590802551, 0.09030692590802551, 0.8941084336781217, 0.1348295252888264, 0.8089771517329585, 0.12383614434254431, 0.05779020069318735, 0.3384854612029545, 0.00825574295616962, 0.05779020069318735, 0.09081317251786583, 0.1155804013863747, 0.0412787147808481, 0.15685911616722278, 0.8776121417976572, 0.0389746399333736, 0.1558985597334944, 0.5456449590672304, 0.0194873199666868, 0.0584619599000604, 0.17538587970018119, 0.8272377695059551, 0.735207648322977, 0.05465038938763747, 0.05465038938763747, 0.6011542832640122, 0.21860155755054989, 0.09868689364705195, 0.6908082555293636, 0.8265575163750843, 0.5650241541724415, 0.29479521087257815, 0.024566267572714847, 0.09826507029085939, 0.024566267572714847, 0.8263257069127071, 0.13772095115211785, 0.03772266355748796, 0.5281172898048314, 0.11316799067246389, 0.22633598134492777, 0.07544532711497592, 0.06636251011818549, 0.8627126315364114, 0.865104028349538, 0.8872094872066948, 0.925971295464134, 0.8870047035925138, 0.15346136891817547, 0.03836534222954387, 0.3452880800658948, 0.03836534222954387, 0.4220187645249825, 0.8511880345399278, 0.8631352430064064, 0.0959039158896007, 0.07114257931730482, 0.782568372490353, 0.07114257931730482, 0.1232465010378083, 0.7394790062268498, 0.8809971974472435, 0.907649889638712, 0.8022792652038261, 0.029714046859400964, 0.0891421405782029, 0.029714046859400964, 0.05942809371880193, 0.061118399464458836, 0.09167759919668825, 0.8250983927701943, 0.2270376047273217, 0.12225101793009631, 0.052393293398612706, 0.174644311328709, 0.0698577245314836, 0.052393293398612706, 0.2968953292588053, 0.19187776481239144, 0.09593888240619572, 0.04796944120309786, 0.43172497082788075, 0.04796944120309786, 0.04796944120309786, 0.14390832360929356, 0.7424857165285912, 0.09540616252164752, 0.04770308126082376, 0.04770308126082376, 0.8586554626948276, 0.8552028958178948, 0.858313944485696, 0.031789405351322075, 0.06357881070264415, 0.7651668377171338, 0.7630194483095972, 0.19690824472505736, 0.02461353059063217, 0.8606599276948139, 0.0922135636815872, 0.7028626872426852, 0.251022388300959, 0.8976148405378328, 0.8964348448235812, 0.8070340113057658, 0.20175850282644145, 0.2095037028239733, 0.7856388855898999, 0.07814414003491899, 0.07814414003491899, 0.7814414003491899, 0.8540432165006192, 0.8006214642823908, 0.03367836478526965, 0.10103509435580896, 0.10103509435580896, 0.03367836478526965, 0.7409240252759324, 0.660381514481811, 0.08254768931022638, 0.08254768931022638, 0.007741007076058622, 0.06192805660846898, 0.007741007076058622, 0.6734676156171002, 0.023223021228175867, 0.03096402830423449, 0.19352517690146556, 0.04070066444656606, 0.8547139533778872, 0.12210199333969818, 0.9030747986581871, 0.09506050512191444, 0.2682801811943222, 0.03353502264929027, 0.03353502264929027, 0.06707004529858054, 0.10060506794787082, 0.4694903170900638, 0.9307669773477706, 0.9199576441584392, 0.8980304298051045, 0.7581530421148852, 0.06317942017624043, 0.12635884035248085, 0.06317942017624043, 0.8860476839725284, 0.8951652531274945, 0.15241373604962527, 0.2286206040744379, 0.3810343401240632, 0.07620686802481264, 0.1905171700620316, 0.08308094523953091, 0.7477285071557782, 0.08308094523953091, 0.08308094523953091, 0.9400692668600777, 0.8839482124354285, 0.8187507864040401, 0.9116541833493157, 0.8892103531829776, 0.8948700169344469, 0.08702430869744149, 0.13053646304616223, 0.043512154348720744, 0.34809723478976595, 0.043512154348720744, 0.043512154348720744, 0.043512154348720744, 0.08702430869744149, 0.17404861739488298, 0.08979508418199358, 0.04489754209099679, 0.7183606734559487, 0.08979508418199358, 0.08979508418199358, 0.536953640156054, 0.031585508244473766, 0.4106116071781589, 0.9329188565000576, 0.8539010069036664, 0.4097293027305883, 0.5633777912545589, 0.1099832092534679, 0.8798656740277432, 0.9288607100422334, 0.9533892846796047, 0.8735136364043172, 0.06239383117173695, 0.0362484450720051, 0.0362484450720051, 0.27186333804003826, 0.1087453352160153, 0.12686955775201786, 0.01812422253600255, 0.1449937802880204, 0.0724968901440102, 0.09062111268001274, 0.1449937802880204, 0.42978107452491526, 0.19836049593457628, 0.06612016531152543, 0.13224033062305085, 0.16530041327881356, 0.8620565702891553, 0.14745832711086315, 0.07372916355543158, 0.6635624719988842, 0.03686458177771579, 0.03920219077997187, 0.8232460063794091, 0.1176065723399156, 0.08826185240087515, 0.11768246986783354, 0.1765237048017503, 0.029420617466958385, 0.029420617466958385, 0.08826185240087515, 0.41188864453741736, 0.05884123493391677, 0.8509706996010582, 0.8404620448955298, 0.10505775561194122, 0.2513668288893814, 0.04189447148156357, 0.5027336577787628, 0.16757788592625428, 0.769665008371078, 0.0769665008371078, 0.0769665008371078, 0.8989538619520931, 0.04794106202366789, 0.3355874341656752, 0.04794106202366789, 0.431469558213011, 0.14382318607100367, 0.8783511872227722, 0.8684186344461401, 0.8370736242537786, 0.2898673072287816, 0.6377080759033196, 0.8576352732535805, 0.05360220457834878, 0.10720440915669756, 0.10301490127904361, 0.8241192102323489, 0.8639582701305317, 0.004274745344060968, 0.1196928696337071, 0.30778166477238966, 0.10259388825746323, 0.09404439756934128, 0.05557168947279258, 0.06412118016091452, 0.04274745344060968, 0.10259388825746323, 0.10259388825746323, 0.027367371610449713, 0.054734743220899426, 0.009122457203483238, 0.8301436055169746, 0.08210211483134915, 0.009122457203483238, 0.9095424779287459, 0.05684640487054662, 0.8615789312198429, 0.14359648853664048, 0.8522578998347952, 0.10255406825436747, 0.14357569555611446, 0.041021627301746987, 0.7178784777805722, 0.08168260392094133, 0.8985086431303547, 0.12250048516627234, 0.2143758490409766, 0.41343913743616917, 0.030625121291568084, 0.07656280322892021, 0.030625121291568084, 0.030625121291568084, 0.09187536387470426, 0.8525798623671081, 0.8282700586589337, 0.09789712497363125, 0.8810741247626812, 0.02231207800966349, 0.09243575175432019, 0.2581826169689633, 0.19762126237130523, 0.02868695744099592, 0.054186475166325625, 0.054186475166325625, 0.03187439715666213, 0.10199807090131882, 0.15937198578331066, 0.05687798927899569, 0.19907296247648493, 0.05687798927899569, 0.028438994639497846, 0.6256578820689526, 0.9396588873973324, 0.5779635685520271, 0.12843634856711716, 0.19265452285067572, 0.06421817428355858, 0.925363953305691, 0.9578142519338212, 0.6915990991873132, 0.04610660661248755, 0.04610660661248755, 0.1844264264499502, 0.4527230133461737, 0.4527230133461737, 0.056590376668271714, 0.816780042649606, 0.9552127111124202, 0.865725738924516, 0.03590080506022186, 0.07180161012044373, 0.07180161012044373, 0.14360322024088745, 0.6821152961442154, 0.8173415379683941, 0.8989667194663079, 0.08852586594869476, 0.7967327935382528, 0.9176274470054192, 0.13284059956649172, 0.7970435973989503, 0.8482206687548988, 0.7210940704697777, 0.24529314114707887, 0.6949972332500568, 0.010220547547794953, 0.010220547547794953, 0.03066164264338486, 0.746167380640714, 0.2238502141922142, 0.8518090548402268, 0.9562056946909486, 0.8861338120185579, 0.9790866568418546, 0.218828249917304, 0.27353531239663004, 0.4923635623139341, 0.7604250357543435, 0.10826773186632829, 0.757874123064298, 0.038708750562776555, 0.038708750562776555, 0.11612625168832966, 0.15483500225110622, 0.6193400090044249, 0.038708750562776555, 0.5161634615426359, 0.051616346154263595, 0.10323269230852719, 0.051616346154263595, 0.051616346154263595, 0.051616346154263595, 0.15484903846279077, 0.051616346154263595, 0.18005160653835764, 0.8102322294226093, 0.898488231578225, 0.3173295453299034, 0.10577651510996779, 0.528882575549839, 0.21932577004906045, 0.11809849156487871, 0.21932577004906045, 0.1687121308069696, 0.03374242616139392, 0.06748485232278784, 0.10122727848418175, 0.05061363924209088, 0.01687121308069696, 0.8507763810439355, 0.8467510901235078, 0.19483616163607848, 0.04870904040901962, 0.02922542424541177, 0.009741808081803924, 0.009741808081803924, 0.18509435355427453, 0.35070509094494123, 0.06819265657262746, 0.09741808081803924, 0.1361348483571724, 0.0680674241785862, 0.5899176762144137, 0.15882398975003448, 0.02268914139286207, 0.7700168100593263, 0.07000152818721149, 0.14000305637442298, 0.14734962527683404, 0.6876315846252256, 0.04911654175894468, 0.04911654175894468, 0.10983867646771533, 0.6956449509621971, 0.1281451225456679, 0.018306446077952555, 0.03661289215590511, 0.9556130864125403, 0.34264951020118983, 0.10820510848458625, 0.09017092373715521, 0.1262392932320173, 0.07213673898972417, 0.09017092373715521, 0.09017092373715521, 0.036068369494862085, 0.07213673898972417, 0.17661340050754198, 0.7947603022839389, 0.8788592594253731, 0.9065952041585877, 0.0477155370609783, 0.7602370075219895, 0.058479769809383804, 0.11695953961876761, 0.7978014568301727, 0.11397163669002466, 0.8475290734096728, 0.14125484556827878, 0.9231254820820576, 0.9563774912123638, 0.8262851257165977, 0.8981350494930335, 0.43045807313712425, 0.07826510420674987, 0.039132552103374935, 0.07826510420674987, 0.07826510420674987, 0.07826510420674987, 0.19566276051687465, 0.9306633008885463, 0.05474490005226743, 0.8032878582534406, 0.1606575716506881, 0.7335531025085009, 0.066686645682591, 0.066686645682591, 0.066686645682591, 0.09782479041884612, 0.06521652694589741, 0.08152065868237177, 0.057064461077660236, 0.04076032934118588, 0.138585119760032, 0.057064461077660236, 0.057064461077660236, 0.4076032934118588, 0.8761449264891762, 0.1460241544148627, 0.07776059263525335, 0.1555211852705067, 0.6998453337172802, 0.9021171969225479, 0.9922523414725529, 0.890527839379069, 0.8079807212064153, 0.7724854406090005, 0.050654782990754134, 0.17729174046763946, 0.907485573682579, 0.7579875117053628, 0.9196854318417464, 0.8009871643646774, 0.8342079990563637, 0.9046374223915774, 0.8209660921731995, 0.8348736646458613, 0.09276374051620682, 0.09276374051620682, 0.9056276622956203, 0.6675499383112627, 0.11125832305187713, 0.11125832305187713, 0.11125832305187713, 0.1546960682833423, 0.6961323072750403, 0.1546960682833423, 0.13792629407374685, 0.13792629407374685, 0.06896314703687342, 0.6206683233318608, 0.8433080208940211, 0.07228354464805896, 0.048189029765372635, 0.024094514882686317, 0.1135431636486526, 0.6938748889639881, 0.15139088486487012, 0.03784772121621753, 0.9140688192290269, 0.07169167209639427, 0.8460797708637192, 0.038311733592485644, 0.07662346718497129, 0.8428581390346842, 0.6838744028151833, 0.09118325370869111, 0.18236650741738222, 0.8582976546326124, 0.8764835382279836, 0.8111164072965082, 0.8556174306987653, 0.8807378263084267, 0.6955535496310493, 0.9444638510554312, 0.8068613401939063, 0.6170031703446981, 0.036294304137923415, 0.018147152068961708, 0.018147152068961708, 0.05444145620688512, 0.19961867275857878, 0.05444145620688512, 0.7614137951655066, 0.04513410378764202, 0.04513410378764202, 0.04513410378764202, 0.04513410378764202, 0.6770115568146303, 0.1805364151505681, 0.15867015336990137, 0.7933507668495069, 0.8610173943633377, 0.923553821242843, 0.9901801175323899, 0.9293074972674811, 0.0619538331511654, 0.846198903618857, 0.14103315060314284, 0.8027350761485958, 0.10034188451857448, 0.9001766721128349, 0.9269086519093058, 0.6848198540472411, 0.048915703860517225, 0.048915703860517225, 0.048915703860517225, 0.048915703860517225, 0.048915703860517225, 0.8267916980243424, 0.8114180855331716, 0.7911686682960312, 0.5313551355427201, 0.16604847985710003, 0.033209695971420004, 0.06641939194284001, 0.13283878388568002, 0.06641939194284001, 0.9326261489954392, 0.08499939259474225, 0.02833313086491408, 0.679995140757938, 0.1416656543245704, 0.02833313086491408, 0.9847894557233368, 0.9145844770468282, 0.06097229846978855, 0.8490479121314083, 0.33859808629255117, 0.05643301438209187, 0.05643301438209187, 0.5078971294388268, 0.7151719523946093, 0.20433484354131695, 0.9286990615698193, 0.8802644100882414, 0.8507470103061975, 0.7950867207408934, 0.08834296897121038, 0.7929880752585906, 0.09912350940732383, 0.06700374767249401, 0.915717884857418, 0.8413615086245997, 0.07648740987496361, 0.8995880318057937, 0.08995880318057937, 0.7532993641845639, 0.20473638872094035, 0.02924805553156291, 0.11699222212625164, 0.49721694403656946, 0.17548833318937745, 0.05392855335491746, 0.3505355968069635, 0.02696427667745873, 0.13482138338729366, 0.10785710670983492, 0.1887499367422111, 0.10785710670983492, 0.05392855335491746, 0.08678786518616519, 0.9112725844547345, 0.07518248357858401, 0.15036496715716802, 0.200486622876224, 0.025060827859528, 0.025060827859528, 0.07518248357858401, 0.400973245752448, 0.050121655719056, 0.9298879047107343, 0.8590416689233527, 0.0746992755585524, 0.0746992755585524, 0.9618431099992394, 0.08011355916100904, 0.5607949141270633, 0.24034067748302712, 0.7856939798661979, 0.8614700772875051, 0.8988598203995606, 0.8516643259141752, 0.08516643259141751, 0.2625134274875866, 0.05250268549751732, 0.6300322259702078, 0.05250268549751732, 0.10892518737880895, 0.6535511242728537, 0.16338778106821342, 0.8671259583649367, 0.12387513690927666, 0.9334184421925105, 0.21290001763109956, 0.7096667254369985, 0.8004073610505125, 0.20010184026262812, 0.9346359968867706, 0.1836656185134604, 0.7346624740538416, 0.21382914576253556, 0.07127638192084519, 0.2375879397361506, 0.07127638192084519, 0.02375879397361506, 0.14255276384169038, 0.1187939698680753, 0.02375879397361506, 0.07127638192084519, 0.11172945975877582, 0.11172945975877582, 0.16759418963816375, 0.5586472987938791, 0.9184724721790927], \"Term\": [\"absolut\", \"absolut\", \"abstraction\", \"abstraktion\", \"abstraktion\", \"alten\", \"alten\", \"alten\", \"alten\", \"alten\", \"amazing\", \"ambiente\", \"amerikaner\", \"amerikanische\", \"amerikanischen\", \"amerikas\", \"amsterdam\", \"andrang\", \"andrang\", \"angela\", \"angela\", \"angenehm\", \"angenehme\", \"anhand\", \"anhand\", \"app\", \"app\", \"app\", \"app\", \"app\", \"app\", \"app\", \"architecture\", \"archive\", \"art\", \"art\", \"art\", \"art\", \"art\", \"art\", \"art\", \"art\", \"arte\", \"arte\", \"artefaktberlin\", \"atelier\", \"atelier\", \"audio\", \"audio\", \"audioguide\", \"audioguide\", \"aufgrund\", \"ausblick\", \"ausblick\", \"ausstellung\", \"ausstellung\", \"ausstellung\", \"ausstellung\", \"ausstellung\", \"ausstellung\", \"ausstellung\", \"ausstellung\", \"ausstellung\", \"ausstellung\", \"ausstellungen\", \"ausstellungen\", \"ausstellungen\", \"ausstellungen\", \"ausstellungen\", \"ausstellungen\", \"ausstellungen\", \"ausstellungen\", \"barberinicorsin\", \"barberinidigital\", \"barberinisymposium\", \"barock\", \"barock\", \"barock\", \"barockbarberini\", \"barockbarberini\", \"bcastid\", \"beautiful\", \"beckmann\", \"beckmann\", \"beckmann\", \"bedienen\", \"beeindruckend\", \"beeindruckende\", \"begeistert\", \"begeistert\", \"begeistert\", \"begeistert\", \"begeistert\", \"begeistert\", \"begeistert\", \"begleitung\", \"begleitung\", \"behind\", \"benutzen\", \"bereicherung\", \"berlin\", \"berlin\", \"berlin\", \"berlin\", \"berlin\", \"berlin\", \"berlin\", \"berlin\", \"berlin\", \"berliner\", \"berliner\", \"berliner\", \"berliner\", \"berliner\", \"berlinerzeitung\", \"best\", \"best\", \"besuch\", \"besuch\", \"besuch\", \"besuch\", \"besuch\", \"besuch\", \"besuch\", \"besuch\", \"besuchen\", \"besuchen\", \"besuchen\", \"besuchen\", \"besuchen\", \"besuchen\", \"bilder\", \"bilder\", \"bilder\", \"bilder\", \"bilder\", \"bilder\", \"bilder\", \"bilder\", \"bilder\", \"bilder\", \"billionaire\", \"bislang\", \"bit\", \"bit\", \"bit\", \"bit\", \"bit\", \"bit\", \"bit\", \"bit\", \"brandenburg\", \"brandenburg\", \"brandenburg\", \"brandenburg\", \"brandenburg\", \"brandenburg\", \"bremen\", \"briefe\", \"brucke\", \"building\", \"bundesprasident\", \"cafe\", \"cafe\", \"cafe\", \"cafe\", \"cafe\", \"caillebotte\", \"caravaggio\", \"caravaggios\", \"claude\", \"claude\", \"claudemonet\", \"claudemonet\", \"clemens\", \"closedbutopen\", \"come\", \"congo\", \"corsini\", \"cross\", \"cross\", \"crossinpotsdam\", \"culture\", \"daniel\", \"dank\", \"dank\", \"dank\", \"dank\", \"dank\", \"danke\", \"danke\", \"danke\", \"danke\", \"danke\", \"danke\", \"date\", \"date\", \"date\", \"date\", \"ddr\", \"ddr\", \"ddr\", \"ddr\", \"ddr\", \"ddr\", \"ddr\", \"denverartmuseum\", \"dienstags\", \"dietmar\", \"documentid\", \"dunklen\", \"durchdacht\", \"dust\", \"econ\", \"edmond\", \"ehemaligen\", \"einfach\", \"einfach\", \"einfach\", \"einlass\", \"empfehlen\", \"empfehlen\", \"empfehlen\", \"empfehlung\", \"empfehlung\", \"emptybarberini\", \"emptybarberini\", \"emptymuseum\", \"emptymuseum\", \"emptymuseum\", \"entwicklung\", \"entwicklung\", \"erfolg\", \"erganzung\", \"eroffnet\", \"eroffnet\", \"eroffnet\", \"eroffnet\", \"eroffnung\", \"eroffnung\", \"eroffnung\", \"eroffnung\", \"eroffnung\", \"eroffnung\", \"eroffnung\", \"erreichen\", \"event\", \"event\", \"event\", \"event\", \"excellent\", \"exhibition\", \"exhibition\", \"exhibition\", \"exhibition\", \"exhibition\", \"exhibition\", \"exhibitions\", \"exhibitions\", \"experience\", \"experience\", \"exposition\", \"exposition\", \"exposition\", \"farbe\", \"farbe\", \"farbe\", \"farbe\", \"faz\", \"faz\", \"februar\", \"februar\", \"februar\", \"fernsehen\", \"fernsehen\", \"feuilleton\", \"findet\", \"findet\", \"findet\", \"findet\", \"findet\", \"first\", \"first\", \"flattenthecurve\", \"florian\", \"floskelwolke\", \"foto\", \"foto\", \"foto\", \"foto\", \"free\", \"freue\", \"freuen\", \"freuen\", \"freuen\", \"freuen\", \"freuen\", \"freuen\", \"freut\", \"friedrich\", \"fuhren\", \"fuhrung\", \"fuhrung\", \"fuhrung\", \"fuhrung\", \"fuhrung\", \"funktion\", \"funktioniert\", \"funktioniert\", \"gallerie\", \"gallery\", \"gallery\", \"gallery\", \"ganz\", \"ganz\", \"ganz\", \"ganz\", \"ganz\", \"ganz\", \"gauck\", \"gebaude\", \"gebaude\", \"gebaude\", \"gebaude\", \"gefallen\", \"gefallen\", \"gefunden\", \"geht\", \"geht\", \"geht\", \"geht\", \"geht\", \"geht\", \"gelegen\", \"gemacht\", \"gemacht\", \"gemacht\", \"gemachte\", \"genial\", \"gentileschi\", \"genutzt\", \"geoffnet\", \"geoffnet\", \"geoffnet\", \"geoffnet\", \"gerhard\", \"gerhard\", \"gerhard\", \"gerhardrichter\", \"gerhardrichter\", \"german\", \"germany\", \"germany\", \"germany\", \"geschlossen\", \"geschlossen\", \"gesehen\", \"gesehen\", \"gesehen\", \"gesehen\", \"gesehen\", \"gespannt\", \"gespannt\", \"gesprachskonzert\", \"gestaltet\", \"get\", \"gibt\", \"gibt\", \"gibt\", \"gibt\", \"gibt\", \"gibt\", \"gibt\", \"gibt\", \"gibt\", \"given\", \"giverny\", \"giverny\", \"gogh\", \"goghs\", \"goldberg\", \"goo\", \"good\", \"good\", \"gotter\", \"great\", \"great\", \"great\", \"great\", \"guide\", \"guide\", \"guide\", \"gunther\", \"gut\", \"gut\", \"gut\", \"gute\", \"gute\", \"gute\", \"gute\", \"gute\", \"gute\", \"guter\", \"guter\", \"gutes\", \"gutes\", \"harald\", \"hasso\", \"hasso\", \"hasso\", \"hassoplattner\", \"haus\", \"haus\", \"haus\", \"haus\", \"hause\", \"hause\", \"henri\", \"herrn\", \"hervorragend\", \"hervorragende\", \"herzlichen\", \"heute\", \"heute\", \"heute\", \"heute\", \"heute\", \"heute\", \"heute\", \"heute\", \"heute\", \"hidden\", \"highlight\", \"highlight\", \"hilfreich\", \"hingehen\", \"hingehen\", \"hinterdermaske\", \"hinterdermaske\", \"hinterdermaske\", \"hinweis\", \"hinweis\", \"hoffentlich\", \"home\", \"hopper\", \"hopperrothko\", \"hopperrothko\", \"hopperrothko\", \"idee\", \"idee\", \"idee\", \"igshid\", \"igshid\", \"igshid\", \"illies\", \"immer\", \"immer\", \"immer\", \"immer\", \"immer\", \"immer\", \"immer\", \"impressionismus\", \"impressionismus\", \"impressionismus\", \"impressionismus\", \"impressionismus\", \"impressionismus\", \"impressionismus\", \"impressionismus\", \"impressive\", \"inforadio\", \"informationen\", \"informationen\", \"informativ\", \"informativ\", \"ingeborg\", \"innen\", \"innen\", \"instagram\", \"instagram\", \"instagram\", \"instagram\", \"instagram\", \"instawalk\", \"interessant\", \"interessant\", \"interessante\", \"interessante\", \"interessante\", \"interessanten\", \"interessanten\", \"interesting\", \"iphone\", \"italien\", \"italien\", \"italienischen\", \"italienischen\", \"jacqueline\", \"jahr\", \"jahr\", \"jahr\", \"jahr\", \"jahr\", \"jahr\", \"jahr\", \"jahren\", \"jahren\", \"jahren\", \"jahren\", \"jahren\", \"jahreskarte\", \"jahreskarte\", \"jahreskarte\", \"jahrhundertschritt\", \"jahrhundertschritt\", \"jan\", \"jan\", \"januar\", \"januar\", \"januar\", \"januar\", \"jauch\", \"juli\", \"just\", \"kinder\", \"kinder\", \"kinder\", \"kinderkunstaktion\", \"klangfarben\", \"klasse\", \"klasse\", \"klassiker\", \"klassiker\", \"klaus\", \"klaus\", \"kommt\", \"kommt\", \"kommt\", \"kommt\", \"kommt\", \"kommt\", \"komplett\", \"konnen\", \"konnen\", \"konnen\", \"konnen\", \"konnen\", \"konnte\", \"konnte\", \"konnte\", \"konnte\", \"kopfhorer\", \"kreativ\", \"krollermuller\", \"kulissen\", \"kultur\", \"kultur\", \"kultur\", \"kultur\", \"kultur\", \"kultur\", \"kultur\", \"kultur\", \"kultur\", \"kulturbb\", \"kulturnachrichten\", \"kulturnachrichten\", \"kunst\", \"kunst\", \"kunst\", \"kunst\", \"kunst\", \"kunst\", \"kunst\", \"kunst\", \"kunst\", \"kunstlebenberlin\", \"kunstler\", \"kunstler\", \"kunstler\", \"kunstler\", \"kunstler\", \"kunstler\", \"kunstliebhaber\", \"kunstpadagogen\", \"kurator\", \"kurator\", \"kurator\", \"kurator\", \"kuratorin\", \"kuratorin\", \"leicht\", \"leider\", \"leider\", \"leider\", \"leider\", \"leider\", \"leinwand\", \"leinwand\", \"licht\", \"licht\", \"licht\", \"licht\", \"licht\", \"liebe\", \"liebe\", \"lieben\", \"lifes\", \"like\", \"lob\", \"lohnt\", \"lohnt\", \"lohnt\", \"lohnt\", \"lohnt\", \"look\", \"looking\", \"looking\", \"los\", \"los\", \"los\", \"love\", \"love\", \"loved\", \"lupe\", \"macht\", \"macht\", \"macht\", \"macht\", \"macht\", \"maitagung\", \"maitagung\", \"maitagung\", \"mal\", \"mal\", \"mal\", \"mal\", \"mal\", \"mal\", \"mal\", \"malerei\", \"malerei\", \"malerei\", \"malerei\", \"malerei\", \"malerei\", \"malerei\", \"marie\", \"markt\", \"markt\", \"markt\", \"markt\", \"mask\", \"maske\", \"maske\", \"maske\", \"matthes\", \"max\", \"max\", \"max\", \"maxbeckmann\", \"maxbeckmann\", \"maz\", \"maz\", \"mazen\", \"mbomo\", \"meisterwerke\", \"meisterwerke\", \"merkel\", \"merkel\", \"michael\", \"michael\", \"michael\", \"micromovie\", \"might\", \"moderne\", \"moderne\", \"moderne\", \"moderne\", \"moderne\", \"monat\", \"monat\", \"monat\", \"monet\", \"monet\", \"monet\", \"monet\", \"monet\", \"monet\", \"monet\", \"monetbarberini\", \"monetbarberini\", \"monetbarberini\", \"monets\", \"monets\", \"morgen\", \"morgen\", \"morgen\", \"morgen\", \"morgen\", \"morgen\", \"muller\", \"museumfromhome\", \"museumpic\", \"museumsbesuch\", \"museumsbesuch\", \"museumsbesuch\", \"museumsbesuch\", \"nachbereitung\", \"nachmittag\", \"nachrichten\", \"nachrichten\", \"nachrichten\", \"nachrichten\", \"nachrichten\", \"nachste\", \"nachste\", \"nachste\", \"nachste\", \"narziss\", \"nationalgalerien\", \"nature\", \"nazionali\", \"neoimpressionist\", \"net\", \"neue\", \"neue\", \"neue\", \"neue\", \"neue\", \"neue\", \"neue\", \"neue\", \"neue\", \"neues\", \"neues\", \"neues\", \"neues\", \"neues\", \"new\", \"new\", \"new\", \"news\", \"next\", \"nice\", \"nice\", \"nimmt\", \"nimmt\", \"nolde\", \"olymp\", \"one\", \"one\", \"online\", \"online\", \"online\", \"online\", \"online\", \"online\", \"online\", \"online\", \"online\", \"online\", \"opening\", \"opening\", \"opening\", \"opening\", \"opening\", \"opens\", \"ort\", \"ort\", \"ort\", \"ort\", \"orte\", \"orte\", \"orte\", \"ortrud\", \"ortrud\", \"ortrud\", \"ortrud\", \"ortrud\", \"ortrud\", \"ortrud\", \"ortrud\", \"otterlo\", \"pablo\", \"pablo\", \"palais\", \"palais\", \"palais\", \"palais\", \"palast\", \"palast\", \"palast\", \"palazzo\", \"paris\", \"paris\", \"paris\", \"paris\", \"paris\", \"pathways\", \"pdf\", \"perfect\", \"perfekt\", \"perfekt\", \"personal\", \"personal\", \"personal\", \"philipp\", \"philipp\", \"phillips\", \"pic\", \"pic\", \"pic\", \"pic\", \"pic\", \"pic\", \"pic\", \"pic\", \"pic\", \"pic\", \"picasso\", \"picasso\", \"picasso\", \"picasso\", \"picasso\", \"picasso\", \"picassobarberini\", \"picassobarberini\", \"picassos\", \"picassos\", \"place\", \"plattner\", \"plattner\", \"plattner\", \"plattner\", \"platz\", \"platz\", \"pnn\", \"pnn\", \"pnn\", \"pnn\", \"pnn\", \"pnn\", \"pnn\", \"pnn\", \"popularity\", \"portrat\", \"postdam\", \"postdam\", \"potsdam\", \"potsdam\", \"potsdam\", \"potsdam\", \"potsdam\", \"potsdam\", \"potsdam\", \"potsdam\", \"potsdam\", \"potsdam\", \"potsdampic\", \"potsdampic\", \"potsdampic\", \"potsdampic\", \"potsdampic\", \"praktisch\", \"prasentation\", \"prasentation\", \"prasentation\", \"prasentation\", \"prima\", \"product\", \"programm\", \"programm\", \"programm\", \"programm\", \"prolog\", \"prolog\", \"prolog\", \"punkt\", \"radioeins\", \"raubkunst\", \"rbb\", \"rbb\", \"rbb\", \"rbb\", \"rbb\", \"rbbinforadio\", \"really\", \"reise\", \"reise\", \"rembrandt\", \"retrospektive\", \"retrospektive\", \"reviving\", \"richard\", \"richter\", \"richter\", \"richter\", \"richter\", \"richter\", \"richters\", \"richters\", \"road\", \"rom\", \"rome\", \"rothko\", \"rundgang\", \"rundgang\", \"rundgang\", \"ruthe\", \"sache\", \"sache\", \"sammlung\", \"sammlung\", \"sammlung\", \"sammlung\", \"sammlung\", \"sammlung\", \"samstag\", \"samstag\", \"samstag\", \"samstag\", \"samstag\", \"samstag\", \"samstag\", \"samstag\", \"sanssouci\", \"sanssouci\", \"sap\", \"schade\", \"schade\", \"schade\", \"schau\", \"schau\", \"schau\", \"schau\", \"schau\", \"schau\", \"schau\", \"schau\", \"schau\", \"schema\", \"schlosser\", \"schon\", \"schon\", \"schon\", \"schon\", \"schon\", \"schon\", \"schon\", \"schon\", \"schon\", \"schone\", \"schone\", \"schone\", \"schone\", \"schone\", \"schonen\", \"schonen\", \"schonen\", \"schoner\", \"schoner\", \"schoner\", \"schoner\", \"schones\", \"schones\", \"schones\", \"schones\", \"schones\", \"see\", \"sehen\", \"sehen\", \"sehen\", \"sehen\", \"sehen\", \"sehen\", \"sehen\", \"sehen\", \"sehen\", \"sehenswert\", \"sehenswert\", \"sendungen\", \"shop\", \"shop\", \"show\", \"show\", \"show\", \"sieht\", \"sieht\", \"sisley\", \"sisley\", \"smart\", \"social\", \"software\", \"sonderausstellungen\", \"sonntag\", \"sonntag\", \"sonntag\", \"sonntag\", \"sonntag\", \"sonntag\", \"sonntag\", \"spate\", \"spate\", \"spatwerk\", \"spatwerk\", \"statt\", \"statt\", \"statt\", \"statt\", \"status\", \"status\", \"status\", \"status\", \"status\", \"status\", \"status\", \"status\", \"status\", \"stifter\", \"stifter\", \"still\", \"still\", \"still\", \"stilleben\", \"stillleben\", \"sueddeutsche\", \"sunday\", \"super\", \"super\", \"super\", \"swarmapp\", \"tagung\", \"tales\", \"tech\", \"techniken\", \"tempted\", \"termin\", \"texte\", \"texte\", \"texte\", \"thank\", \"thema\", \"thema\", \"thema\", \"thema\", \"ticket\", \"ticket\", \"ticket\", \"today\", \"today\", \"today\", \"today\", \"toll\", \"toll\", \"toll\", \"toll\", \"tolle\", \"tolle\", \"tolle\", \"tolle\", \"tolles\", \"tolles\", \"ton\", \"top\", \"top\", \"top\", \"tour\", \"tour\", \"tour\", \"tourdigital\", \"town\", \"tragen\", \"travel\", \"trump\", \"truth\", \"ubersichtlich\", \"ubrigens\", \"uhr\", \"uhr\", \"uhr\", \"uhr\", \"uhr\", \"uhr\", \"uhr\", \"ulrich\", \"unbedingt\", \"unbedingt\", \"unbedingt\", \"unbedingt\", \"unbedingt\", \"unbedingt\", \"unglaublich\", \"unglaublich\", \"university\", \"valerie\", \"van\", \"vangogh\", \"vangogh\", \"vangoghbarberini\", \"vangoghbarberini\", \"vangoghbarberinipic\", \"vangoghbarberinipic\", \"vangoghmuseum\", \"vase\", \"veranstaltungen\", \"veranstaltungen\", \"veranstaltungen\", \"veranstaltungen\", \"veranstaltungen\", \"veranstaltungen\", \"verdient\", \"vergnugen\", \"verstandlich\", \"via\", \"via\", \"via\", \"via\", \"via\", \"via\", \"videos\", \"vielen\", \"vielen\", \"vielen\", \"vielen\", \"vielen\", \"vincent\", \"visit\", \"visit\", \"visiting\", \"voll\", \"voll\", \"voll\", \"voll\", \"vorbereitung\", \"vorbereitung\", \"vorbild\", \"vorbildlich\", \"wann\", \"wechselnde\", \"wechselnde\", \"wechselnden\", \"wechselnden\", \"wege\", \"wege\", \"well\", \"well\", \"welttheater\", \"welttheater\", \"went\", \"werk\", \"werk\", \"werk\", \"werk\", \"werk\", \"werke\", \"werke\", \"werke\", \"werke\", \"werke\", \"werke\", \"werke\", \"werke\", \"wert\", \"wert\", \"westheider\", \"westheider\", \"westheider\", \"westheider\", \"westheider\", \"westheider\", \"westheider\", \"westheider\", \"willkommen\", \"wirklich\", \"wirklich\", \"wirklich\", \"wonderful\", \"work\", \"work\", \"work\", \"workshop\", \"workshops\", \"world\", \"wow\", \"wow\", \"wunderbar\", \"wunderbar\", \"wunderbar\", \"wunderbar\", \"wunderbare\", \"wunderbare\", \"wunderbare\", \"wunderschone\", \"wunderschone\", \"wunschen\", \"wwecker\", \"wwecker\", \"youtube\", \"youtube\", \"zamani\", \"zdf\", \"zdf\", \"zeigt\", \"zeigt\", \"zeigt\", \"zeigt\", \"zeigt\", \"zeigt\", \"zeigt\", \"zeigt\", \"zeigt\", \"zeitung\", \"zeitung\", \"zeitung\", \"zeitung\", \"zuhause\"]}, \"R\": 30, \"lambda.step\": 0.01, \"plot.opts\": {\"xlab\": \"PC1\", \"ylab\": \"PC2\"}, \"topic.order\": [7, 4, 5, 3, 10, 2, 8, 6, 9, 1]};\n",
       "\n",
       "function LDAvis_load_lib(url, callback){\n",
       "  var s = document.createElement('script');\n",
       "  s.src = url;\n",
       "  s.async = true;\n",
       "  s.onreadystatechange = s.onload = callback;\n",
       "  s.onerror = function(){console.warn(\"failed to load library \" + url);};\n",
       "  document.getElementsByTagName(\"head\")[0].appendChild(s);\n",
       "}\n",
       "\n",
       "if(typeof(LDAvis) !== \"undefined\"){\n",
       "   // already loaded: just create the visualization\n",
       "   !function(LDAvis){\n",
       "       new LDAvis(\"#\" + \"ldavis_el104791399702809837922630518806\", ldavis_el104791399702809837922630518806_data);\n",
       "   }(LDAvis);\n",
       "}else if(typeof define === \"function\" && define.amd){\n",
       "   // require.js is available: use it to load d3/LDAvis\n",
       "   require.config({paths: {d3: \"https://cdnjs.cloudflare.com/ajax/libs/d3/3.5.5/d3.min\"}});\n",
       "   require([\"d3\"], function(d3){\n",
       "      window.d3 = d3;\n",
       "      LDAvis_load_lib(\"https://cdn.rawgit.com/bmabey/pyLDAvis/files/ldavis.v1.0.0.js\", function(){\n",
       "        new LDAvis(\"#\" + \"ldavis_el104791399702809837922630518806\", ldavis_el104791399702809837922630518806_data);\n",
       "      });\n",
       "    });\n",
       "}else{\n",
       "    // require.js not available: dynamically load d3 & LDAvis\n",
       "    LDAvis_load_lib(\"https://cdnjs.cloudflare.com/ajax/libs/d3/3.5.5/d3.min.js\", function(){\n",
       "         LDAvis_load_lib(\"https://cdn.rawgit.com/bmabey/pyLDAvis/files/ldavis.v1.0.0.js\", function(){\n",
       "                 new LDAvis(\"#\" + \"ldavis_el104791399702809837922630518806\", ldavis_el104791399702809837922630518806_data);\n",
       "            })\n",
       "         });\n",
       "}\n",
       "</script>"
      ],
      "text/plain": [
       "PreparedData(topic_coordinates=              x         y  topics  cluster       Freq\n",
       "topic                                                \n",
       "6      0.275457  0.006838       1        1  11.475982\n",
       "3     -0.032382  0.022008       2        1  11.282443\n",
       "4     -0.178213 -0.184741       3        1  10.695989\n",
       "2     -0.133887  0.012020       4        1  10.602156\n",
       "9     -0.057082  0.130097       5        1  10.205703\n",
       "1      0.197868 -0.062770       6        1   9.759082\n",
       "7      0.102703  0.035973       7        1   9.560437\n",
       "5     -0.093878  0.206187       8        1   9.273885\n",
       "8     -0.091224 -0.046980       9        1   8.682150\n",
       "0      0.010640 -0.118631      10        1   8.462173, topic_info=     Category        Freq         Term       Total  loglift  logprob\n",
       "1621  Default  117.000000          van  117.000000  30.0000  30.0000\n",
       "683   Default  101.000000         gogh  101.000000  29.0000  29.0000\n",
       "1248  Default  109.000000      picasso  109.000000  28.0000  28.0000\n",
       "59    Default  141.000000          app  141.000000  27.0000  27.0000\n",
       "1087  Default  129.000000        monet  129.000000  26.0000  26.0000\n",
       "...       ...         ...          ...         ...      ...      ...\n",
       "1247  Topic10   23.784006          pic  233.932064   0.1835  -4.2625\n",
       "921   Topic10   18.888587        kunst  121.127802   0.6113  -4.4930\n",
       "997   Topic10   10.919228        lohnt   26.065192   1.5995  -5.0410\n",
       "110   Topic10   15.254284  ausstellung  234.862118  -0.2646  -4.7067\n",
       "672   Topic10   10.371081         gibt   47.962541   0.9382  -5.0925\n",
       "\n",
       "[582 rows x 6 columns], token_table=      Topic      Freq         Term\n",
       "term                              \n",
       "3         2  0.049374      absolut\n",
       "3         9  0.888736      absolut\n",
       "5         3  0.933529  abstraction\n",
       "7         2  0.367162  abstraktion\n",
       "7         3  0.629421  abstraktion\n",
       "...     ...       ...          ...\n",
       "1794      2  0.111729      zeitung\n",
       "1794      4  0.111729      zeitung\n",
       "1794      8  0.167594      zeitung\n",
       "1794      9  0.558647      zeitung\n",
       "1805      1  0.918472      zuhause\n",
       "\n",
       "[1218 rows x 3 columns], R=30, lambda_step=0.01, plot_opts={'xlab': 'PC1', 'ylab': 'PC2'}, topic_order=[7, 4, 5, 3, 10, 2, 8, 6, 9, 1])"
      ]
     },
     "execution_count": 87,
     "metadata": {},
     "output_type": "execute_result"
    }
   ],
   "source": [
    "p = pyLDAvis.sklearn.prepare(lda_tfidf, dtm_tfidf, tfidf_vectorizer)\n",
    "pyLDAvis.save_html(p, 'topics_tfidf.html')\n",
    "p"
   ]
  },
  {
   "cell_type": "markdown",
   "metadata": {},
   "source": [
    "### Nächste Schritte:\n",
    "\n",
    "- LDA Algorithmus besser verstehen\n",
    "- Weitere Algorithmen ausprobieren\n",
    "- Prototyp in PowerBI integrieren (Zeiträume und Datenquellen auswählbar. Vllt auch Algorithmus auswählbar)\n",
    "- Feedback und Verbesserungen\n",
    "\n",
    "### Offene Fragen:\n",
    "\n",
    "- Wie können wir einen guten Vergleich zwischen Zeiträumen bzw. eine Betrachtung der zeitlichen Entwicklung ermöglichen?"
   ]
  },
  {
   "cell_type": "code",
   "execution_count": null,
   "metadata": {},
   "outputs": [],
   "source": []
  },
  {
   "cell_type": "markdown",
   "metadata": {},
   "source": [
    "# LDA"
   ]
  },
  {
   "cell_type": "code",
   "execution_count": 108,
   "metadata": {},
   "outputs": [],
   "source": [
    "from sklearn.feature_extraction.text import CountVectorizer, TfidfVectorizer\n",
    "from sklearn.decomposition import LatentDirichletAllocation, NMF\n",
    "from stop_words import get_stop_words\n",
    "import pandas as pd\n",
    "import numpy as np\n",
    "import datetime as dt\n",
    "\n",
    "    \n",
    "def cluster(train, data, model_name):\n",
    "    \"\"\"\n",
    "    Input: train Liste von Tupeln (id, text). data ist dataframe\n",
    "    Output: Tupel (Liste von Tupeln (id, topic), Liste von Tupeln (topic, Liste top words))\n",
    "    \"\"\"\n",
    "    \n",
    "    training_texts = [elem[1] for elem in train]\n",
    "    (lda, tf_vectorizer, dtm_tf) = get_models(training_texts)\n",
    "    # (lda, tf_vectorizer, dtm_tf), (nmf, tfidf_vectorizer, dtm_tfidf) = get_models(texts)\n",
    "    \n",
    "    top_words_lda = get_top_words_for_topics(lda, tf_vectorizer, 30)\n",
    "    # top_words_nmf = get_top_words_for_topics(nmf, tfidf_vectorizer, 30)\n",
    "    \n",
    "    text_topics_lda = get_topic_for_texts(lda, tf_vectorizer, data[\"text\"].to_list())\n",
    "    # text_topics_nfm = get_topic_for_texts(nmf, dtm_tfidf)\n",
    "    \n",
    "    # top words for topics: df with cols topic, word, position\n",
    "    temp = []\n",
    "    for topic, words in top_words_lda:\n",
    "        for i, word in enumerate(words):\n",
    "            temp.append({'topic': topic, 'term': word, 'position': i, 'model': model_name})\n",
    "    topics = pd.DataFrame(temp)\n",
    "    \n",
    "    # topics for text: df with cols id, text, topic\n",
    "    temp = pd.DataFrame([d[1] for d in text_topics_lda], columns=[\"topic\"])\n",
    "    temp.index += 1\n",
    "    temp[\"model\"] = model_name\n",
    "    texts = pd.merge(text_data, temp, left_index=True, right_index=True)\n",
    "\n",
    "    return topics, texts\n",
    "\n",
    "def get_models(texts):\n",
    "    stop_words = [\n",
    "        *get_stop_words(\"german\"),\n",
    "        *get_stop_words(\"english\"),\n",
    "        *[\"http\", \"https\", \"www\", \"com\", \"de\", \"google\", \"translated\", \"twitter\", \"fur\", \"uber\", \"html\", \"barberini\", \"museumbarberini\", \"museum\"]\n",
    "    ]\n",
    "\n",
    "    # -------- LDA with tf vectorizer ---------\n",
    "    tf_vectorizer = CountVectorizer(strip_accents = 'unicode',\n",
    "                                    stop_words = stop_words,\n",
    "                                    lowercase = True,\n",
    "                                    token_pattern = r'\\b[a-zA-Z]{3,}\\b',\n",
    "                                    max_df = 0.5, \n",
    "                                    min_df = 10,\n",
    "                                    max_features=2000)\n",
    "    dtm = tf_vectorizer.fit_transform(texts)\n",
    "    lda = LatentDirichletAllocation(\n",
    "        n_components=10, max_iter=5, learning_method='online', \n",
    "        learning_offset=50.,random_state=0\n",
    "    ).fit(dtm)\n",
    "    \n",
    "    return lda, tf_vectorizer, dtm\n",
    "\n",
    "    # -------- NMF with tfidf vectorizer -----------\n",
    "    # tfidf_vectorizer = TfidfVectorizer(**tf_vectorizer.get_params())\n",
    "    # tfidf = tfidf_vectorizer.fit_transform(texts)\n",
    "    # nmf = NMF(n_components=7, random_state=1, \n",
    "    #     alpha=.1, l1_ratio=.5, init='nndsvd'\n",
    "    # ).fit(dtm)\n",
    "    # \n",
    "    # return (lda, tf_vectorizer, dtm), (nmf, tfidf_vectorizer, tfidf)\n",
    "\n",
    "def get_top_words_for_topics(model, vectorizer, no_top_words):\n",
    "    feature_names = vectorizer.get_feature_names()\n",
    "    out = []\n",
    "    for topic_idx, topic in enumerate(model.components_):\n",
    "        out.append(\n",
    "            (topic_idx, [feature_names[i] for i in topic.argsort()[:-no_top_words - 1:-1]])\n",
    "        )\n",
    "    return out\n",
    "\n",
    "def get_topic_for_texts(model, vectorizer, texts):\n",
    "    dtm = vectorizer.transform(texts)\n",
    "    out = []\n",
    "    doc_topic = model.transform(dtm)\n",
    "    for n in range(doc_topic.shape[0]):\n",
    "        topic_most_pr = doc_topic[n].argmax()\n",
    "        out.append((n, topic_most_pr))\n",
    "    return out"
   ]
  },
  {
   "cell_type": "code",
   "execution_count": 109,
   "metadata": {},
   "outputs": [],
   "source": [
    "text_data = pd.read_csv(\"text_data.csv\").dropna()\n",
    "text_data[\"post_date\"] = pd.to_datetime(text_data[\"post_date\"])"
   ]
  },
  {
   "cell_type": "code",
   "execution_count": 110,
   "metadata": {},
   "outputs": [
    {
     "name": "stderr",
     "output_type": "stream",
     "text": [
      "/home/tom/.local/lib/python3.6/site-packages/sklearn/feature_extraction/text.py:300: UserWarning: Your stop_words may be inconsistent with your preprocessing. Tokenizing the stop words generated tokens ['aren', 'can', 'couldn', 'didn', 'doesn', 'don', 'hadn', 'hasn', 'haven', 'isn', 'konnen', 'konnte', 'let', 'mustn', 'shan', 'shouldn', 'wahrend', 'wasn', 'weren', 'won', 'wouldn', 'wurde', 'wurden'] not in stop_words.\n",
      "  'stop_words.' % sorted(inconsistent))\n"
     ]
    }
   ],
   "source": [
    "# train topic model on all the data\n",
    "texts = [(i, t) for i, t in enumerate(text_data[\"text\"].to_list())]\n",
    "topics, texts = cluster(texts, text_data, \"full\")"
   ]
  },
  {
   "cell_type": "code",
   "execution_count": 111,
   "metadata": {},
   "outputs": [
    {
     "name": "stderr",
     "output_type": "stream",
     "text": [
      "/home/tom/.local/lib/python3.6/site-packages/sklearn/feature_extraction/text.py:300: UserWarning: Your stop_words may be inconsistent with your preprocessing. Tokenizing the stop words generated tokens ['aren', 'can', 'couldn', 'didn', 'doesn', 'don', 'hadn', 'hasn', 'haven', 'isn', 'konnen', 'konnte', 'let', 'mustn', 'shan', 'shouldn', 'wahrend', 'wasn', 'weren', 'won', 'wouldn', 'wurde', 'wurden'] not in stop_words.\n",
      "  'stop_words.' % sorted(inconsistent))\n"
     ]
    }
   ],
   "source": [
    "# train topic model on data from 2019\n",
    "data_2019 = text_data[text_data['post_date'].dt.year == 2019]\n",
    "texts_2019 = [(i,t) for i,t in enumerate(data_2019[\"text\"].to_list())]\n",
    "topics_2019, texts_2019 = cluster(texts_2019, text_data, \"2019\")"
   ]
  },
  {
   "cell_type": "code",
   "execution_count": 112,
   "metadata": {},
   "outputs": [],
   "source": [
    "pd.concat([topics, topics_2019]).to_csv(\"topics_and_terms.csv\")\n",
    "pd.concat([texts, texts_2019]).to_csv(\"topics_and_texts.csv\")"
   ]
  },
  {
   "cell_type": "code",
   "execution_count": null,
   "metadata": {},
   "outputs": [],
   "source": []
  },
  {
   "cell_type": "code",
   "execution_count": null,
   "metadata": {},
   "outputs": [],
   "source": []
  },
  {
   "cell_type": "code",
   "execution_count": null,
   "metadata": {},
   "outputs": [],
   "source": []
  },
  {
   "cell_type": "markdown",
   "metadata": {},
   "source": [
    "# GSDMM\n",
    "\n",
    "### Resources\n",
    "\n",
    "- The GSDMM paper: http://dbgroup.cs.tsinghua.edu.cn/wangjy/papers/KDD14-GSDMM.pdf\n",
    "- A blog post about STTM: https://towardsdatascience.com/short-text-topic-modeling-70e50a57c883\n",
    "- The gsdmm python package: https://github.com/rwalk/gsdmm"
   ]
  },
  {
   "cell_type": "code",
   "execution_count": 1,
   "metadata": {},
   "outputs": [],
   "source": [
    "from stop_words import get_stop_words\n",
    "import pickle\n",
    "import pandas as pd\n",
    "import numpy as np\n",
    "from gsdmm import MovieGroupProcess\n",
    "from nltk.tokenize import word_tokenize, MWETokenizer\n",
    "import nltk\n",
    "from collections import defaultdict\n",
    "import langdetect\n",
    "from pprint import pprint\n",
    "\n",
    "class Doc:\n",
    "    def __init__(self, text, source, post_date):\n",
    "        self.text = text\n",
    "        self.source = source\n",
    "        self.post_date = post_date\n",
    "        self.tokens = None\n",
    "        self.topic = None\n",
    "        self.model_name = None\n",
    "        self.language = None\n",
    "    \n",
    "    def in_year(self, year):\n",
    "        if year == \"all\":\n",
    "            return True\n",
    "        return year in self.post_date\n",
    "        \n",
    "    def too_short(self):\n",
    "        return len(self.tokens) <= 2\n",
    "    \n",
    "    def predict(self, model, model_name):\n",
    "        self.topic = model.choose_best_label(self.tokens)[0]\n",
    "        self.model_name = model_name\n",
    "        \n",
    "    def to_dict(self):\n",
    "        return {\n",
    "            \"text\": self.text,\n",
    "            \"source\": self.source,\n",
    "            \"post_date\": self.post_date,\n",
    "            \"topic\": self.topic,\n",
    "            \"model_name\": self.model_name\n",
    "        }"
   ]
  },
  {
   "cell_type": "code",
   "execution_count": 2,
   "metadata": {},
   "outputs": [],
   "source": [
    "def preprocess(docs):\n",
    "    \"\"\"\n",
    "    docs: list of Doc objects\n",
    "    \n",
    "    returns: list of relevant Doc objects, pre-processed\n",
    "    \"\"\"\n",
    "    \n",
    "    # remove leading \"None\" (introduced by DB export)\n",
    "    for doc in docs:\n",
    "        doc.text = doc.text.replace(\"None \", \"\", 1)\n",
    "    \n",
    "    # lowercasing\n",
    "    for doc in docs:\n",
    "        doc.tokens = doc.text.lower()\n",
    "\n",
    "    # detect language\n",
    "    for doc in docs:\n",
    "        try:\n",
    "            doc.language = langdetect.detect(doc.text)\n",
    "        except:\n",
    "            print(doc.to_dict())\n",
    "\n",
    "    # consider only german docs\n",
    "    docs = [doc for doc in docs if doc.language == \"de\"]\n",
    "            \n",
    "    # tokenize\n",
    "    for doc in docs:\n",
    "        doc.tokens = word_tokenize(doc.tokens)\n",
    "        \n",
    "    # re-tokenize so that some names are not broken into multiple tokens\n",
    "    tokenizer = MWETokenizer([\n",
    "        (\"van\", \"gogh\"), (\"museum\", \"barberini\"), (\"museum\", \"barberini\", \"potsdam\"),\n",
    "        (\"max\", \"beckmann\"), (\"wege\", \"des\", \"barock\")\n",
    "    ])\n",
    "    for doc in docs:\n",
    "        doc.tokens = tokenizer.tokenize(doc.tokens)\n",
    "    \n",
    "    # remove stop words\n",
    "    stop_words = [\n",
    "            *get_stop_words(\"german\"),\n",
    "            *get_stop_words(\"english\"),\n",
    "            *[\"http\", \"https\", \"www\", \"com\", \"de\", \"google\", \"translated\", \n",
    "              \"twitter\", \"fur\", \"uber\", \"html\", \"barberini\", \n",
    "              \"museumbarberini\", \"museum\", \"ausstellung\", \"ausstellungen\",\n",
    "              \"potsdam\"]\n",
    "    ]\n",
    "    for doc in docs:\n",
    "        doc.tokens = [token for token in doc.tokens if token not in stop_words]\n",
    "\n",
    "    # stemming\n",
    "    #stemmer = nltk.stem.cistem.Cistem()\n",
    "    #for doc in docs:\n",
    "    #    doc.tokens = [stemmer.stem(token) for token in doc.tokens]\n",
    "        \n",
    "    # keep only alphabetical tokens\n",
    "    for doc in docs:\n",
    "        doc.tokens = [token for token in doc.tokens if token.isalpha()]\n",
    "        \n",
    "    # remove single-digit tokens\n",
    "    for doc in docs:\n",
    "        doc.tokens = [token for token in doc.tokens if len(token) > 1]\n",
    "    \n",
    "    # remove tokens that appear only once\n",
    "    tokens = defaultdict(lambda: 0)\n",
    "    for doc in docs:\n",
    "        for token in doc.tokens:\n",
    "            tokens[token] += 1\n",
    "    for doc in docs:\n",
    "        for token in doc.tokens:\n",
    "            if tokens[token] == 1:\n",
    "                doc.tokens.remove(token)\n",
    "                \n",
    "    # remove docs with less than three tokens\n",
    "    docs = [doc for doc in docs if not doc.too_short()]\n",
    "            \n",
    "    return docs\n",
    "\n",
    "def print_stats(docs):\n",
    "    print(f\"number of documents: {len(docs)}\")\n",
    "    vocab = set(x for doc in docs for x in doc.tokens)\n",
    "    n_terms = len(vocab)\n",
    "    print(f\"vocabulary size: {n_terms}\")\n",
    "    \n",
    "def train_mgp(docs, K=50, alpha=0.1, beta=0.1, n_iters=10):\n",
    "    mgp = MovieGroupProcess(K=K, alpha=alpha, beta=beta, n_iters=n_iters)\n",
    "\n",
    "    vocab = set(x for doc in docs for x in doc.tokens)\n",
    "    n_terms = len(vocab)\n",
    "    \n",
    "    y = mgp.fit([doc.tokens for doc in docs], n_terms)\n",
    "\n",
    "    # Save model\n",
    "    with open(\"topic_model.pkl\", \"wb\") as f:\n",
    "        pickle.dump(mgp, f)\n",
    "        f.close()\n",
    "        \n",
    "    return mgp\n",
    "\n",
    "def top_terms(model, n=20):\n",
    "    \n",
    "    return [\n",
    "        sorted(list(doc_dist.items()), key = lambda x: x[1], reverse=True)[:n]\n",
    "        for doc_dist in model.cluster_word_distribution\n",
    "    ]\n",
    "\n",
    "def get_dfs(model, docs, model_name=\"all\"):\n",
    "    # text,source,post_date,topic,model\n",
    "    for doc in docs:\n",
    "        doc.predict(model, model_name)\n",
    "    text_df = pd.DataFrame([doc.to_dict() for doc in docs])\n",
    "\n",
    "    # topic,term,count,model\n",
    "    out = []\n",
    "    for i, topic_terms in enumerate(top_terms(model)):\n",
    "        for term in topic_terms:\n",
    "            out.append({\n",
    "                \"topic\": i,\n",
    "                \"term\": term[0],\n",
    "                \"count\": term[1],\n",
    "                \"model\": model_name\n",
    "            })\n",
    "    topic_df = pd.DataFrame(out)\n",
    "    \n",
    "    # topic,model,title\n",
    "    out = []\n",
    "    top = top_terms(model)\n",
    "    for i in range(len(top)):\n",
    "        out.append({\n",
    "            \"model\": model_name,\n",
    "            \"topic\": i,\n",
    "            \"title\": max(top[i], key=lambda x: x[1])[0] if top[i] else None\n",
    "        })\n",
    "    title_df = pd.DataFrame(out)\n",
    "    \n",
    "    return topic_df, text_df, title_df\n",
    "    "
   ]
  },
  {
   "cell_type": "code",
   "execution_count": 3,
   "metadata": {},
   "outputs": [
    {
     "name": "stdout",
     "output_type": "stream",
     "text": [
      "reading data..\n",
      "creating list of Docs..\n",
      "preprocessing..\n",
      "{'text': '👍', 'source': 'twitter', 'post_date': '2018-05-15 09:09:44', 'topic': None, 'model_name': None}\n",
      "{'text': '♥️', 'source': 'google_maps', 'post_date': '2019-06-01 00:00:00', 'topic': None, 'model_name': None}\n",
      "{'text': 'https://jachwe.com/2019/11/24/rauchverordnung-am-rande-des-neuen-biedermeiers/\\xa0…', 'source': 'twitter', 'post_date': '2019-11-24 07:06:13', 'topic': None, 'model_name': None}\n",
      "{'text': '🐞🐞🐞🐞🐞🐞🐞🐞🐞🐞🐞🐞🐞🐞🐞🐞🐞🐞🐞🐞🐞🐞😂😂😂😂😂😂😂😂😂😂😂😂😂😂😂\\nGute Nacht Ihr Lieben!', 'source': 'twitter', 'post_date': '2017-01-27 21:47:03', 'topic': None, 'model_name': None}\n",
      "{'text': '😊', 'source': 'twitter', 'post_date': '2018-05-04 13:48:22', 'topic': None, 'model_name': None}\n",
      "{'text': '♡', 'source': 'google_maps', 'post_date': '2019-12-05 00:00:00', 'topic': None, 'model_name': None}\n",
      "{'text': 'http://m.maz-online.de/Nachrichten/Kultur/Kurator-Dietmar-Elger-zur-Gerhard-Richter-Ausstellung-im-Museum-Barberini-in-Potsdam\\xa0…', 'source': 'twitter', 'post_date': '2018-06-22 20:25:37', 'topic': None, 'model_name': None}\n",
      "{'text': '🤗', 'source': 'twitter', 'post_date': '2017-09-03 11:55:45', 'topic': None, 'model_name': None}\n",
      "{'text': '❤️', 'source': 'twitter', 'post_date': '2019-11-16 08:20:54', 'topic': None, 'model_name': None}\n",
      "{'text': '🌍🎭🙏', 'source': 'twitter', 'post_date': '2018-04-05 10:08:42', 'topic': None, 'model_name': None}\n",
      "{'text': '👍', 'source': 'twitter', 'post_date': '2020-02-03 14:46:46', 'topic': None, 'model_name': None}\n",
      "{'text': '👌👌👌', 'source': 'google_maps', 'post_date': '2019-08-03 00:00:00', 'topic': None, 'model_name': None}\n",
      "{'text': '🐀', 'source': 'twitter', 'post_date': '2017-05-28 16:50:29', 'topic': None, 'model_name': None}\n",
      "{'text': 'http://www.mai-tagung.lvr.de/de/programm_1/programm_6.html\\xa0…', 'source': 'twitter', 'post_date': '2018-03-16 12:14:12', 'topic': None, 'model_name': None}\n",
      "{'text': '👍', 'source': 'google_maps', 'post_date': '2019-11-11 00:00:00', 'topic': None, 'model_name': None}\n",
      "{'text': 'https://twitter.com/Floskelwolke/status/1149702312392384512?s=19\\xa0…', 'source': 'twitter', 'post_date': '2019-07-12 16:10:21', 'topic': None, 'model_name': None}\n",
      "{'text': 'https://www.inforadio.de/medienpartnerschaften/teaser_podiumsdiskussion/glaube-und-wissenschaft-im-dialog.html\\xa0…', 'source': 'twitter', 'post_date': '2019-09-02 12:14:19', 'topic': None, 'model_name': None}\n",
      "{'text': '😂😉', 'source': 'twitter', 'post_date': '2019-08-26 05:07:28', 'topic': None, 'model_name': None}\n",
      "{'text': '😘', 'source': 'twitter', 'post_date': '2017-09-18 10:42:32', 'topic': None, 'model_name': None}\n",
      "{'text': 'https://www.welt.de/kultur/kunst/plus206279269/111-Millionen-Gemaelde-Hasso-Plattners-Monet-fuer-Potsdam.html\\xa0…', 'source': 'twitter', 'post_date': '2020-03-03 12:45:59', 'topic': None, 'model_name': None}\n",
      "{'text': '😎😎', 'source': 'twitter', 'post_date': '2017-04-01 12:41:21', 'topic': None, 'model_name': None}\n",
      "{'text': '😎', 'source': 'twitter', 'post_date': '2018-03-18 14:42:45', 'topic': None, 'model_name': None}\n",
      "{'text': '❤️', 'source': 'twitter', 'post_date': '2017-10-12 17:01:50', 'topic': None, 'model_name': None}\n",
      "{'text': '😍😍😍', 'source': 'google_maps', 'post_date': '2019-04-25 00:00:00', 'topic': None, 'model_name': None}\n",
      "{'text': '😍', 'source': 'twitter', 'post_date': '2020-03-20 10:57:01', 'topic': None, 'model_name': None}\n",
      "{'text': '😊', 'source': 'twitter', 'post_date': '2018-05-15 07:34:09', 'topic': None, 'model_name': None}\n",
      "number of documents: 4745\n",
      "vocabulary size: 5869\n"
     ]
    }
   ],
   "source": [
    "# read data\n",
    "print(\"reading data..\")\n",
    "data = pd.read_csv(\"../text_data.csv\").dropna()\n",
    "\n",
    "# exclude facebook posts\n",
    "data = data[data[\"source\"] != \"facebook\"]\n",
    "\n",
    "# create list of Docs\n",
    "print(\"creating list of Docs..\")\n",
    "docs = []\n",
    "for row in data.itertuples():\n",
    "    docs.append(Doc(row.text, row.source, row.post_date))\n",
    "    \n",
    "# preprocessing\n",
    "print(\"preprocessing..\")\n",
    "relevant_docs = preprocess(docs)\n",
    "print_stats(relevant_docs)"
   ]
  },
  {
   "cell_type": "code",
   "execution_count": 5,
   "metadata": {},
   "outputs": [
    {
     "name": "stdout",
     "output_type": "stream",
     "text": [
      "training model 'all'\n",
      "In stage 0: transferred 3923 clusters with 15 clusters populated\n",
      "In stage 1: transferred 2435 clusters with 15 clusters populated\n",
      "In stage 2: transferred 1715 clusters with 15 clusters populated\n",
      "In stage 3: transferred 1406 clusters with 15 clusters populated\n",
      "In stage 4: transferred 1280 clusters with 15 clusters populated\n",
      "In stage 5: transferred 1184 clusters with 15 clusters populated\n",
      "In stage 6: transferred 1068 clusters with 15 clusters populated\n",
      "In stage 7: transferred 1055 clusters with 15 clusters populated\n",
      "In stage 8: transferred 968 clusters with 15 clusters populated\n",
      "In stage 9: transferred 952 clusters with 15 clusters populated\n",
      "In stage 10: transferred 880 clusters with 15 clusters populated\n",
      "In stage 11: transferred 884 clusters with 15 clusters populated\n",
      "In stage 12: transferred 891 clusters with 15 clusters populated\n",
      "In stage 13: transferred 882 clusters with 15 clusters populated\n",
      "In stage 14: transferred 823 clusters with 15 clusters populated\n",
      "training model '2020'\n",
      "In stage 0: transferred 434 clusters with 10 clusters populated\n",
      "In stage 1: transferred 255 clusters with 10 clusters populated\n",
      "In stage 2: transferred 166 clusters with 10 clusters populated\n",
      "In stage 3: transferred 119 clusters with 10 clusters populated\n",
      "In stage 4: transferred 120 clusters with 10 clusters populated\n",
      "In stage 5: transferred 126 clusters with 10 clusters populated\n",
      "In stage 6: transferred 112 clusters with 10 clusters populated\n",
      "In stage 7: transferred 105 clusters with 10 clusters populated\n",
      "In stage 8: transferred 92 clusters with 10 clusters populated\n",
      "In stage 9: transferred 110 clusters with 10 clusters populated\n",
      "In stage 10: transferred 120 clusters with 10 clusters populated\n",
      "In stage 11: transferred 99 clusters with 10 clusters populated\n",
      "In stage 12: transferred 100 clusters with 10 clusters populated\n",
      "In stage 13: transferred 98 clusters with 10 clusters populated\n",
      "In stage 14: transferred 101 clusters with 10 clusters populated\n",
      "training model '2019'\n",
      "In stage 0: transferred 952 clusters with 10 clusters populated\n",
      "In stage 1: transferred 516 clusters with 10 clusters populated\n",
      "In stage 2: transferred 357 clusters with 10 clusters populated\n",
      "In stage 3: transferred 304 clusters with 10 clusters populated\n",
      "In stage 4: transferred 262 clusters with 10 clusters populated\n",
      "In stage 5: transferred 261 clusters with 10 clusters populated\n",
      "In stage 6: transferred 261 clusters with 10 clusters populated\n",
      "In stage 7: transferred 231 clusters with 10 clusters populated\n",
      "In stage 8: transferred 233 clusters with 10 clusters populated\n",
      "In stage 9: transferred 215 clusters with 10 clusters populated\n",
      "In stage 10: transferred 216 clusters with 10 clusters populated\n",
      "In stage 11: transferred 204 clusters with 10 clusters populated\n",
      "In stage 12: transferred 211 clusters with 10 clusters populated\n",
      "In stage 13: transferred 192 clusters with 10 clusters populated\n",
      "In stage 14: transferred 189 clusters with 10 clusters populated\n",
      "training model '2018'\n",
      "In stage 0: transferred 926 clusters with 10 clusters populated\n",
      "In stage 1: transferred 539 clusters with 10 clusters populated\n",
      "In stage 2: transferred 353 clusters with 10 clusters populated\n",
      "In stage 3: transferred 280 clusters with 10 clusters populated\n",
      "In stage 4: transferred 271 clusters with 10 clusters populated\n",
      "In stage 5: transferred 226 clusters with 10 clusters populated\n",
      "In stage 6: transferred 231 clusters with 10 clusters populated\n",
      "In stage 7: transferred 217 clusters with 10 clusters populated\n",
      "In stage 8: transferred 224 clusters with 10 clusters populated\n",
      "In stage 9: transferred 215 clusters with 10 clusters populated\n",
      "In stage 10: transferred 210 clusters with 10 clusters populated\n",
      "In stage 11: transferred 187 clusters with 10 clusters populated\n",
      "In stage 12: transferred 191 clusters with 10 clusters populated\n",
      "In stage 13: transferred 192 clusters with 10 clusters populated\n",
      "In stage 14: transferred 198 clusters with 10 clusters populated\n",
      "training model '2017'\n",
      "In stage 0: transferred 1264 clusters with 10 clusters populated\n",
      "In stage 1: transferred 712 clusters with 10 clusters populated\n",
      "In stage 2: transferred 510 clusters with 10 clusters populated\n",
      "In stage 3: transferred 466 clusters with 10 clusters populated\n",
      "In stage 4: transferred 401 clusters with 10 clusters populated\n",
      "In stage 5: transferred 382 clusters with 10 clusters populated\n",
      "In stage 6: transferred 369 clusters with 10 clusters populated\n",
      "In stage 7: transferred 303 clusters with 10 clusters populated\n",
      "In stage 8: transferred 314 clusters with 10 clusters populated\n",
      "In stage 9: transferred 319 clusters with 10 clusters populated\n",
      "In stage 10: transferred 304 clusters with 10 clusters populated\n",
      "In stage 11: transferred 337 clusters with 10 clusters populated\n",
      "In stage 12: transferred 311 clusters with 10 clusters populated\n",
      "In stage 13: transferred 298 clusters with 10 clusters populated\n",
      "In stage 14: transferred 301 clusters with 10 clusters populated\n",
      "training model '2016'\n",
      "In stage 0: transferred 97 clusters with 10 clusters populated\n",
      "In stage 1: transferred 50 clusters with 10 clusters populated\n",
      "In stage 2: transferred 33 clusters with 10 clusters populated\n",
      "In stage 3: transferred 41 clusters with 10 clusters populated\n",
      "In stage 4: transferred 45 clusters with 10 clusters populated\n",
      "In stage 5: transferred 45 clusters with 10 clusters populated\n",
      "In stage 6: transferred 36 clusters with 10 clusters populated\n",
      "In stage 7: transferred 39 clusters with 10 clusters populated\n",
      "In stage 8: transferred 39 clusters with 10 clusters populated\n",
      "In stage 9: transferred 42 clusters with 10 clusters populated\n",
      "In stage 10: transferred 49 clusters with 10 clusters populated\n",
      "In stage 11: transferred 42 clusters with 10 clusters populated\n",
      "In stage 12: transferred 41 clusters with 10 clusters populated\n",
      "In stage 13: transferred 43 clusters with 10 clusters populated\n",
      "In stage 14: transferred 35 clusters with 10 clusters populated\n",
      "writing dfs to disk..\n"
     ]
    }
   ],
   "source": [
    "# one model per year\n",
    "topics, texts, titles = [], [], []\n",
    "for model_name in [\"all\", \"2020\", \"2019\", \"2018\", \"2017\", \"2016\"]:\n",
    "    print(f\"training model '{model_name}'\")\n",
    "    \n",
    "    data_in_timespan = [doc for doc in relevant_docs if doc.in_year(model_name)]\n",
    "    if model_name == \"all\":\n",
    "        model = train_mgp(data_in_timespan, K=15, n_iters=15)\n",
    "    else:\n",
    "        model = train_mgp(data_in_timespan, K=10, n_iters=15)\n",
    "    topic_df, text_df, title_df = get_dfs(model, data_in_timespan, model_name)\n",
    "    \n",
    "    topics.append(topic_df)\n",
    "    texts.append(text_df)\n",
    "    titles.append(title_df)\n",
    "    \n",
    "print(\"writing dfs to disk..\")\n",
    "pd.concat(texts).to_csv(\"text_df_time_constraint.csv\")\n",
    "pd.concat(topics).to_csv(\"topic_df_time_constraint.csv\")\n",
    "pd.concat(titles).to_csv(\"title_df_time_constraint.csv\")"
   ]
  },
  {
   "cell_type": "code",
   "execution_count": null,
   "metadata": {
    "scrolled": true
   },
   "outputs": [],
   "source": []
  },
  {
   "cell_type": "code",
   "execution_count": 5,
   "metadata": {},
   "outputs": [],
   "source": [
    "# ideen:\n",
    "# - modell pro datenquelle\n",
    "# - facebook rausnehmen (weil texte auf facebook eher lang sind)"
   ]
  },
  {
   "cell_type": "code",
   "execution_count": null,
   "metadata": {},
   "outputs": [],
   "source": []
  },
  {
   "cell_type": "code",
   "execution_count": null,
   "metadata": {},
   "outputs": [],
   "source": []
  },
  {
   "cell_type": "code",
   "execution_count": null,
   "metadata": {},
   "outputs": [],
   "source": []
  },
  {
   "cell_type": "code",
   "execution_count": null,
   "metadata": {},
   "outputs": [],
   "source": []
  },
  {
   "cell_type": "code",
   "execution_count": null,
   "metadata": {},
   "outputs": [],
   "source": []
  }
 ],
 "metadata": {
  "kernelspec": {
   "display_name": "Python 3",
   "language": "python",
   "name": "python3"
  },
  "language_info": {
   "codemirror_mode": {
    "name": "ipython",
    "version": 3
   },
   "file_extension": ".py",
   "mimetype": "text/x-python",
   "name": "python",
   "nbconvert_exporter": "python",
   "pygments_lexer": "ipython3",
   "version": "3.6.9"
  }
 },
 "nbformat": 4,
 "nbformat_minor": 2
}
